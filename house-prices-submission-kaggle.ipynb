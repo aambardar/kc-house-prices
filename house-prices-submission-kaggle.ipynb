{
 "cells": [
  {
   "metadata": {},
   "cell_type": "markdown",
   "source": [
    "Academic Integrity and Learning Statement\n",
    "\n",
    "By submitting my work, I confirm that:\n",
    "\n",
    "1. The code, analysis, and documentation in this notebook are my own work and reflect my own understanding.\n",
    "2. I am prepared to explain all code and analysis included in this submission.\n",
    "\n",
    "If I used assistance (e.g., AI tools, tutors, or other resources), I have:\n",
    "\n",
    "- Clearly documented where and how external tools or resources were used in my solution.\n",
    "- Included a copy of the interaction (e.g., AI conversation or tutoring notes) in an appendix.\n",
    "\n",
    "I acknowledge that:\n",
    "\n",
    "- I may be asked to explain any part of my code or analysis during evaluation.\n",
    "- Misrepresenting assisted work as my own constitutes academic dishonesty and undermines my learning."
   ],
   "id": "71e8cdf0751690d6"
  },
  {
   "cell_type": "code",
   "id": "initial_id",
   "metadata": {
    "collapsed": true,
    "ExecuteTime": {
     "end_time": "2025-06-29T04:00:10.625604Z",
     "start_time": "2025-06-29T04:00:10.597384Z"
    }
   },
   "source": [
    "import numpy as np\n",
    "import os\n",
    "import pandas as pd\n",
    "import multiprocessing\n",
    "import subprocess\n",
    "\n",
    "from sklearn.model_selection import train_test_split\n",
    "from sklearn.metrics import mean_squared_error, r2_score\n",
    "import optuna\n",
    "import mlflow\n",
    "import tensorflow as tf\n",
    "import torch\n",
    "import platform"
   ],
   "outputs": [],
   "execution_count": 20
  },
  {
   "metadata": {
    "ExecuteTime": {
     "end_time": "2025-06-29T03:51:09.702271Z",
     "start_time": "2025-06-29T03:51:09.685536Z"
    }
   },
   "cell_type": "code",
   "source": [
    "# Enable auto-reload extension\n",
    "%load_ext autoreload\n",
    "# Automatically reload all modules before executing code\n",
    "%autoreload 2"
   ],
   "id": "c46da9c6fd73de53",
   "outputs": [],
   "execution_count": 3
  },
  {
   "metadata": {
    "ExecuteTime": {
     "end_time": "2025-06-29T03:51:54.360032Z",
     "start_time": "2025-06-29T03:51:53.921757Z"
    }
   },
   "cell_type": "code",
   "source": [
    "import base_utils_logging\n",
    "import proj_utils_data_loader\n",
    "import proj_configs\n",
    "import proj_utils\n",
    "import proj_utils_feat_engg\n",
    "import proj_utils_plots\n",
    "import proj_utils_model"
   ],
   "id": "88ba6ac1d373ffce",
   "outputs": [],
   "execution_count": 6
  },
  {
   "metadata": {
    "ExecuteTime": {
     "end_time": "2025-06-29T03:51:58.938250Z",
     "start_time": "2025-06-29T03:51:58.920464Z"
    }
   },
   "cell_type": "code",
   "source": [
    "import warnings\n",
    "warnings.filterwarnings(\"ignore\", category=UserWarning, module=\"matplotlib\")"
   ],
   "id": "f5129035565a3994",
   "outputs": [],
   "execution_count": 7
  },
  {
   "metadata": {
    "ExecuteTime": {
     "end_time": "2025-06-29T04:02:08.588593Z",
     "start_time": "2025-06-29T04:02:08.522569Z"
    }
   },
   "cell_type": "code",
   "source": [
    "# Check software specs\n",
    "dict_sw_version = {\n",
    "    'python': os.popen('python --version').read().strip(),\n",
    "    'numpy': np.__version__,\n",
    "    'pandas': pd.__version__,\n",
    "    'optuna': optuna.__version__,\n",
    "    'mlflow': mlflow.__version__,\n",
    "}\n",
    "\n",
    "for key, value in dict_sw_version.items():\n",
    "    print(f'{proj_utils_plots.beautify(key, 1)} version is: {proj_utils_plots.beautify(value)}')\n"
   ],
   "id": "6d24b286ccfc7d22",
   "outputs": [
    {
     "name": "stdout",
     "output_type": "stream",
     "text": [
      "\u001B[1m\u001B[32mpython\u001B[0m version is: \u001B[1m\u001B[35mPython 3.11.13\u001B[0m\n",
      "\u001B[1m\u001B[32mnumpy\u001B[0m version is: \u001B[1m\u001B[35m2.0.0\u001B[0m\n",
      "\u001B[1m\u001B[32mpandas\u001B[0m version is: \u001B[1m\u001B[35m2.2.3\u001B[0m\n",
      "\u001B[1m\u001B[32moptuna\u001B[0m version is: \u001B[1m\u001B[35m4.4.0\u001B[0m\n",
      "\u001B[1m\u001B[32mmlflow\u001B[0m version is: \u001B[1m\u001B[35m2.18.0\u001B[0m\n"
     ]
    }
   ],
   "execution_count": 21
  },
  {
   "metadata": {
    "ExecuteTime": {
     "end_time": "2025-06-29T04:07:04.129114Z",
     "start_time": "2025-06-29T04:07:03.852421Z"
    }
   },
   "cell_type": "code",
   "source": [
    "# Check hardware specs\n",
    "def get_mac_gpu_info():\n",
    "    try:\n",
    "        # Get system information about GPU\n",
    "        result = subprocess.run(['system_profiler', 'SPDisplaysDataType'],\n",
    "                              capture_output=True, text=True)\n",
    "        return result.stdout\n",
    "    except Exception as e:\n",
    "        return f\"Error getting GPU info: {e}\"\n",
    "\n",
    "# Check CPU cores\n",
    "print(f'CPU cores available to use: {proj_utils_plots.beautify(str(multiprocessing.cpu_count()))}')\n",
    "\n",
    "# Check MPS availability\n",
    "print(\"TensorFlow GPU devices:\", proj_utils_plots.beautify(tf.config.list_physical_devices('GPU')))\n",
    "print(f\"Processor: {proj_utils_plots.beautify(platform.processor())}\")\n",
    "print(f\"Machine: {proj_utils_plots.beautify(platform.machine())}\")\n",
    "\n",
    "print(\"PyTorch MPS (Metal) Status:\")\n",
    "print(f\"MPS available: {proj_utils_plots.beautify(torch.backends.mps.is_available())}\")\n",
    "print(f\"MPS built: {proj_utils_plots.beautify(str(torch.backends.mps.is_built()))}\")\n",
    "\n",
    "# Get detailed GPU information\n",
    "print(\"\\nDetailed GPU Information:\")\n",
    "print(get_mac_gpu_info())"
   ],
   "id": "337330b589c6a835",
   "outputs": [
    {
     "name": "stdout",
     "output_type": "stream",
     "text": [
      "CPU cores available to use: \u001B[1m\u001B[35m10\u001B[0m\n",
      "TensorFlow GPU devices: \u001B[1m\u001B[35m[]\u001B[0m\n",
      "Processor: \u001B[1m\u001B[35marm\u001B[0m\n",
      "Machine: \u001B[1m\u001B[35marm64\u001B[0m\n",
      "PyTorch MPS (Metal) Status:\n",
      "MPS available: \u001B[1m\u001B[35mTrue\u001B[0m\n",
      "MPS built: \u001B[1m\u001B[35mTrue\u001B[0m\n",
      "\n",
      "Detailed GPU Information:\n",
      "Graphics/Displays:\n",
      "\n",
      "    Apple M4:\n",
      "\n",
      "      Chipset Model: Apple M4\n",
      "      Type: GPU\n",
      "      Bus: Built-In\n",
      "      Total Number of Cores: 10\n",
      "      Vendor: Apple (0x106b)\n",
      "      Metal Support: Metal 3\n",
      "      Displays:\n",
      "        DELL U3425WE:\n",
      "          Resolution: 3440 x 1440 (UWQHD - Ultra-Wide Quad HD)\n",
      "          UI Looks like: 3440 x 1440 @ 100.00Hz\n",
      "          Main Display: Yes\n",
      "          Mirror: Off\n",
      "          Online: Yes\n",
      "          Rotation: Supported\n",
      "\n",
      "\n"
     ]
    }
   ],
   "execution_count": 28
  },
  {
   "metadata": {
    "ExecuteTime": {
     "end_time": "2025-06-29T04:07:47.212760Z",
     "start_time": "2025-06-29T04:07:47.171466Z"
    }
   },
   "cell_type": "code",
   "source": "base_utils_logging.setup_logging()",
   "id": "a31b0f710678697c",
   "outputs": [],
   "execution_count": 29
  },
  {
   "metadata": {
    "ExecuteTime": {
     "end_time": "2025-06-29T04:07:49.229728Z",
     "start_time": "2025-06-29T04:07:49.185524Z"
    }
   },
   "cell_type": "code",
   "source": "base_utils_logging.logger.info('Starting the application')",
   "id": "4e9d276c1b24d439",
   "outputs": [],
   "execution_count": 30
  },
  {
   "metadata": {
    "ExecuteTime": {
     "end_time": "2025-06-24T01:32:12.254507Z",
     "start_time": "2025-06-24T01:32:12.135089Z"
    }
   },
   "cell_type": "code",
   "source": "df_raw = proj_utils_data_loader.load_data(proj_configs.TRAIN_FILE)",
   "id": "eed9d9da9617bed0",
   "outputs": [],
   "execution_count": 20
  },
  {
   "metadata": {
    "ExecuteTime": {
     "end_time": "2025-06-24T01:32:13.145280Z",
     "start_time": "2025-06-24T01:32:13.081372Z"
    }
   },
   "cell_type": "code",
   "source": "df_raw.sample(3)",
   "id": "d3f3a25cad6101e2",
   "outputs": [
    {
     "data": {
      "text/plain": [
       "      Id  MSSubClass MSZoning  LotFrontage  LotArea Street Alley LotShape  \\\n",
       "765  766          20       RL         75.0    14587   Pave   NaN      IR1   \n",
       "138  139          60       RL         73.0     9066   Pave   NaN      IR1   \n",
       "585  586          20       RL         88.0    11443   Pave   NaN      Reg   \n",
       "\n",
       "    LandContour Utilities  ... PoolArea PoolQC  Fence MiscFeature MiscVal  \\\n",
       "765         Lvl    AllPub  ...        0    NaN    NaN         NaN       0   \n",
       "138         Lvl    AllPub  ...        0    NaN  GdPrv         NaN       0   \n",
       "585         Lvl    AllPub  ...        0    NaN    NaN         NaN       0   \n",
       "\n",
       "    MoSold YrSold  SaleType  SaleCondition  SalePrice  \n",
       "765      8   2008       New        Partial     264132  \n",
       "138     12   2008        WD         Normal     230000  \n",
       "585      3   2006       New        Partial     369900  \n",
       "\n",
       "[3 rows x 81 columns]"
      ],
      "text/html": [
       "<div>\n",
       "<style scoped>\n",
       "    .dataframe tbody tr th:only-of-type {\n",
       "        vertical-align: middle;\n",
       "    }\n",
       "\n",
       "    .dataframe tbody tr th {\n",
       "        vertical-align: top;\n",
       "    }\n",
       "\n",
       "    .dataframe thead th {\n",
       "        text-align: right;\n",
       "    }\n",
       "</style>\n",
       "<table border=\"1\" class=\"dataframe\">\n",
       "  <thead>\n",
       "    <tr style=\"text-align: right;\">\n",
       "      <th></th>\n",
       "      <th>Id</th>\n",
       "      <th>MSSubClass</th>\n",
       "      <th>MSZoning</th>\n",
       "      <th>LotFrontage</th>\n",
       "      <th>LotArea</th>\n",
       "      <th>Street</th>\n",
       "      <th>Alley</th>\n",
       "      <th>LotShape</th>\n",
       "      <th>LandContour</th>\n",
       "      <th>Utilities</th>\n",
       "      <th>...</th>\n",
       "      <th>PoolArea</th>\n",
       "      <th>PoolQC</th>\n",
       "      <th>Fence</th>\n",
       "      <th>MiscFeature</th>\n",
       "      <th>MiscVal</th>\n",
       "      <th>MoSold</th>\n",
       "      <th>YrSold</th>\n",
       "      <th>SaleType</th>\n",
       "      <th>SaleCondition</th>\n",
       "      <th>SalePrice</th>\n",
       "    </tr>\n",
       "  </thead>\n",
       "  <tbody>\n",
       "    <tr>\n",
       "      <th>765</th>\n",
       "      <td>766</td>\n",
       "      <td>20</td>\n",
       "      <td>RL</td>\n",
       "      <td>75.0</td>\n",
       "      <td>14587</td>\n",
       "      <td>Pave</td>\n",
       "      <td>NaN</td>\n",
       "      <td>IR1</td>\n",
       "      <td>Lvl</td>\n",
       "      <td>AllPub</td>\n",
       "      <td>...</td>\n",
       "      <td>0</td>\n",
       "      <td>NaN</td>\n",
       "      <td>NaN</td>\n",
       "      <td>NaN</td>\n",
       "      <td>0</td>\n",
       "      <td>8</td>\n",
       "      <td>2008</td>\n",
       "      <td>New</td>\n",
       "      <td>Partial</td>\n",
       "      <td>264132</td>\n",
       "    </tr>\n",
       "    <tr>\n",
       "      <th>138</th>\n",
       "      <td>139</td>\n",
       "      <td>60</td>\n",
       "      <td>RL</td>\n",
       "      <td>73.0</td>\n",
       "      <td>9066</td>\n",
       "      <td>Pave</td>\n",
       "      <td>NaN</td>\n",
       "      <td>IR1</td>\n",
       "      <td>Lvl</td>\n",
       "      <td>AllPub</td>\n",
       "      <td>...</td>\n",
       "      <td>0</td>\n",
       "      <td>NaN</td>\n",
       "      <td>GdPrv</td>\n",
       "      <td>NaN</td>\n",
       "      <td>0</td>\n",
       "      <td>12</td>\n",
       "      <td>2008</td>\n",
       "      <td>WD</td>\n",
       "      <td>Normal</td>\n",
       "      <td>230000</td>\n",
       "    </tr>\n",
       "    <tr>\n",
       "      <th>585</th>\n",
       "      <td>586</td>\n",
       "      <td>20</td>\n",
       "      <td>RL</td>\n",
       "      <td>88.0</td>\n",
       "      <td>11443</td>\n",
       "      <td>Pave</td>\n",
       "      <td>NaN</td>\n",
       "      <td>Reg</td>\n",
       "      <td>Lvl</td>\n",
       "      <td>AllPub</td>\n",
       "      <td>...</td>\n",
       "      <td>0</td>\n",
       "      <td>NaN</td>\n",
       "      <td>NaN</td>\n",
       "      <td>NaN</td>\n",
       "      <td>0</td>\n",
       "      <td>3</td>\n",
       "      <td>2006</td>\n",
       "      <td>New</td>\n",
       "      <td>Partial</td>\n",
       "      <td>369900</td>\n",
       "    </tr>\n",
       "  </tbody>\n",
       "</table>\n",
       "<p>3 rows × 81 columns</p>\n",
       "</div>"
      ]
     },
     "execution_count": 21,
     "metadata": {},
     "output_type": "execute_result"
    }
   ],
   "execution_count": 21
  },
  {
   "metadata": {
    "ExecuteTime": {
     "end_time": "2025-06-24T01:32:23.752449Z",
     "start_time": "2025-06-24T01:32:23.673509Z"
    }
   },
   "cell_type": "code",
   "source": "df_raw = proj_utils_data_loader.refactor_col_names(df_raw)",
   "id": "654f96a21abe775e",
   "outputs": [],
   "execution_count": 23
  },
  {
   "metadata": {
    "ExecuteTime": {
     "end_time": "2025-06-24T01:38:43.967756Z",
     "start_time": "2025-06-24T01:38:43.909926Z"
    }
   },
   "cell_type": "code",
   "source": [
    "# TODO: uncomment and comment below insignificant col list\n",
    "# insignificant_cols = ['Order', 'PID']\n",
    "insignificant_cols = ['Id']\n",
    "target_col = 'SalePrice'\n",
    "ignorables_cols = insignificant_cols + [target_col]\n",
    "ordinal_cols = ['LotShape', 'Utilities', 'LandSlope', 'OverallQual', 'OverallCond', 'ExterQual', 'ExterCond', 'BsmtQual', 'BsmtCond', 'BsmtExposure', 'BsmtFinType1', 'BsmtFinType2', 'HeatingQC', 'KitchenQual', 'FireplaceQu', 'GarageQual', 'GarageCond', 'PoolQC']\n",
    "temporal_cols_name_pattern = ['Yr', 'Year']"
   ],
   "id": "23d92e996dde6775",
   "outputs": [],
   "execution_count": 44
  },
  {
   "metadata": {
    "ExecuteTime": {
     "end_time": "2025-06-24T01:32:34.318469Z",
     "start_time": "2025-06-24T01:32:34.004507Z"
    }
   },
   "cell_type": "code",
   "source": [
    "n_cat_cardinality_threshold = proj_configs.CATEGORICAL_CARDINALITY_THRESHOLD_ABS\n",
    "threshold_type = 'ABS'\n",
    "feature_categories = proj_utils_feat_engg.classify_columns(df=df_raw, n_cat_threshold=n_cat_cardinality_threshold, threshold_type=threshold_type, cols_to_ignore=ignorables_cols, temporal_cols_name_pattern=temporal_cols_name_pattern, ordinal_cols=ordinal_cols)"
   ],
   "id": "a7a54181e30f958",
   "outputs": [],
   "execution_count": 25
  },
  {
   "metadata": {
    "ExecuteTime": {
     "end_time": "2025-06-24T01:32:35.955306Z",
     "start_time": "2025-06-24T01:32:35.872672Z"
    }
   },
   "cell_type": "code",
   "source": [
    "cols_num_continuous, n_num_continuous, cols_num_discrete, n_num_discrete, cols_cat_nominal, n_cat_nominal, cols_cat_ordinal, n_cat_ordinal, cols_object, n_object, cols_temporal, n_temporal, cols_binary, n_binary = proj_utils_feat_engg.get_cols_as_tuple(feature_categories)\n",
    "\n",
    "n_total = df_raw.shape[1] - len(ignorables_cols)\n",
    "\n",
    "print(f'='*80)\n",
    "print(f'Total raw columns = {proj_utils_plots.beautify(len(df_raw.columns))} \\nNumerical Continuous = {proj_utils_plots.beautify(n_num_continuous)} \\nNumerical Discrete = {proj_utils_plots.beautify(n_num_discrete)} \\nCategorical Nominal = {proj_utils_plots.beautify(n_cat_nominal)} \\nCategorical Ordinal = {proj_utils_plots.beautify(n_cat_ordinal)} \\nObject/String = {proj_utils_plots.beautify(n_object)} \\nTemporal = {proj_utils_plots.beautify(n_temporal)} \\nBinary = {proj_utils_plots.beautify(n_binary)}')\n",
    "\n",
    "print(f'='*80)\n",
    "print(f'Any inconsistencies detected?[True/False] = {proj_utils_plots.beautify(\"True\", 3) if n_total != len(df_raw.columns) - len(ignorables_cols) else proj_utils_plots.beautify(\"False\", 1)}')\n",
    "print(f'='*80)"
   ],
   "id": "5f5c9dd9c6a705f5",
   "outputs": [
    {
     "name": "stdout",
     "output_type": "stream",
     "text": [
      "================================================================================\n",
      "Total raw columns = \u001B[1m\u001B[35m81\u001B[0m \n",
      "Numerical Continuous = \u001B[1m\u001B[35m17\u001B[0m \n",
      "Numerical Discrete = \u001B[1m\u001B[35m13\u001B[0m \n",
      "Categorical Nominal = \u001B[1m\u001B[35m17\u001B[0m \n",
      "Categorical Ordinal = \u001B[1m\u001B[35m18\u001B[0m \n",
      "Object/String = \u001B[1m\u001B[35m7\u001B[0m \n",
      "Temporal = \u001B[1m\u001B[35m4\u001B[0m \n",
      "Binary = \u001B[1m\u001B[35m3\u001B[0m\n",
      "================================================================================\n",
      "Any inconsistencies detected?[True/False] = \u001B[1m\u001B[32mFalse\u001B[0m\n",
      "================================================================================\n"
     ]
    }
   ],
   "execution_count": 26
  },
  {
   "metadata": {
    "ExecuteTime": {
     "end_time": "2025-06-24T01:33:25.604843Z",
     "start_time": "2025-06-24T01:33:25.537979Z"
    }
   },
   "cell_type": "code",
   "source": [
    "# Calculate the number of NaN values for each column\n",
    "nan_counts = df_raw.isna().sum()\n",
    "\n",
    "# Filter only columns that have NaN values and sort by the number of NaNs\n",
    "cols_with_nans = nan_counts[nan_counts > 0].index.tolist()\n",
    "print(f'Columns with NaNs: = {proj_utils_plots.beautify(len(cols_with_nans))}/{proj_utils_plots.beautify(n_total)}')\n",
    "print(f'And they are: {cols_with_nans}')"
   ],
   "id": "37ae4437ee9b5313",
   "outputs": [
    {
     "name": "stdout",
     "output_type": "stream",
     "text": [
      "Columns with NaNs: = \u001B[1m\u001B[35m19\u001B[0m/\u001B[1m\u001B[35m77\u001B[0m\n",
      "And they are: ['LotFrontage', 'Alley', 'MasVnrType', 'MasVnrArea', 'BsmtQual', 'BsmtCond', 'BsmtExposure', 'BsmtFinType1', 'BsmtFinType2', 'Electrical', 'FireplaceQu', 'GarageType', 'GarageYrBlt', 'GarageFinish', 'GarageQual', 'GarageCond', 'PoolQC', 'Fence', 'MiscFeature']\n"
     ]
    }
   ],
   "execution_count": 27
  },
  {
   "metadata": {
    "ExecuteTime": {
     "end_time": "2025-06-24T01:33:33.385386Z",
     "start_time": "2025-06-24T01:33:33.270026Z"
    }
   },
   "cell_type": "code",
   "source": "df_cardinality = proj_utils_feat_engg.get_cardinality_df(df_raw)",
   "id": "11e8333c6ef675a6",
   "outputs": [],
   "execution_count": 28
  },
  {
   "metadata": {
    "ExecuteTime": {
     "end_time": "2025-06-24T01:33:34.666072Z",
     "start_time": "2025-06-24T01:33:34.596508Z"
    }
   },
   "cell_type": "code",
   "source": "df_cardinality",
   "id": "53b28a112abc4332",
   "outputs": [
    {
     "data": {
      "text/plain": [
       "                    col_name  notnull_pct  null_pct  unique_pct\n",
       "Id                        Id        1.000     0.000       1.000\n",
       "MSSubClass        MSSubClass        1.000     0.000       0.010\n",
       "MSZoning            MSZoning        1.000     0.000       0.003\n",
       "LotFrontage      LotFrontage        0.823     0.177       0.075\n",
       "LotArea              LotArea        1.000     0.000       0.735\n",
       "...                      ...          ...       ...         ...\n",
       "MoSold                MoSold        1.000     0.000       0.008\n",
       "YrSold                YrSold        1.000     0.000       0.003\n",
       "SaleType            SaleType        1.000     0.000       0.006\n",
       "SaleCondition  SaleCondition        1.000     0.000       0.004\n",
       "SalePrice          SalePrice        1.000     0.000       0.454\n",
       "\n",
       "[81 rows x 4 columns]"
      ],
      "text/html": [
       "<div>\n",
       "<style scoped>\n",
       "    .dataframe tbody tr th:only-of-type {\n",
       "        vertical-align: middle;\n",
       "    }\n",
       "\n",
       "    .dataframe tbody tr th {\n",
       "        vertical-align: top;\n",
       "    }\n",
       "\n",
       "    .dataframe thead th {\n",
       "        text-align: right;\n",
       "    }\n",
       "</style>\n",
       "<table border=\"1\" class=\"dataframe\">\n",
       "  <thead>\n",
       "    <tr style=\"text-align: right;\">\n",
       "      <th></th>\n",
       "      <th>col_name</th>\n",
       "      <th>notnull_pct</th>\n",
       "      <th>null_pct</th>\n",
       "      <th>unique_pct</th>\n",
       "    </tr>\n",
       "  </thead>\n",
       "  <tbody>\n",
       "    <tr>\n",
       "      <th>Id</th>\n",
       "      <td>Id</td>\n",
       "      <td>1.000</td>\n",
       "      <td>0.000</td>\n",
       "      <td>1.000</td>\n",
       "    </tr>\n",
       "    <tr>\n",
       "      <th>MSSubClass</th>\n",
       "      <td>MSSubClass</td>\n",
       "      <td>1.000</td>\n",
       "      <td>0.000</td>\n",
       "      <td>0.010</td>\n",
       "    </tr>\n",
       "    <tr>\n",
       "      <th>MSZoning</th>\n",
       "      <td>MSZoning</td>\n",
       "      <td>1.000</td>\n",
       "      <td>0.000</td>\n",
       "      <td>0.003</td>\n",
       "    </tr>\n",
       "    <tr>\n",
       "      <th>LotFrontage</th>\n",
       "      <td>LotFrontage</td>\n",
       "      <td>0.823</td>\n",
       "      <td>0.177</td>\n",
       "      <td>0.075</td>\n",
       "    </tr>\n",
       "    <tr>\n",
       "      <th>LotArea</th>\n",
       "      <td>LotArea</td>\n",
       "      <td>1.000</td>\n",
       "      <td>0.000</td>\n",
       "      <td>0.735</td>\n",
       "    </tr>\n",
       "    <tr>\n",
       "      <th>...</th>\n",
       "      <td>...</td>\n",
       "      <td>...</td>\n",
       "      <td>...</td>\n",
       "      <td>...</td>\n",
       "    </tr>\n",
       "    <tr>\n",
       "      <th>MoSold</th>\n",
       "      <td>MoSold</td>\n",
       "      <td>1.000</td>\n",
       "      <td>0.000</td>\n",
       "      <td>0.008</td>\n",
       "    </tr>\n",
       "    <tr>\n",
       "      <th>YrSold</th>\n",
       "      <td>YrSold</td>\n",
       "      <td>1.000</td>\n",
       "      <td>0.000</td>\n",
       "      <td>0.003</td>\n",
       "    </tr>\n",
       "    <tr>\n",
       "      <th>SaleType</th>\n",
       "      <td>SaleType</td>\n",
       "      <td>1.000</td>\n",
       "      <td>0.000</td>\n",
       "      <td>0.006</td>\n",
       "    </tr>\n",
       "    <tr>\n",
       "      <th>SaleCondition</th>\n",
       "      <td>SaleCondition</td>\n",
       "      <td>1.000</td>\n",
       "      <td>0.000</td>\n",
       "      <td>0.004</td>\n",
       "    </tr>\n",
       "    <tr>\n",
       "      <th>SalePrice</th>\n",
       "      <td>SalePrice</td>\n",
       "      <td>1.000</td>\n",
       "      <td>0.000</td>\n",
       "      <td>0.454</td>\n",
       "    </tr>\n",
       "  </tbody>\n",
       "</table>\n",
       "<p>81 rows × 4 columns</p>\n",
       "</div>"
      ]
     },
     "execution_count": 29,
     "metadata": {},
     "output_type": "execute_result"
    }
   ],
   "execution_count": 29
  },
  {
   "metadata": {
    "ExecuteTime": {
     "end_time": "2025-06-24T01:33:43.791682Z",
     "start_time": "2025-06-24T01:33:42.784224Z"
    }
   },
   "cell_type": "code",
   "source": "proj_utils_plots.plot_cardinality(df_cardinality, n_cat_cardinality_threshold, threshold_used=threshold_type, type_of_cols='all', figsize=(20, 6))",
   "id": "804341bb4547354a",
   "outputs": [
    {
     "name": "stdout",
     "output_type": "stream",
     "text": [
      "Saving figure to D:\\workbench\\pycharm\\epfl-adsml-c3-01\\plots\\plot_cardinality_all_20250624_113343_191.png\n"
     ]
    },
    {
     "data": {
      "text/plain": [
       "D:\\workbench\\pycharm\\epfl-adsml-c3-01\\plots\\plot_cardinality_all_20250624_113343_191.png"
      ],
      "text/html": [
       "<a href='D:\\workbench\\pycharm\\epfl-adsml-c3-01\\plots\\plot_cardinality_all_20250624_113343_191.png' target='_blank'>D:\\workbench\\pycharm\\epfl-adsml-c3-01\\plots\\plot_cardinality_all_20250624_113343_191.png</a><br>"
      ]
     },
     "metadata": {},
     "output_type": "display_data"
    }
   ],
   "execution_count": 30
  },
  {
   "metadata": {
    "ExecuteTime": {
     "end_time": "2025-06-24T01:33:49.108965Z",
     "start_time": "2025-06-24T01:33:48.620079Z"
    }
   },
   "cell_type": "code",
   "source": [
    "# Zoom into cols having NaNs only\n",
    "proj_utils_plots.plot_cardinality(df_cardinality[df_cardinality['col_name'].isin(cols_with_nans)], n_cat_cardinality_threshold, threshold_used=threshold_type, type_of_cols=\"NaN\", figsize=(10, 6))"
   ],
   "id": "e2e3347129e57abc",
   "outputs": [
    {
     "name": "stdout",
     "output_type": "stream",
     "text": [
      "Saving figure to D:\\workbench\\pycharm\\epfl-adsml-c3-01\\plots\\plot_cardinality_NaN_20250624_113348_876.png\n"
     ]
    },
    {
     "data": {
      "text/plain": [
       "D:\\workbench\\pycharm\\epfl-adsml-c3-01\\plots\\plot_cardinality_NaN_20250624_113348_876.png"
      ],
      "text/html": [
       "<a href='D:\\workbench\\pycharm\\epfl-adsml-c3-01\\plots\\plot_cardinality_NaN_20250624_113348_876.png' target='_blank'>D:\\workbench\\pycharm\\epfl-adsml-c3-01\\plots\\plot_cardinality_NaN_20250624_113348_876.png</a><br>"
      ]
     },
     "metadata": {},
     "output_type": "display_data"
    }
   ],
   "execution_count": 31
  },
  {
   "metadata": {
    "ExecuteTime": {
     "end_time": "2025-06-24T01:33:50.235493Z",
     "start_time": "2025-06-24T01:33:50.174811Z"
    }
   },
   "cell_type": "code",
   "source": "df_raw[cols_num_continuous].isnull().sum().sort_values(ascending=False)",
   "id": "5a29edbf7dd56d0c",
   "outputs": [
    {
     "data": {
      "text/plain": [
       "LotFrontage      259\n",
       "MasVnrArea         8\n",
       "LowQualFinSF       0\n",
       "ScreenPorch        0\n",
       "EnclosedPorch      0\n",
       "OpenPorchSF        0\n",
       "WoodDeckSF         0\n",
       "GarageArea         0\n",
       "GrLivArea          0\n",
       "2ndFlrSF           0\n",
       "LotArea            0\n",
       "1stFlrSF           0\n",
       "TotalBsmtSF        0\n",
       "BsmtUnfSF          0\n",
       "BsmtFinSF2         0\n",
       "BsmtFinSF1         0\n",
       "MiscVal            0\n",
       "dtype: int64"
      ]
     },
     "execution_count": 32,
     "metadata": {},
     "output_type": "execute_result"
    }
   ],
   "execution_count": 32
  },
  {
   "metadata": {
    "ExecuteTime": {
     "end_time": "2025-06-24T01:33:55.256589Z",
     "start_time": "2025-06-24T01:33:55.179850Z"
    }
   },
   "cell_type": "code",
   "source": [
    "# Creating a copy of the raw data to impute missing values for plotting purposes only (as NaNs are not plotted)\n",
    "df_imputed_for_plots = df_raw.copy()\n",
    "df_imputed_for_plots[cols_num_continuous] = df_imputed_for_plots[cols_num_continuous].fillna(0)\n",
    "most_frequent = df_imputed_for_plots[cols_num_discrete].mode().iloc[0]\n",
    "df_imputed_for_plots[cols_num_discrete] = df_imputed_for_plots[cols_num_discrete].fillna(most_frequent)"
   ],
   "id": "ef2ca147da0befc5",
   "outputs": [],
   "execution_count": 33
  },
  {
   "metadata": {
    "ExecuteTime": {
     "end_time": "2025-06-24T01:33:56.046809Z",
     "start_time": "2025-06-24T01:33:55.976747Z"
    }
   },
   "cell_type": "code",
   "source": "df_imputed_for_plots",
   "id": "ec2adcd985825dc7",
   "outputs": [
    {
     "data": {
      "text/plain": [
       "        Id  MSSubClass MSZoning  LotFrontage  LotArea Street Alley LotShape  \\\n",
       "0        1          60       RL         65.0     8450   Pave   NaN      Reg   \n",
       "1        2          20       RL         80.0     9600   Pave   NaN      Reg   \n",
       "2        3          60       RL         68.0    11250   Pave   NaN      IR1   \n",
       "3        4          70       RL         60.0     9550   Pave   NaN      IR1   \n",
       "4        5          60       RL         84.0    14260   Pave   NaN      IR1   \n",
       "...    ...         ...      ...          ...      ...    ...   ...      ...   \n",
       "1455  1456          60       RL         62.0     7917   Pave   NaN      Reg   \n",
       "1456  1457          20       RL         85.0    13175   Pave   NaN      Reg   \n",
       "1457  1458          70       RL         66.0     9042   Pave   NaN      Reg   \n",
       "1458  1459          20       RL         68.0     9717   Pave   NaN      Reg   \n",
       "1459  1460          20       RL         75.0     9937   Pave   NaN      Reg   \n",
       "\n",
       "     LandContour Utilities  ... PoolArea PoolQC  Fence MiscFeature MiscVal  \\\n",
       "0            Lvl    AllPub  ...        0    NaN    NaN         NaN       0   \n",
       "1            Lvl    AllPub  ...        0    NaN    NaN         NaN       0   \n",
       "2            Lvl    AllPub  ...        0    NaN    NaN         NaN       0   \n",
       "3            Lvl    AllPub  ...        0    NaN    NaN         NaN       0   \n",
       "4            Lvl    AllPub  ...        0    NaN    NaN         NaN       0   \n",
       "...          ...       ...  ...      ...    ...    ...         ...     ...   \n",
       "1455         Lvl    AllPub  ...        0    NaN    NaN         NaN       0   \n",
       "1456         Lvl    AllPub  ...        0    NaN  MnPrv         NaN       0   \n",
       "1457         Lvl    AllPub  ...        0    NaN  GdPrv        Shed    2500   \n",
       "1458         Lvl    AllPub  ...        0    NaN    NaN         NaN       0   \n",
       "1459         Lvl    AllPub  ...        0    NaN    NaN         NaN       0   \n",
       "\n",
       "     MoSold YrSold  SaleType  SaleCondition  SalePrice  \n",
       "0         2   2008        WD         Normal     208500  \n",
       "1         5   2007        WD         Normal     181500  \n",
       "2         9   2008        WD         Normal     223500  \n",
       "3         2   2006        WD        Abnorml     140000  \n",
       "4        12   2008        WD         Normal     250000  \n",
       "...     ...    ...       ...            ...        ...  \n",
       "1455      8   2007        WD         Normal     175000  \n",
       "1456      2   2010        WD         Normal     210000  \n",
       "1457      5   2010        WD         Normal     266500  \n",
       "1458      4   2010        WD         Normal     142125  \n",
       "1459      6   2008        WD         Normal     147500  \n",
       "\n",
       "[1460 rows x 81 columns]"
      ],
      "text/html": [
       "<div>\n",
       "<style scoped>\n",
       "    .dataframe tbody tr th:only-of-type {\n",
       "        vertical-align: middle;\n",
       "    }\n",
       "\n",
       "    .dataframe tbody tr th {\n",
       "        vertical-align: top;\n",
       "    }\n",
       "\n",
       "    .dataframe thead th {\n",
       "        text-align: right;\n",
       "    }\n",
       "</style>\n",
       "<table border=\"1\" class=\"dataframe\">\n",
       "  <thead>\n",
       "    <tr style=\"text-align: right;\">\n",
       "      <th></th>\n",
       "      <th>Id</th>\n",
       "      <th>MSSubClass</th>\n",
       "      <th>MSZoning</th>\n",
       "      <th>LotFrontage</th>\n",
       "      <th>LotArea</th>\n",
       "      <th>Street</th>\n",
       "      <th>Alley</th>\n",
       "      <th>LotShape</th>\n",
       "      <th>LandContour</th>\n",
       "      <th>Utilities</th>\n",
       "      <th>...</th>\n",
       "      <th>PoolArea</th>\n",
       "      <th>PoolQC</th>\n",
       "      <th>Fence</th>\n",
       "      <th>MiscFeature</th>\n",
       "      <th>MiscVal</th>\n",
       "      <th>MoSold</th>\n",
       "      <th>YrSold</th>\n",
       "      <th>SaleType</th>\n",
       "      <th>SaleCondition</th>\n",
       "      <th>SalePrice</th>\n",
       "    </tr>\n",
       "  </thead>\n",
       "  <tbody>\n",
       "    <tr>\n",
       "      <th>0</th>\n",
       "      <td>1</td>\n",
       "      <td>60</td>\n",
       "      <td>RL</td>\n",
       "      <td>65.0</td>\n",
       "      <td>8450</td>\n",
       "      <td>Pave</td>\n",
       "      <td>NaN</td>\n",
       "      <td>Reg</td>\n",
       "      <td>Lvl</td>\n",
       "      <td>AllPub</td>\n",
       "      <td>...</td>\n",
       "      <td>0</td>\n",
       "      <td>NaN</td>\n",
       "      <td>NaN</td>\n",
       "      <td>NaN</td>\n",
       "      <td>0</td>\n",
       "      <td>2</td>\n",
       "      <td>2008</td>\n",
       "      <td>WD</td>\n",
       "      <td>Normal</td>\n",
       "      <td>208500</td>\n",
       "    </tr>\n",
       "    <tr>\n",
       "      <th>1</th>\n",
       "      <td>2</td>\n",
       "      <td>20</td>\n",
       "      <td>RL</td>\n",
       "      <td>80.0</td>\n",
       "      <td>9600</td>\n",
       "      <td>Pave</td>\n",
       "      <td>NaN</td>\n",
       "      <td>Reg</td>\n",
       "      <td>Lvl</td>\n",
       "      <td>AllPub</td>\n",
       "      <td>...</td>\n",
       "      <td>0</td>\n",
       "      <td>NaN</td>\n",
       "      <td>NaN</td>\n",
       "      <td>NaN</td>\n",
       "      <td>0</td>\n",
       "      <td>5</td>\n",
       "      <td>2007</td>\n",
       "      <td>WD</td>\n",
       "      <td>Normal</td>\n",
       "      <td>181500</td>\n",
       "    </tr>\n",
       "    <tr>\n",
       "      <th>2</th>\n",
       "      <td>3</td>\n",
       "      <td>60</td>\n",
       "      <td>RL</td>\n",
       "      <td>68.0</td>\n",
       "      <td>11250</td>\n",
       "      <td>Pave</td>\n",
       "      <td>NaN</td>\n",
       "      <td>IR1</td>\n",
       "      <td>Lvl</td>\n",
       "      <td>AllPub</td>\n",
       "      <td>...</td>\n",
       "      <td>0</td>\n",
       "      <td>NaN</td>\n",
       "      <td>NaN</td>\n",
       "      <td>NaN</td>\n",
       "      <td>0</td>\n",
       "      <td>9</td>\n",
       "      <td>2008</td>\n",
       "      <td>WD</td>\n",
       "      <td>Normal</td>\n",
       "      <td>223500</td>\n",
       "    </tr>\n",
       "    <tr>\n",
       "      <th>3</th>\n",
       "      <td>4</td>\n",
       "      <td>70</td>\n",
       "      <td>RL</td>\n",
       "      <td>60.0</td>\n",
       "      <td>9550</td>\n",
       "      <td>Pave</td>\n",
       "      <td>NaN</td>\n",
       "      <td>IR1</td>\n",
       "      <td>Lvl</td>\n",
       "      <td>AllPub</td>\n",
       "      <td>...</td>\n",
       "      <td>0</td>\n",
       "      <td>NaN</td>\n",
       "      <td>NaN</td>\n",
       "      <td>NaN</td>\n",
       "      <td>0</td>\n",
       "      <td>2</td>\n",
       "      <td>2006</td>\n",
       "      <td>WD</td>\n",
       "      <td>Abnorml</td>\n",
       "      <td>140000</td>\n",
       "    </tr>\n",
       "    <tr>\n",
       "      <th>4</th>\n",
       "      <td>5</td>\n",
       "      <td>60</td>\n",
       "      <td>RL</td>\n",
       "      <td>84.0</td>\n",
       "      <td>14260</td>\n",
       "      <td>Pave</td>\n",
       "      <td>NaN</td>\n",
       "      <td>IR1</td>\n",
       "      <td>Lvl</td>\n",
       "      <td>AllPub</td>\n",
       "      <td>...</td>\n",
       "      <td>0</td>\n",
       "      <td>NaN</td>\n",
       "      <td>NaN</td>\n",
       "      <td>NaN</td>\n",
       "      <td>0</td>\n",
       "      <td>12</td>\n",
       "      <td>2008</td>\n",
       "      <td>WD</td>\n",
       "      <td>Normal</td>\n",
       "      <td>250000</td>\n",
       "    </tr>\n",
       "    <tr>\n",
       "      <th>...</th>\n",
       "      <td>...</td>\n",
       "      <td>...</td>\n",
       "      <td>...</td>\n",
       "      <td>...</td>\n",
       "      <td>...</td>\n",
       "      <td>...</td>\n",
       "      <td>...</td>\n",
       "      <td>...</td>\n",
       "      <td>...</td>\n",
       "      <td>...</td>\n",
       "      <td>...</td>\n",
       "      <td>...</td>\n",
       "      <td>...</td>\n",
       "      <td>...</td>\n",
       "      <td>...</td>\n",
       "      <td>...</td>\n",
       "      <td>...</td>\n",
       "      <td>...</td>\n",
       "      <td>...</td>\n",
       "      <td>...</td>\n",
       "      <td>...</td>\n",
       "    </tr>\n",
       "    <tr>\n",
       "      <th>1455</th>\n",
       "      <td>1456</td>\n",
       "      <td>60</td>\n",
       "      <td>RL</td>\n",
       "      <td>62.0</td>\n",
       "      <td>7917</td>\n",
       "      <td>Pave</td>\n",
       "      <td>NaN</td>\n",
       "      <td>Reg</td>\n",
       "      <td>Lvl</td>\n",
       "      <td>AllPub</td>\n",
       "      <td>...</td>\n",
       "      <td>0</td>\n",
       "      <td>NaN</td>\n",
       "      <td>NaN</td>\n",
       "      <td>NaN</td>\n",
       "      <td>0</td>\n",
       "      <td>8</td>\n",
       "      <td>2007</td>\n",
       "      <td>WD</td>\n",
       "      <td>Normal</td>\n",
       "      <td>175000</td>\n",
       "    </tr>\n",
       "    <tr>\n",
       "      <th>1456</th>\n",
       "      <td>1457</td>\n",
       "      <td>20</td>\n",
       "      <td>RL</td>\n",
       "      <td>85.0</td>\n",
       "      <td>13175</td>\n",
       "      <td>Pave</td>\n",
       "      <td>NaN</td>\n",
       "      <td>Reg</td>\n",
       "      <td>Lvl</td>\n",
       "      <td>AllPub</td>\n",
       "      <td>...</td>\n",
       "      <td>0</td>\n",
       "      <td>NaN</td>\n",
       "      <td>MnPrv</td>\n",
       "      <td>NaN</td>\n",
       "      <td>0</td>\n",
       "      <td>2</td>\n",
       "      <td>2010</td>\n",
       "      <td>WD</td>\n",
       "      <td>Normal</td>\n",
       "      <td>210000</td>\n",
       "    </tr>\n",
       "    <tr>\n",
       "      <th>1457</th>\n",
       "      <td>1458</td>\n",
       "      <td>70</td>\n",
       "      <td>RL</td>\n",
       "      <td>66.0</td>\n",
       "      <td>9042</td>\n",
       "      <td>Pave</td>\n",
       "      <td>NaN</td>\n",
       "      <td>Reg</td>\n",
       "      <td>Lvl</td>\n",
       "      <td>AllPub</td>\n",
       "      <td>...</td>\n",
       "      <td>0</td>\n",
       "      <td>NaN</td>\n",
       "      <td>GdPrv</td>\n",
       "      <td>Shed</td>\n",
       "      <td>2500</td>\n",
       "      <td>5</td>\n",
       "      <td>2010</td>\n",
       "      <td>WD</td>\n",
       "      <td>Normal</td>\n",
       "      <td>266500</td>\n",
       "    </tr>\n",
       "    <tr>\n",
       "      <th>1458</th>\n",
       "      <td>1459</td>\n",
       "      <td>20</td>\n",
       "      <td>RL</td>\n",
       "      <td>68.0</td>\n",
       "      <td>9717</td>\n",
       "      <td>Pave</td>\n",
       "      <td>NaN</td>\n",
       "      <td>Reg</td>\n",
       "      <td>Lvl</td>\n",
       "      <td>AllPub</td>\n",
       "      <td>...</td>\n",
       "      <td>0</td>\n",
       "      <td>NaN</td>\n",
       "      <td>NaN</td>\n",
       "      <td>NaN</td>\n",
       "      <td>0</td>\n",
       "      <td>4</td>\n",
       "      <td>2010</td>\n",
       "      <td>WD</td>\n",
       "      <td>Normal</td>\n",
       "      <td>142125</td>\n",
       "    </tr>\n",
       "    <tr>\n",
       "      <th>1459</th>\n",
       "      <td>1460</td>\n",
       "      <td>20</td>\n",
       "      <td>RL</td>\n",
       "      <td>75.0</td>\n",
       "      <td>9937</td>\n",
       "      <td>Pave</td>\n",
       "      <td>NaN</td>\n",
       "      <td>Reg</td>\n",
       "      <td>Lvl</td>\n",
       "      <td>AllPub</td>\n",
       "      <td>...</td>\n",
       "      <td>0</td>\n",
       "      <td>NaN</td>\n",
       "      <td>NaN</td>\n",
       "      <td>NaN</td>\n",
       "      <td>0</td>\n",
       "      <td>6</td>\n",
       "      <td>2008</td>\n",
       "      <td>WD</td>\n",
       "      <td>Normal</td>\n",
       "      <td>147500</td>\n",
       "    </tr>\n",
       "  </tbody>\n",
       "</table>\n",
       "<p>1460 rows × 81 columns</p>\n",
       "</div>"
      ]
     },
     "execution_count": 34,
     "metadata": {},
     "output_type": "execute_result"
    }
   ],
   "execution_count": 34
  },
  {
   "metadata": {
    "ExecuteTime": {
     "end_time": "2025-06-24T01:34:00.652729Z",
     "start_time": "2025-06-24T01:34:00.593931Z"
    }
   },
   "cell_type": "code",
   "source": "df_imputed_for_plots_v2 = df_raw[cols_num_continuous+['SalePrice']].copy()",
   "id": "b5bf19409fae99b5",
   "outputs": [],
   "execution_count": 35
  },
  {
   "metadata": {
    "ExecuteTime": {
     "end_time": "2025-06-24T01:34:03.569469Z",
     "start_time": "2025-06-24T01:34:03.505225Z"
    }
   },
   "cell_type": "code",
   "source": "df_imputed_for_plots_v2.sample(2)",
   "id": "891c743a604d4373",
   "outputs": [
    {
     "data": {
      "text/plain": [
       "     LotFrontage  LotArea  MasVnrArea  BsmtFinSF1  BsmtFinSF2  BsmtUnfSF  \\\n",
       "543         34.0     4058       182.0         584         139          0   \n",
       "799         60.0     7200       252.0         569           0        162   \n",
       "\n",
       "     TotalBsmtSF  1stFlrSF  2ndFlrSF  LowQualFinSF  GrLivArea  GarageArea  \\\n",
       "543          723       767         0             0        767         367   \n",
       "799          731       981       787             0       1768         240   \n",
       "\n",
       "     WoodDeckSF  OpenPorchSF  EnclosedPorch  ScreenPorch  MiscVal  SalePrice  \n",
       "543         120           40              0            0        0     133000  \n",
       "799           0            0            264            0        0     175000  "
      ],
      "text/html": [
       "<div>\n",
       "<style scoped>\n",
       "    .dataframe tbody tr th:only-of-type {\n",
       "        vertical-align: middle;\n",
       "    }\n",
       "\n",
       "    .dataframe tbody tr th {\n",
       "        vertical-align: top;\n",
       "    }\n",
       "\n",
       "    .dataframe thead th {\n",
       "        text-align: right;\n",
       "    }\n",
       "</style>\n",
       "<table border=\"1\" class=\"dataframe\">\n",
       "  <thead>\n",
       "    <tr style=\"text-align: right;\">\n",
       "      <th></th>\n",
       "      <th>LotFrontage</th>\n",
       "      <th>LotArea</th>\n",
       "      <th>MasVnrArea</th>\n",
       "      <th>BsmtFinSF1</th>\n",
       "      <th>BsmtFinSF2</th>\n",
       "      <th>BsmtUnfSF</th>\n",
       "      <th>TotalBsmtSF</th>\n",
       "      <th>1stFlrSF</th>\n",
       "      <th>2ndFlrSF</th>\n",
       "      <th>LowQualFinSF</th>\n",
       "      <th>GrLivArea</th>\n",
       "      <th>GarageArea</th>\n",
       "      <th>WoodDeckSF</th>\n",
       "      <th>OpenPorchSF</th>\n",
       "      <th>EnclosedPorch</th>\n",
       "      <th>ScreenPorch</th>\n",
       "      <th>MiscVal</th>\n",
       "      <th>SalePrice</th>\n",
       "    </tr>\n",
       "  </thead>\n",
       "  <tbody>\n",
       "    <tr>\n",
       "      <th>543</th>\n",
       "      <td>34.0</td>\n",
       "      <td>4058</td>\n",
       "      <td>182.0</td>\n",
       "      <td>584</td>\n",
       "      <td>139</td>\n",
       "      <td>0</td>\n",
       "      <td>723</td>\n",
       "      <td>767</td>\n",
       "      <td>0</td>\n",
       "      <td>0</td>\n",
       "      <td>767</td>\n",
       "      <td>367</td>\n",
       "      <td>120</td>\n",
       "      <td>40</td>\n",
       "      <td>0</td>\n",
       "      <td>0</td>\n",
       "      <td>0</td>\n",
       "      <td>133000</td>\n",
       "    </tr>\n",
       "    <tr>\n",
       "      <th>799</th>\n",
       "      <td>60.0</td>\n",
       "      <td>7200</td>\n",
       "      <td>252.0</td>\n",
       "      <td>569</td>\n",
       "      <td>0</td>\n",
       "      <td>162</td>\n",
       "      <td>731</td>\n",
       "      <td>981</td>\n",
       "      <td>787</td>\n",
       "      <td>0</td>\n",
       "      <td>1768</td>\n",
       "      <td>240</td>\n",
       "      <td>0</td>\n",
       "      <td>0</td>\n",
       "      <td>264</td>\n",
       "      <td>0</td>\n",
       "      <td>0</td>\n",
       "      <td>175000</td>\n",
       "    </tr>\n",
       "  </tbody>\n",
       "</table>\n",
       "</div>"
      ]
     },
     "execution_count": 36,
     "metadata": {},
     "output_type": "execute_result"
    }
   ],
   "execution_count": 36
  },
  {
   "metadata": {
    "ExecuteTime": {
     "end_time": "2025-06-24T01:34:09.620029Z",
     "start_time": "2025-06-24T01:34:08.213566Z"
    }
   },
   "cell_type": "code",
   "source": [
    "# correlation_plot = plot_correlation_with_demand(df, save_path=\"correlation_plot.png\")\n",
    "correlation_plot = proj_utils_plots.plot_correlation_with_target(df_imputed_for_plots_v2, target_col)"
   ],
   "id": "6e372acf601b0ea0",
   "outputs": [
    {
     "name": "stdout",
     "output_type": "stream",
     "text": [
      "Saving figure to D:\\workbench\\pycharm\\epfl-adsml-c3-01\\plots\\plot_corr_with_SalePrice_20250624_113408_366.png\n"
     ]
    },
    {
     "data": {
      "text/plain": [
       "D:\\workbench\\pycharm\\epfl-adsml-c3-01\\plots\\plot_corr_with_SalePrice_20250624_113408_366.png"
      ],
      "text/html": [
       "<a href='D:\\workbench\\pycharm\\epfl-adsml-c3-01\\plots\\plot_corr_with_SalePrice_20250624_113408_366.png' target='_blank'>D:\\workbench\\pycharm\\epfl-adsml-c3-01\\plots\\plot_corr_with_SalePrice_20250624_113408_366.png</a><br>"
      ]
     },
     "metadata": {},
     "output_type": "display_data"
    }
   ],
   "execution_count": 37
  },
  {
   "metadata": {
    "ExecuteTime": {
     "end_time": "2025-06-24T01:34:14.110408Z",
     "start_time": "2025-06-24T01:34:10.511486Z"
    }
   },
   "cell_type": "code",
   "source": "proj_utils_plots.plot_numerical_distribution(df_imputed_for_plots, cols_num_continuous)",
   "id": "6e705f9717f2acaf",
   "outputs": [
    {
     "data": {
      "text/plain": [
       "<Figure size 2952x492 with 12 Axes>"
      ],
      "image/png": "[encoded data removed]"
     },
     "metadata": {},
     "output_type": "display_data"
    },
    {
     "data": {
      "text/plain": [
       "<Figure size 2952x492 with 12 Axes>"
      ],
      "image/png": "[encoded data removed]"
     },
     "metadata": {},
     "output_type": "display_data"
    },
    {
     "data": {
      "text/plain": [
       "<Figure size 2460x492 with 10 Axes>"
      ],
      "image/png": "[encoded data removed]"
     },
     "metadata": {},
     "output_type": "display_data"
    }
   ],
   "execution_count": 38
  },
  {
   "metadata": {
    "ExecuteTime": {
     "end_time": "2025-06-24T01:34:16.105840Z",
     "start_time": "2025-06-24T01:34:14.147659Z"
    }
   },
   "cell_type": "code",
   "source": "proj_utils_plots.plot_categorical_distribution(df_imputed_for_plots, cols_cat_nominal)",
   "id": "b0482db21836bfd3",
   "outputs": [
    {
     "name": "stdout",
     "output_type": "stream",
     "text": [
      "Saving figure to D:\\workbench\\pycharm\\epfl-adsml-c3-01\\plots\\plot_cat_distro_17feats_20250624_113414_872.png\n"
     ]
    },
    {
     "data": {
      "text/plain": [
       "D:\\workbench\\pycharm\\epfl-adsml-c3-01\\plots\\plot_cat_distro_17feats_20250624_113414_872.png"
      ],
      "text/html": [
       "<a href='D:\\workbench\\pycharm\\epfl-adsml-c3-01\\plots\\plot_cat_distro_17feats_20250624_113414_872.png' target='_blank'>D:\\workbench\\pycharm\\epfl-adsml-c3-01\\plots\\plot_cat_distro_17feats_20250624_113414_872.png</a><br>"
      ]
     },
     "metadata": {},
     "output_type": "display_data"
    }
   ],
   "execution_count": 39
  },
  {
   "metadata": {
    "ExecuteTime": {
     "end_time": "2025-06-24T01:34:17.839673Z",
     "start_time": "2025-06-24T01:34:16.137919Z"
    }
   },
   "cell_type": "code",
   "source": "proj_utils_plots.plot_categorical_distribution(df_imputed_for_plots, cols_cat_ordinal)",
   "id": "5cc64fc1e5fa526",
   "outputs": [
    {
     "name": "stdout",
     "output_type": "stream",
     "text": [
      "Saving figure to D:\\workbench\\pycharm\\epfl-adsml-c3-01\\plots\\plot_cat_distro_18feats_20250624_113416_694.png\n"
     ]
    },
    {
     "data": {
      "text/plain": [
       "D:\\workbench\\pycharm\\epfl-adsml-c3-01\\plots\\plot_cat_distro_18feats_20250624_113416_694.png"
      ],
      "text/html": [
       "<a href='D:\\workbench\\pycharm\\epfl-adsml-c3-01\\plots\\plot_cat_distro_18feats_20250624_113416_694.png' target='_blank'>D:\\workbench\\pycharm\\epfl-adsml-c3-01\\plots\\plot_cat_distro_18feats_20250624_113416_694.png</a><br>"
      ]
     },
     "metadata": {},
     "output_type": "display_data"
    }
   ],
   "execution_count": 40
  },
  {
   "metadata": {
    "ExecuteTime": {
     "end_time": "2025-06-24T01:34:25.079556Z",
     "start_time": "2025-06-24T01:34:23.228426Z"
    }
   },
   "cell_type": "code",
   "source": "proj_utils_plots.plot_relationship_to_target(df_imputed_for_plots, cols_num_discrete, target_col)",
   "id": "565be807881cf88d",
   "outputs": [
    {
     "name": "stdout",
     "output_type": "stream",
     "text": [
      "Saving figure to D:\\workbench\\pycharm\\epfl-adsml-c3-01\\plots\\plot_relate_13feats_to_target_SalePrice_20250624_113423_899.png\n"
     ]
    },
    {
     "data": {
      "text/plain": [
       "D:\\workbench\\pycharm\\epfl-adsml-c3-01\\plots\\plot_relate_13feats_to_target_SalePrice_20250624_113423_899.png"
      ],
      "text/html": [
       "<a href='D:\\workbench\\pycharm\\epfl-adsml-c3-01\\plots\\plot_relate_13feats_to_target_SalePrice_20250624_113423_899.png' target='_blank'>D:\\workbench\\pycharm\\epfl-adsml-c3-01\\plots\\plot_relate_13feats_to_target_SalePrice_20250624_113423_899.png</a><br>"
      ]
     },
     "metadata": {},
     "output_type": "display_data"
    }
   ],
   "execution_count": 41
  },
  {
   "metadata": {
    "ExecuteTime": {
     "end_time": "2025-06-24T01:34:28.995770Z",
     "start_time": "2025-06-24T01:34:25.948991Z"
    }
   },
   "cell_type": "code",
   "source": "proj_utils_plots.plot_relationship_to_target(df_imputed_for_plots, cols_num_discrete, target_col, trend_type='median')",
   "id": "34e212dc79d02e14",
   "outputs": [
    {
     "name": "stdout",
     "output_type": "stream",
     "text": [
      "Saving figure to D:\\workbench\\pycharm\\epfl-adsml-c3-01\\plots\\plot_relate_13feats_to_target_SalePrice_20250624_113427_078.png\n"
     ]
    },
    {
     "data": {
      "text/plain": [
       "D:\\workbench\\pycharm\\epfl-adsml-c3-01\\plots\\plot_relate_13feats_to_target_SalePrice_20250624_113427_078.png"
      ],
      "text/html": [
       "<a href='D:\\workbench\\pycharm\\epfl-adsml-c3-01\\plots\\plot_relate_13feats_to_target_SalePrice_20250624_113427_078.png' target='_blank'>D:\\workbench\\pycharm\\epfl-adsml-c3-01\\plots\\plot_relate_13feats_to_target_SalePrice_20250624_113427_078.png</a><br>"
      ]
     },
     "metadata": {},
     "output_type": "display_data"
    }
   ],
   "execution_count": 42
  },
  {
   "metadata": {
    "ExecuteTime": {
     "end_time": "2025-06-24T01:36:41.817744Z",
     "start_time": "2025-06-24T01:36:41.737784Z"
    }
   },
   "cell_type": "code",
   "source": [
    "X_train, X_val, y_train, y_val = train_test_split(\n",
    "    df_raw.drop(ignorables_cols, axis=1),\n",
    "    df_raw[target_col],\n",
    "    test_size=proj_configs.VALIDATION_SIZE,\n",
    "    random_state=proj_configs.RANDOM_STATE\n",
    ")"
   ],
   "id": "57651d20d7b35ba7",
   "outputs": [],
   "execution_count": 43
  },
  {
   "metadata": {
    "ExecuteTime": {
     "end_time": "2025-06-24T01:38:51.377405Z",
     "start_time": "2025-06-24T01:38:51.310056Z"
    }
   },
   "cell_type": "code",
   "source": "X_train.shape, y_train.shape, X_val.shape, y_val.shape",
   "id": "40539573c8a9ad71",
   "outputs": [
    {
     "data": {
      "text/plain": [
       "((1168, 79), (1168,), (292, 79), (292,))"
      ]
     },
     "execution_count": 45,
     "metadata": {},
     "output_type": "execute_result"
    }
   ],
   "execution_count": 45
  },
  {
   "metadata": {
    "ExecuteTime": {
     "end_time": "2025-06-24T01:38:57.363408Z",
     "start_time": "2025-06-24T01:38:57.300242Z"
    }
   },
   "cell_type": "code",
   "source": [
    "num_columns = cols_num_continuous\n",
    "cat_columns = cols_cat_nominal + cols_cat_ordinal + cols_num_discrete + cols_binary + cols_object\n",
    "tempo_columns = cols_temporal"
   ],
   "id": "26440addd4e93771",
   "outputs": [],
   "execution_count": 46
  },
  {
   "metadata": {
    "ExecuteTime": {
     "end_time": "2025-06-24T01:38:58.497703Z",
     "start_time": "2025-06-24T01:38:58.432270Z"
    }
   },
   "cell_type": "code",
   "source": "len(num_columns), len(cat_columns), len(tempo_columns)",
   "id": "1847e20decebb02e",
   "outputs": [
    {
     "data": {
      "text/plain": [
       "(17, 58, 4)"
      ]
     },
     "execution_count": 47,
     "metadata": {},
     "output_type": "execute_result"
    }
   ],
   "execution_count": 47
  },
  {
   "metadata": {
    "ExecuteTime": {
     "end_time": "2025-06-24T01:39:02.456007Z",
     "start_time": "2025-06-24T01:39:02.374361Z"
    }
   },
   "cell_type": "code",
   "source": "pproc_pipe = proj_utils_feat_engg.create_pproc_pipeline(num_columns, cat_columns, tempo_columns)",
   "id": "8bf6e9c951bd6c76",
   "outputs": [],
   "execution_count": 48
  },
  {
   "metadata": {
    "ExecuteTime": {
     "end_time": "2025-06-24T01:39:05.986121Z",
     "start_time": "2025-06-24T01:39:05.550624Z"
    }
   },
   "cell_type": "code",
   "source": "mlflow.login()",
   "id": "179433c870506e32",
   "outputs": [
    {
     "name": "stderr",
     "output_type": "stream",
     "text": [
      "2025/06/24 11:39:05 INFO mlflow.utils.credentials: Successfully connected to MLflow hosted tracking server! Host: https://dbc-3841cce1-a3be.cloud.databricks.com.\n"
     ]
    }
   ],
   "execution_count": 49
  },
  {
   "metadata": {
    "ExecuteTime": {
     "end_time": "2025-06-24T01:41:01.799496Z",
     "start_time": "2025-06-24T01:41:01.728801Z"
    }
   },
   "cell_type": "code",
   "source": [
    "# proj_utils_model.set_mlflow_uri('http://127.0.0.1:8080')\n",
    "proj_utils_model.set_mlflow_uri(\"databricks\")"
   ],
   "id": "19c88e6151c92703",
   "outputs": [],
   "execution_count": 50
  },
  {
   "metadata": {
    "ExecuteTime": {
     "end_time": "2025-06-24T01:41:04.105174Z",
     "start_time": "2025-06-24T01:41:03.718041Z"
    }
   },
   "cell_type": "code",
   "source": [
    "mlflow_experiment_name = f\"/Users/asheesh.ambardar@live.com/{proj_configs.PROJECT_NAME}\"\n",
    "mlflow_experiment_id = proj_utils_model.get_or_create_experiment(mlflow_experiment_name)"
   ],
   "id": "b35f48c37d77d9a1",
   "outputs": [],
   "execution_count": 51
  },
  {
   "metadata": {
    "ExecuteTime": {
     "end_time": "2025-06-24T01:41:05.738835Z",
     "start_time": "2025-06-24T01:41:05.679332Z"
    }
   },
   "cell_type": "code",
   "source": "mlflow_experiment_id",
   "id": "aab859eeded8821f",
   "outputs": [
    {
     "data": {
      "text/plain": [
       "'1539464224853128'"
      ]
     },
     "execution_count": 52,
     "metadata": {},
     "output_type": "execute_result"
    }
   ],
   "execution_count": 52
  },
  {
   "metadata": {
    "ExecuteTime": {
     "end_time": "2025-06-24T01:41:08.051083Z",
     "start_time": "2025-06-24T01:41:07.876188Z"
    }
   },
   "cell_type": "code",
   "source": "proj_utils_model.set_mlflow_experiment(mlflow_experiment_name)",
   "id": "49af076af4d9f832",
   "outputs": [],
   "execution_count": 53
  },
  {
   "metadata": {
    "ExecuteTime": {
     "end_time": "2025-06-24T01:41:25.420973Z",
     "start_time": "2025-06-24T01:41:25.358095Z"
    }
   },
   "cell_type": "code",
   "source": [
    "import warnings, logging\n",
    "from sklearn.exceptions import ConvergenceWarning\n",
    "warnings.filterwarnings('ignore', category=ConvergenceWarning)\n",
    "logging.getLogger(\"mlflow\").setLevel(logging.ERROR)"
   ],
   "id": "fc8e596f1be235",
   "outputs": [],
   "execution_count": 54
  },
  {
   "metadata": {
    "ExecuteTime": {
     "end_time": "2025-06-24T01:41:35.932458Z",
     "start_time": "2025-06-24T01:41:35.824812Z"
    }
   },
   "cell_type": "code",
   "source": "X_train_transformed = pproc_pipe.fit_transform(X_train)",
   "id": "39926242db7dc827",
   "outputs": [],
   "execution_count": 55
  },
  {
   "metadata": {
    "ExecuteTime": {
     "end_time": "2025-06-24T01:41:37.309106Z",
     "start_time": "2025-06-24T01:41:37.230371Z"
    }
   },
   "cell_type": "code",
   "source": "X_val_transformed = pproc_pipe.transform(X_val)",
   "id": "75e65af0987fae80",
   "outputs": [],
   "execution_count": 56
  },
  {
   "metadata": {
    "ExecuteTime": {
     "end_time": "2025-06-24T01:41:39.521754Z",
     "start_time": "2025-06-24T01:41:39.464354Z"
    }
   },
   "cell_type": "code",
   "source": [
    "y_train_transformed = y_train.to_numpy()\n",
    "y_val_transformed = y_val.to_numpy()"
   ],
   "id": "d0d39608468e826f",
   "outputs": [],
   "execution_count": 57
  },
  {
   "metadata": {
    "ExecuteTime": {
     "end_time": "2025-06-24T01:41:42.901116Z",
     "start_time": "2025-06-24T01:41:42.842160Z"
    }
   },
   "cell_type": "code",
   "source": [
    "# Check for both NaN and None\n",
    "has_nulls_or_nans = pd.isna(X_train_transformed).any()\n",
    "print(f\"Contains null or NaN values: {has_nulls_or_nans}\")"
   ],
   "id": "9169473752777ba1",
   "outputs": [
    {
     "name": "stdout",
     "output_type": "stream",
     "text": [
      "Contains null or NaN values: False\n"
     ]
    }
   ],
   "execution_count": 58
  },
  {
   "metadata": {
    "ExecuteTime": {
     "end_time": "2025-06-24T01:41:45.142504Z",
     "start_time": "2025-06-24T01:41:45.079818Z"
    }
   },
   "cell_type": "code",
   "source": "type(y_val)",
   "id": "7bf1cfaa4dd9cdc1",
   "outputs": [
    {
     "data": {
      "text/plain": [
       "pandas.core.series.Series"
      ]
     },
     "execution_count": 59,
     "metadata": {},
     "output_type": "execute_result"
    }
   ],
   "execution_count": 59
  },
  {
   "metadata": {},
   "cell_type": "code",
   "source": [
    "run_name='lasso-03'\n",
    "artefact_path = 'artefact_path'\n",
    "optimised_study_lasso = proj_utils_model.run_hyperparam_tuning_lasso(X_train, y_train, X_val, y_val, pproc_pipe, mlflow_experiment_id, run_name, artefact_path, proj_configs.OPTUNA_TRIAL_COUNT)"
   ],
   "id": "a11b7ce0f2cba7a4",
   "outputs": [],
   "execution_count": null
  },
  {
   "metadata": {
    "ExecuteTime": {
     "end_time": "2025-06-24T01:51:31.340354Z",
     "start_time": "2025-06-24T01:44:34.232368Z"
    }
   },
   "cell_type": "code",
   "source": [
    "run_name='xgb-02'\n",
    "artefact_path = 'artefact_path'\n",
    "optimised_study_xgb = proj_utils_model.run_hyperparam_tuning_xgb(X_train_transformed, y_train_transformed, X_val_transformed, y_val_transformed, mlflow_experiment_id, run_name, artefact_path, proj_configs.OPTUNA_TRIAL_COUNT)"
   ],
   "id": "e164911336104924",
   "outputs": [
    {
     "name": "stdout",
     "output_type": "stream",
     "text": [
      "🏃 View run treasured-sow-342 at: https://dbc-3841cce1-a3be.cloud.databricks.com/ml/experiments/1539464224853128/runs/a331ebf45ce046428bca49e42bff0baa\n",
      "🧪 View experiment at: https://dbc-3841cce1-a3be.cloud.databricks.com/ml/experiments/1539464224853128\n",
      "==================================================\n",
      "Trial 0 achieved value: 2114580267.112493 with no improvement\n",
      "Initial trial 0 achieved value: 2114580267.112493\n",
      "==================================================\n",
      "🏃 View run delicate-eel-256 at: https://dbc-3841cce1-a3be.cloud.databricks.com/ml/experiments/1539464224853128/runs/10fa50b3daef41e88f35614e6a4eaa9c\n",
      "🧪 View experiment at: https://dbc-3841cce1-a3be.cloud.databricks.com/ml/experiments/1539464224853128\n",
      "🏃 View run loud-worm-855 at: https://dbc-3841cce1-a3be.cloud.databricks.com/ml/experiments/1539464224853128/runs/a1ff3e4aeb8e481aabe6d2b2077c93c4\n",
      "🧪 View experiment at: https://dbc-3841cce1-a3be.cloud.databricks.com/ml/experiments/1539464224853128\n",
      "🏃 View run sedate-ox-188 at: https://dbc-3841cce1-a3be.cloud.databricks.com/ml/experiments/1539464224853128/runs/47d4634123324ba7aed5188b6f43a0d2\n",
      "🧪 View experiment at: https://dbc-3841cce1-a3be.cloud.databricks.com/ml/experiments/1539464224853128\n",
      "==================================================\n",
      "Trial 3 achieved value: 760807460.4986765 with  177.9389% improvement\n",
      "==================================================\n",
      "🏃 View run placid-squirrel-350 at: https://dbc-3841cce1-a3be.cloud.databricks.com/ml/experiments/1539464224853128/runs/3fa256e0e03649c48fd192b9a6abe714\n",
      "🧪 View experiment at: https://dbc-3841cce1-a3be.cloud.databricks.com/ml/experiments/1539464224853128\n",
      "🏃 View run gentle-carp-963 at: https://dbc-3841cce1-a3be.cloud.databricks.com/ml/experiments/1539464224853128/runs/535b9f0cda5d47b2a11bdc3481d6962b\n",
      "🧪 View experiment at: https://dbc-3841cce1-a3be.cloud.databricks.com/ml/experiments/1539464224853128\n",
      "🏃 View run powerful-gnat-976 at: https://dbc-3841cce1-a3be.cloud.databricks.com/ml/experiments/1539464224853128/runs/8740dff7d6744fdd9d7de3395fdc00cd\n",
      "🧪 View experiment at: https://dbc-3841cce1-a3be.cloud.databricks.com/ml/experiments/1539464224853128\n",
      "🏃 View run stately-dove-479 at: https://dbc-3841cce1-a3be.cloud.databricks.com/ml/experiments/1539464224853128/runs/8dd2ec14e6ff4f12aa9cf1fb1051f6e8\n",
      "🧪 View experiment at: https://dbc-3841cce1-a3be.cloud.databricks.com/ml/experiments/1539464224853128\n",
      "🏃 View run glamorous-snipe-964 at: https://dbc-3841cce1-a3be.cloud.databricks.com/ml/experiments/1539464224853128/runs/c1c495e326554f518c9d05b0018736fa\n",
      "🧪 View experiment at: https://dbc-3841cce1-a3be.cloud.databricks.com/ml/experiments/1539464224853128\n",
      "🏃 View run charming-foal-195 at: https://dbc-3841cce1-a3be.cloud.databricks.com/ml/experiments/1539464224853128/runs/5c74ce5d77c84b57af6379fae91bc3f5\n",
      "🧪 View experiment at: https://dbc-3841cce1-a3be.cloud.databricks.com/ml/experiments/1539464224853128\n",
      "🏃 View run salty-wasp-360 at: https://dbc-3841cce1-a3be.cloud.databricks.com/ml/experiments/1539464224853128/runs/1f3faeb3ece94233a70665997d47c719\n",
      "🧪 View experiment at: https://dbc-3841cce1-a3be.cloud.databricks.com/ml/experiments/1539464224853128\n",
      "🏃 View run glamorous-mole-966 at: https://dbc-3841cce1-a3be.cloud.databricks.com/ml/experiments/1539464224853128/runs/69ba8908913547ceb29228d70cb1f27b\n",
      "🧪 View experiment at: https://dbc-3841cce1-a3be.cloud.databricks.com/ml/experiments/1539464224853128\n",
      "🏃 View run capable-grub-997 at: https://dbc-3841cce1-a3be.cloud.databricks.com/ml/experiments/1539464224853128/runs/c7a6d57994454bc08e3251d0767f0115\n",
      "🧪 View experiment at: https://dbc-3841cce1-a3be.cloud.databricks.com/ml/experiments/1539464224853128\n",
      "🏃 View run invincible-conch-787 at: https://dbc-3841cce1-a3be.cloud.databricks.com/ml/experiments/1539464224853128/runs/f160152f3eed4d24b0c6288afdef44d7\n",
      "🧪 View experiment at: https://dbc-3841cce1-a3be.cloud.databricks.com/ml/experiments/1539464224853128\n",
      "🏃 View run rogue-skink-7 at: https://dbc-3841cce1-a3be.cloud.databricks.com/ml/experiments/1539464224853128/runs/e75a2735514f46a5a7f64f768e48f2aa\n",
      "🧪 View experiment at: https://dbc-3841cce1-a3be.cloud.databricks.com/ml/experiments/1539464224853128\n",
      "🏃 View run auspicious-shrew-915 at: https://dbc-3841cce1-a3be.cloud.databricks.com/ml/experiments/1539464224853128/runs/9ec9855062f94cdb8a29a274fb723650\n",
      "🧪 View experiment at: https://dbc-3841cce1-a3be.cloud.databricks.com/ml/experiments/1539464224853128\n",
      "🏃 View run industrious-pig-583 at: https://dbc-3841cce1-a3be.cloud.databricks.com/ml/experiments/1539464224853128/runs/a6391040da8743739df367f31b8270de\n",
      "🧪 View experiment at: https://dbc-3841cce1-a3be.cloud.databricks.com/ml/experiments/1539464224853128\n",
      "🏃 View run loud-toad-730 at: https://dbc-3841cce1-a3be.cloud.databricks.com/ml/experiments/1539464224853128/runs/29912c2e5483449588f7ba9d307c68b2\n",
      "🧪 View experiment at: https://dbc-3841cce1-a3be.cloud.databricks.com/ml/experiments/1539464224853128\n",
      "🏃 View run languid-ray-273 at: https://dbc-3841cce1-a3be.cloud.databricks.com/ml/experiments/1539464224853128/runs/fec0bba1263140eebcd6c59b1847ef1f\n",
      "🧪 View experiment at: https://dbc-3841cce1-a3be.cloud.databricks.com/ml/experiments/1539464224853128\n",
      "🏃 View run calm-fish-177 at: https://dbc-3841cce1-a3be.cloud.databricks.com/ml/experiments/1539464224853128/runs/3a7ab671a2b74ff384e19a94e4100ed1\n",
      "🧪 View experiment at: https://dbc-3841cce1-a3be.cloud.databricks.com/ml/experiments/1539464224853128\n",
      "🏃 View run omniscient-hen-54 at: https://dbc-3841cce1-a3be.cloud.databricks.com/ml/experiments/1539464224853128/runs/13fe92e8dfc042fd96bc2f26c04629fe\n",
      "🧪 View experiment at: https://dbc-3841cce1-a3be.cloud.databricks.com/ml/experiments/1539464224853128\n",
      "🏃 View run classy-kit-547 at: https://dbc-3841cce1-a3be.cloud.databricks.com/ml/experiments/1539464224853128/runs/9067fbf2a2674dcdbefa7d671dc2b8ae\n",
      "🧪 View experiment at: https://dbc-3841cce1-a3be.cloud.databricks.com/ml/experiments/1539464224853128\n",
      "🏃 View run placid-stoat-343 at: https://dbc-3841cce1-a3be.cloud.databricks.com/ml/experiments/1539464224853128/runs/2d49bb3740434e8da22d96384f155b66\n",
      "🧪 View experiment at: https://dbc-3841cce1-a3be.cloud.databricks.com/ml/experiments/1539464224853128\n",
      "🏃 View run masked-shrew-833 at: https://dbc-3841cce1-a3be.cloud.databricks.com/ml/experiments/1539464224853128/runs/f26579bb7b884ca49f056a14cfa38b30\n",
      "🧪 View experiment at: https://dbc-3841cce1-a3be.cloud.databricks.com/ml/experiments/1539464224853128\n",
      "🏃 View run nervous-auk-823 at: https://dbc-3841cce1-a3be.cloud.databricks.com/ml/experiments/1539464224853128/runs/8bf6220b7fe34e7b931f0dcddb4da587\n",
      "🧪 View experiment at: https://dbc-3841cce1-a3be.cloud.databricks.com/ml/experiments/1539464224853128\n",
      "🏃 View run respected-ape-425 at: https://dbc-3841cce1-a3be.cloud.databricks.com/ml/experiments/1539464224853128/runs/c599142fcf0442ae9216216f687dfbad\n",
      "🧪 View experiment at: https://dbc-3841cce1-a3be.cloud.databricks.com/ml/experiments/1539464224853128\n",
      "🏃 View run sincere-shad-835 at: https://dbc-3841cce1-a3be.cloud.databricks.com/ml/experiments/1539464224853128/runs/1482d145cd504e619116e13952403930\n",
      "🧪 View experiment at: https://dbc-3841cce1-a3be.cloud.databricks.com/ml/experiments/1539464224853128\n",
      "🏃 View run rumbling-yak-134 at: https://dbc-3841cce1-a3be.cloud.databricks.com/ml/experiments/1539464224853128/runs/ee4e078e63d84b1aa7de05afc2f73180\n",
      "🧪 View experiment at: https://dbc-3841cce1-a3be.cloud.databricks.com/ml/experiments/1539464224853128\n",
      "🏃 View run dazzling-tern-313 at: https://dbc-3841cce1-a3be.cloud.databricks.com/ml/experiments/1539464224853128/runs/9095cb53e770491aa35bae90d7ea962a\n",
      "🧪 View experiment at: https://dbc-3841cce1-a3be.cloud.databricks.com/ml/experiments/1539464224853128\n",
      "🏃 View run luxuriant-koi-852 at: https://dbc-3841cce1-a3be.cloud.databricks.com/ml/experiments/1539464224853128/runs/e6f853123ed349bf932ef2790eea9796\n",
      "🧪 View experiment at: https://dbc-3841cce1-a3be.cloud.databricks.com/ml/experiments/1539464224853128\n",
      "🏃 View run masked-fowl-505 at: https://dbc-3841cce1-a3be.cloud.databricks.com/ml/experiments/1539464224853128/runs/3d168fb892f8478c800443817680517e\n",
      "🧪 View experiment at: https://dbc-3841cce1-a3be.cloud.databricks.com/ml/experiments/1539464224853128\n",
      "🏃 View run honorable-stork-825 at: https://dbc-3841cce1-a3be.cloud.databricks.com/ml/experiments/1539464224853128/runs/75f0c640e6ed4b419ce60ed1f4b5d287\n",
      "🧪 View experiment at: https://dbc-3841cce1-a3be.cloud.databricks.com/ml/experiments/1539464224853128\n",
      "🏃 View run mysterious-ox-77 at: https://dbc-3841cce1-a3be.cloud.databricks.com/ml/experiments/1539464224853128/runs/4bd20a9a6b8f47a1af42ff7726e90a21\n",
      "🧪 View experiment at: https://dbc-3841cce1-a3be.cloud.databricks.com/ml/experiments/1539464224853128\n",
      "🏃 View run puzzled-sloth-151 at: https://dbc-3841cce1-a3be.cloud.databricks.com/ml/experiments/1539464224853128/runs/c526f6e1768a4fb8b962faac693869a3\n",
      "🧪 View experiment at: https://dbc-3841cce1-a3be.cloud.databricks.com/ml/experiments/1539464224853128\n",
      "🏃 View run caring-snail-140 at: https://dbc-3841cce1-a3be.cloud.databricks.com/ml/experiments/1539464224853128/runs/4d00e5fa2ccd4ebc829b7ce94e6f8a0e\n",
      "🧪 View experiment at: https://dbc-3841cce1-a3be.cloud.databricks.com/ml/experiments/1539464224853128\n",
      "🏃 View run indecisive-seal-547 at: https://dbc-3841cce1-a3be.cloud.databricks.com/ml/experiments/1539464224853128/runs/17d245261868424eaa492164315bc61d\n",
      "🧪 View experiment at: https://dbc-3841cce1-a3be.cloud.databricks.com/ml/experiments/1539464224853128\n",
      "🏃 View run charming-duck-780 at: https://dbc-3841cce1-a3be.cloud.databricks.com/ml/experiments/1539464224853128/runs/b6deb49a71ea4ca4abfc1e6b985b60e3\n",
      "🧪 View experiment at: https://dbc-3841cce1-a3be.cloud.databricks.com/ml/experiments/1539464224853128\n",
      "🏃 View run defiant-finch-249 at: https://dbc-3841cce1-a3be.cloud.databricks.com/ml/experiments/1539464224853128/runs/6ef6341a91474238bb77ca97e18196fe\n",
      "🧪 View experiment at: https://dbc-3841cce1-a3be.cloud.databricks.com/ml/experiments/1539464224853128\n",
      "🏃 View run stately-finch-63 at: https://dbc-3841cce1-a3be.cloud.databricks.com/ml/experiments/1539464224853128/runs/28809db575144fd88f4f1f9972f23cbd\n",
      "🧪 View experiment at: https://dbc-3841cce1-a3be.cloud.databricks.com/ml/experiments/1539464224853128\n",
      "🏃 View run upbeat-mole-994 at: https://dbc-3841cce1-a3be.cloud.databricks.com/ml/experiments/1539464224853128/runs/75e08ca539d64852876c75ce43ca2e81\n",
      "🧪 View experiment at: https://dbc-3841cce1-a3be.cloud.databricks.com/ml/experiments/1539464224853128\n",
      "🏃 View run welcoming-yak-592 at: https://dbc-3841cce1-a3be.cloud.databricks.com/ml/experiments/1539464224853128/runs/70dc6414ec1b47d1809f5c671ed80307\n",
      "🧪 View experiment at: https://dbc-3841cce1-a3be.cloud.databricks.com/ml/experiments/1539464224853128\n",
      "🏃 View run intrigued-shad-56 at: https://dbc-3841cce1-a3be.cloud.databricks.com/ml/experiments/1539464224853128/runs/06673ee53f9f45ff8330269e05b50d9c\n",
      "🧪 View experiment at: https://dbc-3841cce1-a3be.cloud.databricks.com/ml/experiments/1539464224853128\n",
      "🏃 View run thundering-cat-475 at: https://dbc-3841cce1-a3be.cloud.databricks.com/ml/experiments/1539464224853128/runs/8c868bde7c944306829048e0379756b8\n",
      "🧪 View experiment at: https://dbc-3841cce1-a3be.cloud.databricks.com/ml/experiments/1539464224853128\n",
      "🏃 View run likeable-doe-206 at: https://dbc-3841cce1-a3be.cloud.databricks.com/ml/experiments/1539464224853128/runs/09fb474606be4fb288236fe73ddb3183\n",
      "🧪 View experiment at: https://dbc-3841cce1-a3be.cloud.databricks.com/ml/experiments/1539464224853128\n",
      "🏃 View run wistful-snipe-513 at: https://dbc-3841cce1-a3be.cloud.databricks.com/ml/experiments/1539464224853128/runs/46040b3108bf4879a4ce1099dc1ac4bb\n",
      "🧪 View experiment at: https://dbc-3841cce1-a3be.cloud.databricks.com/ml/experiments/1539464224853128\n",
      "🏃 View run youthful-rook-993 at: https://dbc-3841cce1-a3be.cloud.databricks.com/ml/experiments/1539464224853128/runs/f746e59f0be3476c96497ab5e6446f7c\n",
      "🧪 View experiment at: https://dbc-3841cce1-a3be.cloud.databricks.com/ml/experiments/1539464224853128\n",
      "🏃 View run chill-sponge-528 at: https://dbc-3841cce1-a3be.cloud.databricks.com/ml/experiments/1539464224853128/runs/e2587c8e3e1544b3b70af3ada48a4f5a\n",
      "🧪 View experiment at: https://dbc-3841cce1-a3be.cloud.databricks.com/ml/experiments/1539464224853128\n",
      "🏃 View run gifted-horse-439 at: https://dbc-3841cce1-a3be.cloud.databricks.com/ml/experiments/1539464224853128/runs/680d154d43ee4b4bb2e10de4b3bec4bd\n",
      "🧪 View experiment at: https://dbc-3841cce1-a3be.cloud.databricks.com/ml/experiments/1539464224853128\n",
      "🏃 View run luxuriant-pig-178 at: https://dbc-3841cce1-a3be.cloud.databricks.com/ml/experiments/1539464224853128/runs/e9b3e71a143c48709bdb9b5612cd4542\n",
      "🧪 View experiment at: https://dbc-3841cce1-a3be.cloud.databricks.com/ml/experiments/1539464224853128\n",
      "🏃 View run abrasive-bass-713 at: https://dbc-3841cce1-a3be.cloud.databricks.com/ml/experiments/1539464224853128/runs/6e1a439ee9da4c75a9c6977366ca1836\n",
      "🧪 View experiment at: https://dbc-3841cce1-a3be.cloud.databricks.com/ml/experiments/1539464224853128\n",
      "🏃 View run calm-turtle-364 at: https://dbc-3841cce1-a3be.cloud.databricks.com/ml/experiments/1539464224853128/runs/ebb7e131dcb54e7ba3284230fdbc9e7f\n",
      "🧪 View experiment at: https://dbc-3841cce1-a3be.cloud.databricks.com/ml/experiments/1539464224853128\n",
      "🏃 View run stately-sheep-663 at: https://dbc-3841cce1-a3be.cloud.databricks.com/ml/experiments/1539464224853128/runs/25e3e6191190494da9a7e07546b39237\n",
      "🧪 View experiment at: https://dbc-3841cce1-a3be.cloud.databricks.com/ml/experiments/1539464224853128\n",
      "🏃 View run carefree-toad-572 at: https://dbc-3841cce1-a3be.cloud.databricks.com/ml/experiments/1539464224853128/runs/48b328c4b6d340f78bb547486e109263\n",
      "🧪 View experiment at: https://dbc-3841cce1-a3be.cloud.databricks.com/ml/experiments/1539464224853128\n",
      "🏃 View run merciful-smelt-878 at: https://dbc-3841cce1-a3be.cloud.databricks.com/ml/experiments/1539464224853128/runs/acdefd72f7924ebf9022b68fdd779494\n",
      "🧪 View experiment at: https://dbc-3841cce1-a3be.cloud.databricks.com/ml/experiments/1539464224853128\n",
      "🏃 View run unique-pig-128 at: https://dbc-3841cce1-a3be.cloud.databricks.com/ml/experiments/1539464224853128/runs/3cc8e0d1c79a43b1840a907ac11cf177\n",
      "🧪 View experiment at: https://dbc-3841cce1-a3be.cloud.databricks.com/ml/experiments/1539464224853128\n",
      "🏃 View run charming-lark-431 at: https://dbc-3841cce1-a3be.cloud.databricks.com/ml/experiments/1539464224853128/runs/b26246b9093d4922b1c61517bb817faa\n",
      "🧪 View experiment at: https://dbc-3841cce1-a3be.cloud.databricks.com/ml/experiments/1539464224853128\n",
      "🏃 View run chill-squid-804 at: https://dbc-3841cce1-a3be.cloud.databricks.com/ml/experiments/1539464224853128/runs/10d5089432934b3196aaef52d91a7693\n",
      "🧪 View experiment at: https://dbc-3841cce1-a3be.cloud.databricks.com/ml/experiments/1539464224853128\n",
      "🏃 View run mysterious-sloth-827 at: https://dbc-3841cce1-a3be.cloud.databricks.com/ml/experiments/1539464224853128/runs/e471137ab87846b4b49840ad69f8886d\n",
      "🧪 View experiment at: https://dbc-3841cce1-a3be.cloud.databricks.com/ml/experiments/1539464224853128\n",
      "🏃 View run enthused-slug-689 at: https://dbc-3841cce1-a3be.cloud.databricks.com/ml/experiments/1539464224853128/runs/3252c8303ee843509f13e4b54b9aa158\n",
      "🧪 View experiment at: https://dbc-3841cce1-a3be.cloud.databricks.com/ml/experiments/1539464224853128\n",
      "🏃 View run loud-mink-289 at: https://dbc-3841cce1-a3be.cloud.databricks.com/ml/experiments/1539464224853128/runs/d6a9ab6f465b402e802c8d1e5ac7a9f2\n",
      "🧪 View experiment at: https://dbc-3841cce1-a3be.cloud.databricks.com/ml/experiments/1539464224853128\n",
      "🏃 View run indecisive-fowl-720 at: https://dbc-3841cce1-a3be.cloud.databricks.com/ml/experiments/1539464224853128/runs/db95df1516634f918baa13a4f6304fd0\n",
      "🧪 View experiment at: https://dbc-3841cce1-a3be.cloud.databricks.com/ml/experiments/1539464224853128\n",
      "🏃 View run wistful-deer-371 at: https://dbc-3841cce1-a3be.cloud.databricks.com/ml/experiments/1539464224853128/runs/79092d81a4a741148559c9c86a59cb22\n",
      "🧪 View experiment at: https://dbc-3841cce1-a3be.cloud.databricks.com/ml/experiments/1539464224853128\n",
      "🏃 View run wistful-rat-24 at: https://dbc-3841cce1-a3be.cloud.databricks.com/ml/experiments/1539464224853128/runs/760e5166fcb84568ad335e371ac9bcba\n",
      "🧪 View experiment at: https://dbc-3841cce1-a3be.cloud.databricks.com/ml/experiments/1539464224853128\n",
      "🏃 View run marvelous-swan-212 at: https://dbc-3841cce1-a3be.cloud.databricks.com/ml/experiments/1539464224853128/runs/e033e783e97d496690f1b0b9372c6d24\n",
      "🧪 View experiment at: https://dbc-3841cce1-a3be.cloud.databricks.com/ml/experiments/1539464224853128\n",
      "🏃 View run big-stag-915 at: https://dbc-3841cce1-a3be.cloud.databricks.com/ml/experiments/1539464224853128/runs/f02452347f294372ad1e3607bfec431b\n",
      "🧪 View experiment at: https://dbc-3841cce1-a3be.cloud.databricks.com/ml/experiments/1539464224853128\n",
      "🏃 View run amusing-ant-215 at: https://dbc-3841cce1-a3be.cloud.databricks.com/ml/experiments/1539464224853128/runs/b093b53d693e4e1080b328757f2143dd\n",
      "🧪 View experiment at: https://dbc-3841cce1-a3be.cloud.databricks.com/ml/experiments/1539464224853128\n",
      "🏃 View run auspicious-bird-370 at: https://dbc-3841cce1-a3be.cloud.databricks.com/ml/experiments/1539464224853128/runs/178eb0ca443d484da4f8adf85084fdbf\n",
      "🧪 View experiment at: https://dbc-3841cce1-a3be.cloud.databricks.com/ml/experiments/1539464224853128\n",
      "🏃 View run wise-goat-849 at: https://dbc-3841cce1-a3be.cloud.databricks.com/ml/experiments/1539464224853128/runs/e414ed7566774aa8a405930645a80733\n",
      "🧪 View experiment at: https://dbc-3841cce1-a3be.cloud.databricks.com/ml/experiments/1539464224853128\n",
      "🏃 View run amazing-lamb-77 at: https://dbc-3841cce1-a3be.cloud.databricks.com/ml/experiments/1539464224853128/runs/9e9efe4105d9462a8ad7394f8486c903\n",
      "🧪 View experiment at: https://dbc-3841cce1-a3be.cloud.databricks.com/ml/experiments/1539464224853128\n",
      "🏃 View run nebulous-sow-980 at: https://dbc-3841cce1-a3be.cloud.databricks.com/ml/experiments/1539464224853128/runs/e786ab2404e645648bc4e85e3b193055\n",
      "🧪 View experiment at: https://dbc-3841cce1-a3be.cloud.databricks.com/ml/experiments/1539464224853128\n",
      "🏃 View run thundering-bass-22 at: https://dbc-3841cce1-a3be.cloud.databricks.com/ml/experiments/1539464224853128/runs/35002a2dd8834c589e307f31030ea00a\n",
      "🧪 View experiment at: https://dbc-3841cce1-a3be.cloud.databricks.com/ml/experiments/1539464224853128\n",
      "🏃 View run casual-skink-459 at: https://dbc-3841cce1-a3be.cloud.databricks.com/ml/experiments/1539464224853128/runs/eb794058aa4f42b49119b60089bb3078\n",
      "🧪 View experiment at: https://dbc-3841cce1-a3be.cloud.databricks.com/ml/experiments/1539464224853128\n",
      "🏃 View run invincible-cow-55 at: https://dbc-3841cce1-a3be.cloud.databricks.com/ml/experiments/1539464224853128/runs/c82b29aa07214a26b9b0778d50444e92\n",
      "🧪 View experiment at: https://dbc-3841cce1-a3be.cloud.databricks.com/ml/experiments/1539464224853128\n",
      "🏃 View run receptive-smelt-501 at: https://dbc-3841cce1-a3be.cloud.databricks.com/ml/experiments/1539464224853128/runs/339919d5e885432eac24b27e7abc3c1b\n",
      "🧪 View experiment at: https://dbc-3841cce1-a3be.cloud.databricks.com/ml/experiments/1539464224853128\n",
      "🏃 View run melodic-lynx-548 at: https://dbc-3841cce1-a3be.cloud.databricks.com/ml/experiments/1539464224853128/runs/88d0b46bd0be4321ad5e2c34bcd50f63\n",
      "🧪 View experiment at: https://dbc-3841cce1-a3be.cloud.databricks.com/ml/experiments/1539464224853128\n",
      "🏃 View run puzzled-chimp-501 at: https://dbc-3841cce1-a3be.cloud.databricks.com/ml/experiments/1539464224853128/runs/0385399c6dc24c659558f532a618fcfb\n",
      "🧪 View experiment at: https://dbc-3841cce1-a3be.cloud.databricks.com/ml/experiments/1539464224853128\n",
      "🏃 View run angry-penguin-217 at: https://dbc-3841cce1-a3be.cloud.databricks.com/ml/experiments/1539464224853128/runs/cfd20d9ea33a47628b441328b8a50ed8\n",
      "🧪 View experiment at: https://dbc-3841cce1-a3be.cloud.databricks.com/ml/experiments/1539464224853128\n",
      "🏃 View run auspicious-foal-76 at: https://dbc-3841cce1-a3be.cloud.databricks.com/ml/experiments/1539464224853128/runs/348a1a6c0a4a49159555ab2b1bb69859\n",
      "🧪 View experiment at: https://dbc-3841cce1-a3be.cloud.databricks.com/ml/experiments/1539464224853128\n",
      "🏃 View run casual-penguin-386 at: https://dbc-3841cce1-a3be.cloud.databricks.com/ml/experiments/1539464224853128/runs/67534d813e8540aea1f0c285e91be012\n",
      "🧪 View experiment at: https://dbc-3841cce1-a3be.cloud.databricks.com/ml/experiments/1539464224853128\n",
      "==================================================\n",
      "Trial 78 achieved value: 718689215.9145412 with  5.8604% improvement\n",
      "==================================================\n",
      "🏃 View run casual-rat-814 at: https://dbc-3841cce1-a3be.cloud.databricks.com/ml/experiments/1539464224853128/runs/5f10bea7d0c04aa984ed1430a358abdc\n",
      "🧪 View experiment at: https://dbc-3841cce1-a3be.cloud.databricks.com/ml/experiments/1539464224853128\n",
      "🏃 View run ambitious-shark-144 at: https://dbc-3841cce1-a3be.cloud.databricks.com/ml/experiments/1539464224853128/runs/5b84473ba3a34de9a091369b258e6f3d\n",
      "🧪 View experiment at: https://dbc-3841cce1-a3be.cloud.databricks.com/ml/experiments/1539464224853128\n",
      "🏃 View run luminous-swan-299 at: https://dbc-3841cce1-a3be.cloud.databricks.com/ml/experiments/1539464224853128/runs/611f0a290cbc46d987e47e947e79b7ae\n",
      "🧪 View experiment at: https://dbc-3841cce1-a3be.cloud.databricks.com/ml/experiments/1539464224853128\n",
      "🏃 View run rare-stoat-544 at: https://dbc-3841cce1-a3be.cloud.databricks.com/ml/experiments/1539464224853128/runs/09523f335684441caf685c90d0e93cea\n",
      "🧪 View experiment at: https://dbc-3841cce1-a3be.cloud.databricks.com/ml/experiments/1539464224853128\n",
      "🏃 View run calm-whale-106 at: https://dbc-3841cce1-a3be.cloud.databricks.com/ml/experiments/1539464224853128/runs/754a9c6c20f84478aac7a7593d74a664\n",
      "🧪 View experiment at: https://dbc-3841cce1-a3be.cloud.databricks.com/ml/experiments/1539464224853128\n",
      "🏃 View run righteous-mule-52 at: https://dbc-3841cce1-a3be.cloud.databricks.com/ml/experiments/1539464224853128/runs/3d1193decae543379b791ab2cf0fedb1\n",
      "🧪 View experiment at: https://dbc-3841cce1-a3be.cloud.databricks.com/ml/experiments/1539464224853128\n",
      "🏃 View run puzzled-doe-639 at: https://dbc-3841cce1-a3be.cloud.databricks.com/ml/experiments/1539464224853128/runs/8c4528c56ec8422cb23f615fc227af5d\n",
      "🧪 View experiment at: https://dbc-3841cce1-a3be.cloud.databricks.com/ml/experiments/1539464224853128\n",
      "🏃 View run luxuriant-snail-753 at: https://dbc-3841cce1-a3be.cloud.databricks.com/ml/experiments/1539464224853128/runs/5cd82b1977b24545ba9e767664d08932\n",
      "🧪 View experiment at: https://dbc-3841cce1-a3be.cloud.databricks.com/ml/experiments/1539464224853128\n",
      "🏃 View run sneaky-mole-744 at: https://dbc-3841cce1-a3be.cloud.databricks.com/ml/experiments/1539464224853128/runs/e934ad46c9cb4b2387e236411e2ec1f8\n",
      "🧪 View experiment at: https://dbc-3841cce1-a3be.cloud.databricks.com/ml/experiments/1539464224853128\n",
      "🏃 View run charming-lark-230 at: https://dbc-3841cce1-a3be.cloud.databricks.com/ml/experiments/1539464224853128/runs/c5675cab4674459ab6cf237ee5e1af24\n",
      "🧪 View experiment at: https://dbc-3841cce1-a3be.cloud.databricks.com/ml/experiments/1539464224853128\n",
      "🏃 View run bemused-worm-968 at: https://dbc-3841cce1-a3be.cloud.databricks.com/ml/experiments/1539464224853128/runs/a4ce9f763d6e4069acb923821bc66ca9\n",
      "🧪 View experiment at: https://dbc-3841cce1-a3be.cloud.databricks.com/ml/experiments/1539464224853128\n",
      "🏃 View run painted-mare-413 at: https://dbc-3841cce1-a3be.cloud.databricks.com/ml/experiments/1539464224853128/runs/d8a1196b719a41919d73ddb642084722\n",
      "🧪 View experiment at: https://dbc-3841cce1-a3be.cloud.databricks.com/ml/experiments/1539464224853128\n",
      "🏃 View run resilient-cat-86 at: https://dbc-3841cce1-a3be.cloud.databricks.com/ml/experiments/1539464224853128/runs/4bf6f67629e14acb8034abae45d2717c\n",
      "🧪 View experiment at: https://dbc-3841cce1-a3be.cloud.databricks.com/ml/experiments/1539464224853128\n",
      "🏃 View run awesome-carp-282 at: https://dbc-3841cce1-a3be.cloud.databricks.com/ml/experiments/1539464224853128/runs/057c3be9f04a4bd08de75418c9dcfa2e\n",
      "🧪 View experiment at: https://dbc-3841cce1-a3be.cloud.databricks.com/ml/experiments/1539464224853128\n",
      "🏃 View run smiling-pug-807 at: https://dbc-3841cce1-a3be.cloud.databricks.com/ml/experiments/1539464224853128/runs/bfca33a6cf5e484b95b9a6fdc95e689f\n",
      "🧪 View experiment at: https://dbc-3841cce1-a3be.cloud.databricks.com/ml/experiments/1539464224853128\n",
      "🏃 View run indecisive-fowl-741 at: https://dbc-3841cce1-a3be.cloud.databricks.com/ml/experiments/1539464224853128/runs/bafee4bb32c045bdaec6448804c0dd4c\n",
      "🧪 View experiment at: https://dbc-3841cce1-a3be.cloud.databricks.com/ml/experiments/1539464224853128\n",
      "🏃 View run flawless-penguin-920 at: https://dbc-3841cce1-a3be.cloud.databricks.com/ml/experiments/1539464224853128/runs/a95c9603f5b944ee85ce73cb2eb7ae5b\n",
      "🧪 View experiment at: https://dbc-3841cce1-a3be.cloud.databricks.com/ml/experiments/1539464224853128\n",
      "🏃 View run treasured-eel-514 at: https://dbc-3841cce1-a3be.cloud.databricks.com/ml/experiments/1539464224853128/runs/11676fe5892f4041a7e5012055644859\n",
      "🧪 View experiment at: https://dbc-3841cce1-a3be.cloud.databricks.com/ml/experiments/1539464224853128\n",
      "🏃 View run receptive-ox-96 at: https://dbc-3841cce1-a3be.cloud.databricks.com/ml/experiments/1539464224853128/runs/174a321819b34faa82a209821301f9d1\n",
      "🧪 View experiment at: https://dbc-3841cce1-a3be.cloud.databricks.com/ml/experiments/1539464224853128\n",
      "🏃 View run painted-eel-299 at: https://dbc-3841cce1-a3be.cloud.databricks.com/ml/experiments/1539464224853128/runs/b27aed5e56904eb8bd96a1f782f18b65\n",
      "🧪 View experiment at: https://dbc-3841cce1-a3be.cloud.databricks.com/ml/experiments/1539464224853128\n",
      "🏃 View run whimsical-crow-944 at: https://dbc-3841cce1-a3be.cloud.databricks.com/ml/experiments/1539464224853128/runs/1b22f1fe298c47668303a93fa8f54477\n",
      "🧪 View experiment at: https://dbc-3841cce1-a3be.cloud.databricks.com/ml/experiments/1539464224853128\n",
      "🏃 View run stately-shrimp-136 at: https://dbc-3841cce1-a3be.cloud.databricks.com/ml/experiments/1539464224853128/runs/9e8b6580fd2a4d40997638d36eac84ac\n",
      "🧪 View experiment at: https://dbc-3841cce1-a3be.cloud.databricks.com/ml/experiments/1539464224853128\n",
      "🏃 View run wistful-tern-205 at: https://dbc-3841cce1-a3be.cloud.databricks.com/ml/experiments/1539464224853128/runs/8860e68807a24314bbb63810a4648534\n",
      "🧪 View experiment at: https://dbc-3841cce1-a3be.cloud.databricks.com/ml/experiments/1539464224853128\n",
      "🏃 View run skillful-mink-546 at: https://dbc-3841cce1-a3be.cloud.databricks.com/ml/experiments/1539464224853128/runs/fc81d35a74054bdfa74fe9a09629c082\n",
      "🧪 View experiment at: https://dbc-3841cce1-a3be.cloud.databricks.com/ml/experiments/1539464224853128\n",
      "🏃 View run adaptable-boar-222 at: https://dbc-3841cce1-a3be.cloud.databricks.com/ml/experiments/1539464224853128/runs/3c120ef208ba4b928a14c7a109d88306\n",
      "🧪 View experiment at: https://dbc-3841cce1-a3be.cloud.databricks.com/ml/experiments/1539464224853128\n",
      "🏃 View run vaunted-perch-987 at: https://dbc-3841cce1-a3be.cloud.databricks.com/ml/experiments/1539464224853128/runs/9636d7f3ebce4305b816c201e4b52dbe\n",
      "🧪 View experiment at: https://dbc-3841cce1-a3be.cloud.databricks.com/ml/experiments/1539464224853128\n",
      "🏃 View run suave-stag-900 at: https://dbc-3841cce1-a3be.cloud.databricks.com/ml/experiments/1539464224853128/runs/9b2e9cf3f820474faf3c1edac976b962\n",
      "🧪 View experiment at: https://dbc-3841cce1-a3be.cloud.databricks.com/ml/experiments/1539464224853128\n",
      "🏃 View run lyrical-crab-514 at: https://dbc-3841cce1-a3be.cloud.databricks.com/ml/experiments/1539464224853128/runs/ca8814a6fbfc4966b48faba5642d21f8\n",
      "🧪 View experiment at: https://dbc-3841cce1-a3be.cloud.databricks.com/ml/experiments/1539464224853128\n",
      "🏃 View run honorable-owl-485 at: https://dbc-3841cce1-a3be.cloud.databricks.com/ml/experiments/1539464224853128/runs/74c0d44da4bc47bca609cf7268da706f\n",
      "🧪 View experiment at: https://dbc-3841cce1-a3be.cloud.databricks.com/ml/experiments/1539464224853128\n",
      "🏃 View run beautiful-hog-380 at: https://dbc-3841cce1-a3be.cloud.databricks.com/ml/experiments/1539464224853128/runs/77ab188d997643f1a4f08ab34e21dad7\n",
      "🧪 View experiment at: https://dbc-3841cce1-a3be.cloud.databricks.com/ml/experiments/1539464224853128\n",
      "🏃 View run unique-hare-328 at: https://dbc-3841cce1-a3be.cloud.databricks.com/ml/experiments/1539464224853128/runs/18a26dbd50c14c8699e02551738320f3\n",
      "🧪 View experiment at: https://dbc-3841cce1-a3be.cloud.databricks.com/ml/experiments/1539464224853128\n",
      "🏃 View run amusing-duck-798 at: https://dbc-3841cce1-a3be.cloud.databricks.com/ml/experiments/1539464224853128/runs/a71be63b7fa14493b88fa24d5bb1f49d\n",
      "🧪 View experiment at: https://dbc-3841cce1-a3be.cloud.databricks.com/ml/experiments/1539464224853128\n",
      "🏃 View run nebulous-bee-916 at: https://dbc-3841cce1-a3be.cloud.databricks.com/ml/experiments/1539464224853128/runs/057e103190154dc592b7c9cfaa73a859\n",
      "🧪 View experiment at: https://dbc-3841cce1-a3be.cloud.databricks.com/ml/experiments/1539464224853128\n",
      "🏃 View run adventurous-gnu-16 at: https://dbc-3841cce1-a3be.cloud.databricks.com/ml/experiments/1539464224853128/runs/ce0fe5098e424e06adcbe6266f2991f2\n",
      "🧪 View experiment at: https://dbc-3841cce1-a3be.cloud.databricks.com/ml/experiments/1539464224853128\n",
      "🏃 View run monumental-eel-616 at: https://dbc-3841cce1-a3be.cloud.databricks.com/ml/experiments/1539464224853128/runs/0935ea1e8e504a4bad79514a7345d96b\n",
      "🧪 View experiment at: https://dbc-3841cce1-a3be.cloud.databricks.com/ml/experiments/1539464224853128\n",
      "🏃 View run intrigued-shrike-234 at: https://dbc-3841cce1-a3be.cloud.databricks.com/ml/experiments/1539464224853128/runs/78e37c0718264ad79ce72b54ee22a258\n",
      "🧪 View experiment at: https://dbc-3841cce1-a3be.cloud.databricks.com/ml/experiments/1539464224853128\n",
      "🏃 View run burly-hound-370 at: https://dbc-3841cce1-a3be.cloud.databricks.com/ml/experiments/1539464224853128/runs/cad59e6eb9ee4badaddf5942264aa676\n",
      "🧪 View experiment at: https://dbc-3841cce1-a3be.cloud.databricks.com/ml/experiments/1539464224853128\n",
      "🏃 View run abrasive-stag-959 at: https://dbc-3841cce1-a3be.cloud.databricks.com/ml/experiments/1539464224853128/runs/f3e15fcddccc4cb1a667865a00dac09b\n",
      "🧪 View experiment at: https://dbc-3841cce1-a3be.cloud.databricks.com/ml/experiments/1539464224853128\n",
      "🏃 View run unruly-mink-711 at: https://dbc-3841cce1-a3be.cloud.databricks.com/ml/experiments/1539464224853128/runs/4bf9acbee98046df8eda3948f0fc0553\n",
      "🧪 View experiment at: https://dbc-3841cce1-a3be.cloud.databricks.com/ml/experiments/1539464224853128\n",
      "🏃 View run beautiful-stoat-586 at: https://dbc-3841cce1-a3be.cloud.databricks.com/ml/experiments/1539464224853128/runs/ac5217938e2440bda78fc542c57e53f7\n",
      "🧪 View experiment at: https://dbc-3841cce1-a3be.cloud.databricks.com/ml/experiments/1539464224853128\n",
      "🏃 View run thundering-penguin-8 at: https://dbc-3841cce1-a3be.cloud.databricks.com/ml/experiments/1539464224853128/runs/95a9ee5a0a064562aeac11d180af42a9\n",
      "🧪 View experiment at: https://dbc-3841cce1-a3be.cloud.databricks.com/ml/experiments/1539464224853128\n",
      "🏃 View run angry-pig-190 at: https://dbc-3841cce1-a3be.cloud.databricks.com/ml/experiments/1539464224853128/runs/27a13ce9f5a647f28e8ea72964993e57\n",
      "🧪 View experiment at: https://dbc-3841cce1-a3be.cloud.databricks.com/ml/experiments/1539464224853128\n",
      "🏃 View run abundant-cub-427 at: https://dbc-3841cce1-a3be.cloud.databricks.com/ml/experiments/1539464224853128/runs/ddca01de2b83421ba50896ad3bb19400\n",
      "🧪 View experiment at: https://dbc-3841cce1-a3be.cloud.databricks.com/ml/experiments/1539464224853128\n",
      "🏃 View run skittish-tern-773 at: https://dbc-3841cce1-a3be.cloud.databricks.com/ml/experiments/1539464224853128/runs/c7416dcfe3b74439800b53c88966a9a6\n",
      "🧪 View experiment at: https://dbc-3841cce1-a3be.cloud.databricks.com/ml/experiments/1539464224853128\n",
      "🏃 View run zealous-wasp-419 at: https://dbc-3841cce1-a3be.cloud.databricks.com/ml/experiments/1539464224853128/runs/e291d31c884b489099f05321d621738d\n",
      "🧪 View experiment at: https://dbc-3841cce1-a3be.cloud.databricks.com/ml/experiments/1539464224853128\n",
      "🏃 View run invincible-fish-205 at: https://dbc-3841cce1-a3be.cloud.databricks.com/ml/experiments/1539464224853128/runs/5fd2927e8076486f93477b8fcf4bc0bc\n",
      "🧪 View experiment at: https://dbc-3841cce1-a3be.cloud.databricks.com/ml/experiments/1539464224853128\n",
      "🏃 View run abundant-skink-883 at: https://dbc-3841cce1-a3be.cloud.databricks.com/ml/experiments/1539464224853128/runs/f74dfcadc5734ddba9e9a5343e288e29\n",
      "🧪 View experiment at: https://dbc-3841cce1-a3be.cloud.databricks.com/ml/experiments/1539464224853128\n",
      "🏃 View run masked-fawn-80 at: https://dbc-3841cce1-a3be.cloud.databricks.com/ml/experiments/1539464224853128/runs/002bb251491a4388ba8637729df7405a\n",
      "🧪 View experiment at: https://dbc-3841cce1-a3be.cloud.databricks.com/ml/experiments/1539464224853128\n",
      "🏃 View run placid-sow-621 at: https://dbc-3841cce1-a3be.cloud.databricks.com/ml/experiments/1539464224853128/runs/0f186251d4fd425791fa51d764a32362\n",
      "🧪 View experiment at: https://dbc-3841cce1-a3be.cloud.databricks.com/ml/experiments/1539464224853128\n",
      "🏃 View run welcoming-hound-961 at: https://dbc-3841cce1-a3be.cloud.databricks.com/ml/experiments/1539464224853128/runs/ba45ef2d694d44c7af924c15bf4f6125\n",
      "🧪 View experiment at: https://dbc-3841cce1-a3be.cloud.databricks.com/ml/experiments/1539464224853128\n",
      "🏃 View run entertaining-dog-4 at: https://dbc-3841cce1-a3be.cloud.databricks.com/ml/experiments/1539464224853128/runs/d43a1061c6c34d179e55b59bc4358510\n",
      "🧪 View experiment at: https://dbc-3841cce1-a3be.cloud.databricks.com/ml/experiments/1539464224853128\n",
      "🏃 View run luminous-gnat-743 at: https://dbc-3841cce1-a3be.cloud.databricks.com/ml/experiments/1539464224853128/runs/a41daad9945c4f92a7f3bc9b33b8a6ad\n",
      "🧪 View experiment at: https://dbc-3841cce1-a3be.cloud.databricks.com/ml/experiments/1539464224853128\n",
      "🏃 View run magnificent-gnu-285 at: https://dbc-3841cce1-a3be.cloud.databricks.com/ml/experiments/1539464224853128/runs/1812017308474baa8e3a382e03c84149\n",
      "🧪 View experiment at: https://dbc-3841cce1-a3be.cloud.databricks.com/ml/experiments/1539464224853128\n",
      "🏃 View run adorable-donkey-594 at: https://dbc-3841cce1-a3be.cloud.databricks.com/ml/experiments/1539464224853128/runs/5e2e01781817406d93f4cb4265336d9c\n",
      "🧪 View experiment at: https://dbc-3841cce1-a3be.cloud.databricks.com/ml/experiments/1539464224853128\n",
      "🏃 View run indecisive-cow-948 at: https://dbc-3841cce1-a3be.cloud.databricks.com/ml/experiments/1539464224853128/runs/2f2e4150909e4eddbfcd2c80d07c1564\n",
      "🧪 View experiment at: https://dbc-3841cce1-a3be.cloud.databricks.com/ml/experiments/1539464224853128\n",
      "🏃 View run vaunted-moth-664 at: https://dbc-3841cce1-a3be.cloud.databricks.com/ml/experiments/1539464224853128/runs/e9304414c3784a70a4f2fab5edaa88ab\n",
      "🧪 View experiment at: https://dbc-3841cce1-a3be.cloud.databricks.com/ml/experiments/1539464224853128\n",
      "🏃 View run classy-roo-162 at: https://dbc-3841cce1-a3be.cloud.databricks.com/ml/experiments/1539464224853128/runs/94a88a7d1849483daace73f3ec85b293\n",
      "🧪 View experiment at: https://dbc-3841cce1-a3be.cloud.databricks.com/ml/experiments/1539464224853128\n",
      "🏃 View run delightful-asp-639 at: https://dbc-3841cce1-a3be.cloud.databricks.com/ml/experiments/1539464224853128/runs/9e941cc0e2be41d9bcb7095fc01d56a3\n",
      "🧪 View experiment at: https://dbc-3841cce1-a3be.cloud.databricks.com/ml/experiments/1539464224853128\n",
      "🏃 View run burly-cod-80 at: https://dbc-3841cce1-a3be.cloud.databricks.com/ml/experiments/1539464224853128/runs/bbf62f5efcda48d4872c8311de27880f\n",
      "🧪 View experiment at: https://dbc-3841cce1-a3be.cloud.databricks.com/ml/experiments/1539464224853128\n",
      "🏃 View run capable-grouse-522 at: https://dbc-3841cce1-a3be.cloud.databricks.com/ml/experiments/1539464224853128/runs/f0a8020b355543c2a77259cc208304e6\n",
      "🧪 View experiment at: https://dbc-3841cce1-a3be.cloud.databricks.com/ml/experiments/1539464224853128\n",
      "🏃 View run capricious-frog-658 at: https://dbc-3841cce1-a3be.cloud.databricks.com/ml/experiments/1539464224853128/runs/33f60056f8e7465cb2315019c7e82c2c\n",
      "🧪 View experiment at: https://dbc-3841cce1-a3be.cloud.databricks.com/ml/experiments/1539464224853128\n",
      "🏃 View run invincible-bat-836 at: https://dbc-3841cce1-a3be.cloud.databricks.com/ml/experiments/1539464224853128/runs/ad85683a108b4898a9c3297522dbfb32\n",
      "🧪 View experiment at: https://dbc-3841cce1-a3be.cloud.databricks.com/ml/experiments/1539464224853128\n",
      "🏃 View run honorable-mouse-803 at: https://dbc-3841cce1-a3be.cloud.databricks.com/ml/experiments/1539464224853128/runs/a1821be8a29b472990614a24baaa8216\n",
      "🧪 View experiment at: https://dbc-3841cce1-a3be.cloud.databricks.com/ml/experiments/1539464224853128\n",
      "🏃 View run shivering-skunk-621 at: https://dbc-3841cce1-a3be.cloud.databricks.com/ml/experiments/1539464224853128/runs/bc715318714d4ca1b2029aeb5257ec51\n",
      "🧪 View experiment at: https://dbc-3841cce1-a3be.cloud.databricks.com/ml/experiments/1539464224853128\n",
      "🏃 View run secretive-mule-106 at: https://dbc-3841cce1-a3be.cloud.databricks.com/ml/experiments/1539464224853128/runs/2276386271b1487181420164ee7ac355\n",
      "🧪 View experiment at: https://dbc-3841cce1-a3be.cloud.databricks.com/ml/experiments/1539464224853128\n",
      "🏃 View run brawny-elk-36 at: https://dbc-3841cce1-a3be.cloud.databricks.com/ml/experiments/1539464224853128/runs/87453b6b83864e3a93cb8987aa656938\n",
      "🧪 View experiment at: https://dbc-3841cce1-a3be.cloud.databricks.com/ml/experiments/1539464224853128\n",
      "🏃 View run exultant-elk-132 at: https://dbc-3841cce1-a3be.cloud.databricks.com/ml/experiments/1539464224853128/runs/439b5ea703d744abbab4b76edfd5cc02\n",
      "🧪 View experiment at: https://dbc-3841cce1-a3be.cloud.databricks.com/ml/experiments/1539464224853128\n",
      "🏃 View run incongruous-crow-773 at: https://dbc-3841cce1-a3be.cloud.databricks.com/ml/experiments/1539464224853128/runs/6dc6fecff22d45d09aaa5ef9ab0c6c1f\n",
      "🧪 View experiment at: https://dbc-3841cce1-a3be.cloud.databricks.com/ml/experiments/1539464224853128\n",
      "🏃 View run awesome-seal-472 at: https://dbc-3841cce1-a3be.cloud.databricks.com/ml/experiments/1539464224853128/runs/c6a57d852cb1474f9fe3bfd89d4d5c88\n",
      "🧪 View experiment at: https://dbc-3841cce1-a3be.cloud.databricks.com/ml/experiments/1539464224853128\n",
      "🏃 View run auspicious-snail-278 at: https://dbc-3841cce1-a3be.cloud.databricks.com/ml/experiments/1539464224853128/runs/06de901a7d2b420896fbe51bd2f45f72\n",
      "🧪 View experiment at: https://dbc-3841cce1-a3be.cloud.databricks.com/ml/experiments/1539464224853128\n",
      "🏃 View run unruly-panda-464 at: https://dbc-3841cce1-a3be.cloud.databricks.com/ml/experiments/1539464224853128/runs/6a0ec5e71e57410f8da71f74f933ce20\n",
      "🧪 View experiment at: https://dbc-3841cce1-a3be.cloud.databricks.com/ml/experiments/1539464224853128\n",
      "🏃 View run wistful-foal-216 at: https://dbc-3841cce1-a3be.cloud.databricks.com/ml/experiments/1539464224853128/runs/4c7a6d967ae74474a828f447fd78f137\n",
      "🧪 View experiment at: https://dbc-3841cce1-a3be.cloud.databricks.com/ml/experiments/1539464224853128\n",
      "🏃 View run unequaled-steed-640 at: https://dbc-3841cce1-a3be.cloud.databricks.com/ml/experiments/1539464224853128/runs/ca6d6e8e92114f7eb946a1b7dcd5557a\n",
      "🧪 View experiment at: https://dbc-3841cce1-a3be.cloud.databricks.com/ml/experiments/1539464224853128\n",
      "🏃 View run nebulous-mare-820 at: https://dbc-3841cce1-a3be.cloud.databricks.com/ml/experiments/1539464224853128/runs/82e4aedbc63540acba6651cd23bd9497\n",
      "🧪 View experiment at: https://dbc-3841cce1-a3be.cloud.databricks.com/ml/experiments/1539464224853128\n",
      "🏃 View run capable-stag-769 at: https://dbc-3841cce1-a3be.cloud.databricks.com/ml/experiments/1539464224853128/runs/90acc1f342144c67a11e880e703078b6\n",
      "🧪 View experiment at: https://dbc-3841cce1-a3be.cloud.databricks.com/ml/experiments/1539464224853128\n",
      "🏃 View run carefree-seal-526 at: https://dbc-3841cce1-a3be.cloud.databricks.com/ml/experiments/1539464224853128/runs/a03c9cfe0fd747e2b08bab56041dee96\n",
      "🧪 View experiment at: https://dbc-3841cce1-a3be.cloud.databricks.com/ml/experiments/1539464224853128\n",
      "🏃 View run inquisitive-koi-421 at: https://dbc-3841cce1-a3be.cloud.databricks.com/ml/experiments/1539464224853128/runs/11d70329972845e08d00179dd9b1403a\n",
      "🧪 View experiment at: https://dbc-3841cce1-a3be.cloud.databricks.com/ml/experiments/1539464224853128\n",
      "🏃 View run bustling-stag-188 at: https://dbc-3841cce1-a3be.cloud.databricks.com/ml/experiments/1539464224853128/runs/e4dab97734464149b042c057803fdb21\n",
      "🧪 View experiment at: https://dbc-3841cce1-a3be.cloud.databricks.com/ml/experiments/1539464224853128\n",
      "🏃 View run adorable-wren-574 at: https://dbc-3841cce1-a3be.cloud.databricks.com/ml/experiments/1539464224853128/runs/bbc46a1ac9f14e339581372a0b11f613\n",
      "🧪 View experiment at: https://dbc-3841cce1-a3be.cloud.databricks.com/ml/experiments/1539464224853128\n",
      "🏃 View run skittish-tern-795 at: https://dbc-3841cce1-a3be.cloud.databricks.com/ml/experiments/1539464224853128/runs/b7cc2c1fccfc41f0b178dfae8a11127d\n",
      "🧪 View experiment at: https://dbc-3841cce1-a3be.cloud.databricks.com/ml/experiments/1539464224853128\n",
      "🏃 View run invincible-shark-985 at: https://dbc-3841cce1-a3be.cloud.databricks.com/ml/experiments/1539464224853128/runs/3a669ba4de98404c9a2f4361a07d0412\n",
      "🧪 View experiment at: https://dbc-3841cce1-a3be.cloud.databricks.com/ml/experiments/1539464224853128\n",
      "🏃 View run bemused-bee-69 at: https://dbc-3841cce1-a3be.cloud.databricks.com/ml/experiments/1539464224853128/runs/dce10a991e8645e18ba43a9434810890\n",
      "🧪 View experiment at: https://dbc-3841cce1-a3be.cloud.databricks.com/ml/experiments/1539464224853128\n",
      "🏃 View run polite-bird-793 at: https://dbc-3841cce1-a3be.cloud.databricks.com/ml/experiments/1539464224853128/runs/218959a6407d44108b640b5975e0a7bd\n",
      "🧪 View experiment at: https://dbc-3841cce1-a3be.cloud.databricks.com/ml/experiments/1539464224853128\n",
      "🏃 View run righteous-hare-96 at: https://dbc-3841cce1-a3be.cloud.databricks.com/ml/experiments/1539464224853128/runs/3dce9d4964e04d9581370d836a8b727a\n",
      "🧪 View experiment at: https://dbc-3841cce1-a3be.cloud.databricks.com/ml/experiments/1539464224853128\n",
      "🏃 View run rogue-robin-164 at: https://dbc-3841cce1-a3be.cloud.databricks.com/ml/experiments/1539464224853128/runs/97e863aaeef14db2ab81da171798bae9\n",
      "🧪 View experiment at: https://dbc-3841cce1-a3be.cloud.databricks.com/ml/experiments/1539464224853128\n",
      "🏃 View run kindly-snake-142 at: https://dbc-3841cce1-a3be.cloud.databricks.com/ml/experiments/1539464224853128/runs/e98c74f11dbf4d65a2c2429c4ae8b35a\n",
      "🧪 View experiment at: https://dbc-3841cce1-a3be.cloud.databricks.com/ml/experiments/1539464224853128\n",
      "🏃 View run bright-koi-75 at: https://dbc-3841cce1-a3be.cloud.databricks.com/ml/experiments/1539464224853128/runs/28f27bf608674a81abf140f58236761c\n",
      "🧪 View experiment at: https://dbc-3841cce1-a3be.cloud.databricks.com/ml/experiments/1539464224853128\n",
      "🏃 View run fun-cod-988 at: https://dbc-3841cce1-a3be.cloud.databricks.com/ml/experiments/1539464224853128/runs/0c78f362449a42b889f28dd571d0ee25\n",
      "🧪 View experiment at: https://dbc-3841cce1-a3be.cloud.databricks.com/ml/experiments/1539464224853128\n",
      "🏃 View run efficient-bird-880 at: https://dbc-3841cce1-a3be.cloud.databricks.com/ml/experiments/1539464224853128/runs/207ccce0e4cb4382a12a3e2db47b7b82\n",
      "🧪 View experiment at: https://dbc-3841cce1-a3be.cloud.databricks.com/ml/experiments/1539464224853128\n",
      "🏃 View run secretive-sponge-511 at: https://dbc-3841cce1-a3be.cloud.databricks.com/ml/experiments/1539464224853128/runs/82534d4ffc9c4551b6326f18f57f2311\n",
      "🧪 View experiment at: https://dbc-3841cce1-a3be.cloud.databricks.com/ml/experiments/1539464224853128\n",
      "🏃 View run caring-stoat-849 at: https://dbc-3841cce1-a3be.cloud.databricks.com/ml/experiments/1539464224853128/runs/d29bc5ce7ad7452795e779ff019d2fe7\n",
      "🧪 View experiment at: https://dbc-3841cce1-a3be.cloud.databricks.com/ml/experiments/1539464224853128\n",
      "🏃 View run honorable-shoat-782 at: https://dbc-3841cce1-a3be.cloud.databricks.com/ml/experiments/1539464224853128/runs/390a819047c148a3bd3e5bea418059f9\n",
      "🧪 View experiment at: https://dbc-3841cce1-a3be.cloud.databricks.com/ml/experiments/1539464224853128\n",
      "🏃 View run charming-dove-204 at: https://dbc-3841cce1-a3be.cloud.databricks.com/ml/experiments/1539464224853128/runs/015b2f72692c4b7ca10fae22790148d4\n",
      "🧪 View experiment at: https://dbc-3841cce1-a3be.cloud.databricks.com/ml/experiments/1539464224853128\n",
      "🏃 View run beautiful-rook-791 at: https://dbc-3841cce1-a3be.cloud.databricks.com/ml/experiments/1539464224853128/runs/38bbd3a9f1a44dda8111ec382e970cfb\n",
      "🧪 View experiment at: https://dbc-3841cce1-a3be.cloud.databricks.com/ml/experiments/1539464224853128\n",
      "🏃 View run respected-rat-676 at: https://dbc-3841cce1-a3be.cloud.databricks.com/ml/experiments/1539464224853128/runs/ca46bf10649b4231ae5093c74c9b6cab\n",
      "🧪 View experiment at: https://dbc-3841cce1-a3be.cloud.databricks.com/ml/experiments/1539464224853128\n",
      "🏃 View run magnificent-hen-746 at: https://dbc-3841cce1-a3be.cloud.databricks.com/ml/experiments/1539464224853128/runs/d7a3a86e06964bfcba61434bcdec56f0\n",
      "🧪 View experiment at: https://dbc-3841cce1-a3be.cloud.databricks.com/ml/experiments/1539464224853128\n",
      "🏃 View run merciful-quail-806 at: https://dbc-3841cce1-a3be.cloud.databricks.com/ml/experiments/1539464224853128/runs/0a0fe17d62254c90ae0c2c8baa3c8052\n",
      "🧪 View experiment at: https://dbc-3841cce1-a3be.cloud.databricks.com/ml/experiments/1539464224853128\n",
      "🏃 View run charming-horse-874 at: https://dbc-3841cce1-a3be.cloud.databricks.com/ml/experiments/1539464224853128/runs/8853eacd09fd4f858e22fbc456d7b7f8\n",
      "🧪 View experiment at: https://dbc-3841cce1-a3be.cloud.databricks.com/ml/experiments/1539464224853128\n",
      "🏃 View run abrasive-fish-838 at: https://dbc-3841cce1-a3be.cloud.databricks.com/ml/experiments/1539464224853128/runs/2631047e75dc42518418b4f45e5cb3de\n",
      "🧪 View experiment at: https://dbc-3841cce1-a3be.cloud.databricks.com/ml/experiments/1539464224853128\n",
      "🏃 View run peaceful-seal-413 at: https://dbc-3841cce1-a3be.cloud.databricks.com/ml/experiments/1539464224853128/runs/a1e2fc4aa6454b60bbe23fe64ce70e31\n",
      "🧪 View experiment at: https://dbc-3841cce1-a3be.cloud.databricks.com/ml/experiments/1539464224853128\n",
      "🏃 View run industrious-fly-91 at: https://dbc-3841cce1-a3be.cloud.databricks.com/ml/experiments/1539464224853128/runs/5c240245cb0a49c89a9d8ab54dce4744\n",
      "🧪 View experiment at: https://dbc-3841cce1-a3be.cloud.databricks.com/ml/experiments/1539464224853128\n",
      "🏃 View run glamorous-chimp-468 at: https://dbc-3841cce1-a3be.cloud.databricks.com/ml/experiments/1539464224853128/runs/13652a386c134507a51d3fb61e7dc743\n",
      "🧪 View experiment at: https://dbc-3841cce1-a3be.cloud.databricks.com/ml/experiments/1539464224853128\n",
      "🏃 View run angry-fish-274 at: https://dbc-3841cce1-a3be.cloud.databricks.com/ml/experiments/1539464224853128/runs/dbcc819643a140c9bd02bbff213de63a\n",
      "🧪 View experiment at: https://dbc-3841cce1-a3be.cloud.databricks.com/ml/experiments/1539464224853128\n",
      "🏃 View run beautiful-dog-655 at: https://dbc-3841cce1-a3be.cloud.databricks.com/ml/experiments/1539464224853128/runs/ccd68654de4b4e13ab4d5a67134b0f20\n",
      "🧪 View experiment at: https://dbc-3841cce1-a3be.cloud.databricks.com/ml/experiments/1539464224853128\n",
      "🏃 View run amazing-hound-655 at: https://dbc-3841cce1-a3be.cloud.databricks.com/ml/experiments/1539464224853128/runs/6f19b188ed7843de876e81b08529e84f\n",
      "🧪 View experiment at: https://dbc-3841cce1-a3be.cloud.databricks.com/ml/experiments/1539464224853128\n",
      "🏃 View run judicious-ox-334 at: https://dbc-3841cce1-a3be.cloud.databricks.com/ml/experiments/1539464224853128/runs/2046e2cca7ad4728b188ae0c940c736d\n",
      "🧪 View experiment at: https://dbc-3841cce1-a3be.cloud.databricks.com/ml/experiments/1539464224853128\n",
      "🏃 View run judicious-carp-443 at: https://dbc-3841cce1-a3be.cloud.databricks.com/ml/experiments/1539464224853128/runs/a7554c261f7a4b67b5266a299683ef47\n",
      "🧪 View experiment at: https://dbc-3841cce1-a3be.cloud.databricks.com/ml/experiments/1539464224853128\n",
      "🏃 View run shivering-wren-243 at: https://dbc-3841cce1-a3be.cloud.databricks.com/ml/experiments/1539464224853128/runs/919c3cca23534951a035b95e45748449\n",
      "🧪 View experiment at: https://dbc-3841cce1-a3be.cloud.databricks.com/ml/experiments/1539464224853128\n",
      "🏃 View run auspicious-boar-445 at: https://dbc-3841cce1-a3be.cloud.databricks.com/ml/experiments/1539464224853128/runs/0cfc6a4ab6ce40bc8f0218eeb4913247\n",
      "🧪 View experiment at: https://dbc-3841cce1-a3be.cloud.databricks.com/ml/experiments/1539464224853128\n",
      "🏃 View run overjoyed-trout-483 at: https://dbc-3841cce1-a3be.cloud.databricks.com/ml/experiments/1539464224853128/runs/4647b7adab994f02b1212712ecbb8529\n",
      "🧪 View experiment at: https://dbc-3841cce1-a3be.cloud.databricks.com/ml/experiments/1539464224853128\n",
      "🏃 View run delicate-kite-342 at: https://dbc-3841cce1-a3be.cloud.databricks.com/ml/experiments/1539464224853128/runs/2982e67016734164845a71bf7c93d658\n",
      "🧪 View experiment at: https://dbc-3841cce1-a3be.cloud.databricks.com/ml/experiments/1539464224853128\n",
      "🏃 View run mercurial-gnat-392 at: https://dbc-3841cce1-a3be.cloud.databricks.com/ml/experiments/1539464224853128/runs/ea810e619b844cbe8b1c3d1aece65729\n",
      "🧪 View experiment at: https://dbc-3841cce1-a3be.cloud.databricks.com/ml/experiments/1539464224853128\n",
      "🏃 View run melodic-smelt-550 at: https://dbc-3841cce1-a3be.cloud.databricks.com/ml/experiments/1539464224853128/runs/35f7a809a22f4b95aa6380fdca72fce4\n",
      "🧪 View experiment at: https://dbc-3841cce1-a3be.cloud.databricks.com/ml/experiments/1539464224853128\n",
      "🏃 View run wistful-finch-863 at: https://dbc-3841cce1-a3be.cloud.databricks.com/ml/experiments/1539464224853128/runs/88b05529397543f1817cc464965426ec\n",
      "🧪 View experiment at: https://dbc-3841cce1-a3be.cloud.databricks.com/ml/experiments/1539464224853128\n",
      "🏃 View run monumental-tern-119 at: https://dbc-3841cce1-a3be.cloud.databricks.com/ml/experiments/1539464224853128/runs/8b1348ba34d74e28a8086092b5c3b737\n",
      "🧪 View experiment at: https://dbc-3841cce1-a3be.cloud.databricks.com/ml/experiments/1539464224853128\n",
      "🏃 View run illustrious-colt-932 at: https://dbc-3841cce1-a3be.cloud.databricks.com/ml/experiments/1539464224853128/runs/faa4885236b64a8ca14127517f41d392\n",
      "🧪 View experiment at: https://dbc-3841cce1-a3be.cloud.databricks.com/ml/experiments/1539464224853128\n",
      "🏃 View run selective-flea-887 at: https://dbc-3841cce1-a3be.cloud.databricks.com/ml/experiments/1539464224853128/runs/671194b8eb75442ea32d7bf0fa24bd5b\n",
      "🧪 View experiment at: https://dbc-3841cce1-a3be.cloud.databricks.com/ml/experiments/1539464224853128\n",
      "🏃 View run respected-turtle-161 at: https://dbc-3841cce1-a3be.cloud.databricks.com/ml/experiments/1539464224853128/runs/b3240de2c0f949e495dde1873bd2f634\n",
      "🧪 View experiment at: https://dbc-3841cce1-a3be.cloud.databricks.com/ml/experiments/1539464224853128\n",
      "🏃 View run fearless-snail-362 at: https://dbc-3841cce1-a3be.cloud.databricks.com/ml/experiments/1539464224853128/runs/50062fdbbda64e6f89fb33c6646fd2f6\n",
      "🧪 View experiment at: https://dbc-3841cce1-a3be.cloud.databricks.com/ml/experiments/1539464224853128\n",
      "🏃 View run agreeable-dove-693 at: https://dbc-3841cce1-a3be.cloud.databricks.com/ml/experiments/1539464224853128/runs/7349ab9f260049fc958dd64b6b561374\n",
      "🧪 View experiment at: https://dbc-3841cce1-a3be.cloud.databricks.com/ml/experiments/1539464224853128\n",
      "🏃 View run amusing-bat-625 at: https://dbc-3841cce1-a3be.cloud.databricks.com/ml/experiments/1539464224853128/runs/7ebef7d2f38341ba9f4f5280bd2e8d85\n",
      "🧪 View experiment at: https://dbc-3841cce1-a3be.cloud.databricks.com/ml/experiments/1539464224853128\n",
      "🏃 View run amusing-fish-428 at: https://dbc-3841cce1-a3be.cloud.databricks.com/ml/experiments/1539464224853128/runs/32042418a54f49bb94f56e283bd4b220\n",
      "🧪 View experiment at: https://dbc-3841cce1-a3be.cloud.databricks.com/ml/experiments/1539464224853128\n",
      "🏃 View run bold-bee-719 at: https://dbc-3841cce1-a3be.cloud.databricks.com/ml/experiments/1539464224853128/runs/79c0902862f447e782bfc2e4c28702fb\n",
      "🧪 View experiment at: https://dbc-3841cce1-a3be.cloud.databricks.com/ml/experiments/1539464224853128\n",
      "🏃 View run intrigued-sow-719 at: https://dbc-3841cce1-a3be.cloud.databricks.com/ml/experiments/1539464224853128/runs/28bdaafcb50645268f411ecb3daeecc9\n",
      "🧪 View experiment at: https://dbc-3841cce1-a3be.cloud.databricks.com/ml/experiments/1539464224853128\n",
      "🏃 View run painted-jay-894 at: https://dbc-3841cce1-a3be.cloud.databricks.com/ml/experiments/1539464224853128/runs/8eb7139e8d4445cdbb566634d9406aa0\n",
      "🧪 View experiment at: https://dbc-3841cce1-a3be.cloud.databricks.com/ml/experiments/1539464224853128\n",
      "🏃 View run sedate-chimp-221 at: https://dbc-3841cce1-a3be.cloud.databricks.com/ml/experiments/1539464224853128/runs/784b84d0a9324f9a8476741f3b086704\n",
      "🧪 View experiment at: https://dbc-3841cce1-a3be.cloud.databricks.com/ml/experiments/1539464224853128\n",
      "🏃 View run chill-lynx-235 at: https://dbc-3841cce1-a3be.cloud.databricks.com/ml/experiments/1539464224853128/runs/b84a76fc18fb4f67b8577a295071ab5a\n",
      "🧪 View experiment at: https://dbc-3841cce1-a3be.cloud.databricks.com/ml/experiments/1539464224853128\n",
      "🏃 View run unleashed-stoat-820 at: https://dbc-3841cce1-a3be.cloud.databricks.com/ml/experiments/1539464224853128/runs/512d48872f0a436ba07a894300219c1a\n",
      "🧪 View experiment at: https://dbc-3841cce1-a3be.cloud.databricks.com/ml/experiments/1539464224853128\n",
      "🏃 View run enthused-sheep-319 at: https://dbc-3841cce1-a3be.cloud.databricks.com/ml/experiments/1539464224853128/runs/db8d6e09c1364537acc2ee3001a34e5d\n",
      "🧪 View experiment at: https://dbc-3841cce1-a3be.cloud.databricks.com/ml/experiments/1539464224853128\n",
      "🏃 View run classy-ox-567 at: https://dbc-3841cce1-a3be.cloud.databricks.com/ml/experiments/1539464224853128/runs/2d8d924e68634c498a6f930b6a5c2f06\n",
      "🧪 View experiment at: https://dbc-3841cce1-a3be.cloud.databricks.com/ml/experiments/1539464224853128\n",
      "🏃 View run judicious-wren-274 at: https://dbc-3841cce1-a3be.cloud.databricks.com/ml/experiments/1539464224853128/runs/93919cb3232b4f4eaaf101944f76597d\n",
      "🧪 View experiment at: https://dbc-3841cce1-a3be.cloud.databricks.com/ml/experiments/1539464224853128\n",
      "🏃 View run trusting-fly-723 at: https://dbc-3841cce1-a3be.cloud.databricks.com/ml/experiments/1539464224853128/runs/a5d0a2af1ab146c4b17a3e2145b7a6cf\n",
      "🧪 View experiment at: https://dbc-3841cce1-a3be.cloud.databricks.com/ml/experiments/1539464224853128\n",
      "🏃 View run lyrical-flea-196 at: https://dbc-3841cce1-a3be.cloud.databricks.com/ml/experiments/1539464224853128/runs/e98d9d2baf674eee9d950cfc4fc63784\n",
      "🧪 View experiment at: https://dbc-3841cce1-a3be.cloud.databricks.com/ml/experiments/1539464224853128\n",
      "🏃 View run worried-robin-357 at: https://dbc-3841cce1-a3be.cloud.databricks.com/ml/experiments/1539464224853128/runs/eb326b6405484c1ab8fc3b10e22f7a10\n",
      "🧪 View experiment at: https://dbc-3841cce1-a3be.cloud.databricks.com/ml/experiments/1539464224853128\n",
      "🏃 View run youthful-donkey-791 at: https://dbc-3841cce1-a3be.cloud.databricks.com/ml/experiments/1539464224853128/runs/fd1fd7ee82974c30a986c3ae606a7ea7\n",
      "🧪 View experiment at: https://dbc-3841cce1-a3be.cloud.databricks.com/ml/experiments/1539464224853128\n",
      "🏃 View run painted-crab-231 at: https://dbc-3841cce1-a3be.cloud.databricks.com/ml/experiments/1539464224853128/runs/8a1b986ed9654ccebebbc46a7cfd0bb2\n",
      "🧪 View experiment at: https://dbc-3841cce1-a3be.cloud.databricks.com/ml/experiments/1539464224853128\n",
      "🏃 View run classy-sloth-542 at: https://dbc-3841cce1-a3be.cloud.databricks.com/ml/experiments/1539464224853128/runs/edfbcc42133e438db82e6c27579357ee\n",
      "🧪 View experiment at: https://dbc-3841cce1-a3be.cloud.databricks.com/ml/experiments/1539464224853128\n",
      "🏃 View run wistful-doe-981 at: https://dbc-3841cce1-a3be.cloud.databricks.com/ml/experiments/1539464224853128/runs/10c49787f984454d9f6e76a48fa99ee0\n",
      "🧪 View experiment at: https://dbc-3841cce1-a3be.cloud.databricks.com/ml/experiments/1539464224853128\n",
      "🏃 View run gifted-zebra-380 at: https://dbc-3841cce1-a3be.cloud.databricks.com/ml/experiments/1539464224853128/runs/50f65919efac4febb1f2d62f3646d45c\n",
      "🧪 View experiment at: https://dbc-3841cce1-a3be.cloud.databricks.com/ml/experiments/1539464224853128\n",
      "🏃 View run mysterious-zebra-190 at: https://dbc-3841cce1-a3be.cloud.databricks.com/ml/experiments/1539464224853128/runs/c1ce070c12ba483c937d44614690e759\n",
      "🧪 View experiment at: https://dbc-3841cce1-a3be.cloud.databricks.com/ml/experiments/1539464224853128\n",
      "🏃 View run spiffy-gnu-776 at: https://dbc-3841cce1-a3be.cloud.databricks.com/ml/experiments/1539464224853128/runs/043db9db18cb428782d80482fa5cb5a9\n",
      "🧪 View experiment at: https://dbc-3841cce1-a3be.cloud.databricks.com/ml/experiments/1539464224853128\n",
      "🏃 View run honorable-turtle-866 at: https://dbc-3841cce1-a3be.cloud.databricks.com/ml/experiments/1539464224853128/runs/963df06bcb3d41fcae1cd2bc31434b25\n",
      "🧪 View experiment at: https://dbc-3841cce1-a3be.cloud.databricks.com/ml/experiments/1539464224853128\n",
      "🏃 View run whimsical-boar-704 at: https://dbc-3841cce1-a3be.cloud.databricks.com/ml/experiments/1539464224853128/runs/308ec51b487b4c94aa980cc9903f9765\n",
      "🧪 View experiment at: https://dbc-3841cce1-a3be.cloud.databricks.com/ml/experiments/1539464224853128\n",
      "🏃 View run defiant-crane-936 at: https://dbc-3841cce1-a3be.cloud.databricks.com/ml/experiments/1539464224853128/runs/77629479c5394964a7beb494b95b0676\n",
      "🧪 View experiment at: https://dbc-3841cce1-a3be.cloud.databricks.com/ml/experiments/1539464224853128\n",
      "🏃 View run fortunate-snipe-302 at: https://dbc-3841cce1-a3be.cloud.databricks.com/ml/experiments/1539464224853128/runs/a4dc0fef6ea7436d9b9e01d75b3afc2d\n",
      "🧪 View experiment at: https://dbc-3841cce1-a3be.cloud.databricks.com/ml/experiments/1539464224853128\n",
      "🏃 View run traveling-stoat-468 at: https://dbc-3841cce1-a3be.cloud.databricks.com/ml/experiments/1539464224853128/runs/096692863b834f4a92019f747953bc11\n",
      "🧪 View experiment at: https://dbc-3841cce1-a3be.cloud.databricks.com/ml/experiments/1539464224853128\n",
      "🏃 View run awesome-bear-748 at: https://dbc-3841cce1-a3be.cloud.databricks.com/ml/experiments/1539464224853128/runs/e20a18d4e03a42f58ed4b53583041b71\n",
      "🧪 View experiment at: https://dbc-3841cce1-a3be.cloud.databricks.com/ml/experiments/1539464224853128\n",
      "🏃 View run able-robin-970 at: https://dbc-3841cce1-a3be.cloud.databricks.com/ml/experiments/1539464224853128/runs/f3d865eb6b84447f8b081bb0b31d4163\n",
      "🧪 View experiment at: https://dbc-3841cce1-a3be.cloud.databricks.com/ml/experiments/1539464224853128\n",
      "🏃 View run spiffy-bee-663 at: https://dbc-3841cce1-a3be.cloud.databricks.com/ml/experiments/1539464224853128/runs/a7dcf19c60604786a7b336a48ef85368\n",
      "🧪 View experiment at: https://dbc-3841cce1-a3be.cloud.databricks.com/ml/experiments/1539464224853128\n",
      "🏃 View run capable-cod-172 at: https://dbc-3841cce1-a3be.cloud.databricks.com/ml/experiments/1539464224853128/runs/cf19f43326814d59b2d196da4d8943da\n",
      "🧪 View experiment at: https://dbc-3841cce1-a3be.cloud.databricks.com/ml/experiments/1539464224853128\n",
      "🏃 View run indecisive-croc-111 at: https://dbc-3841cce1-a3be.cloud.databricks.com/ml/experiments/1539464224853128/runs/be841acc4e8045349f331122324f5d2c\n",
      "🧪 View experiment at: https://dbc-3841cce1-a3be.cloud.databricks.com/ml/experiments/1539464224853128\n",
      "🏃 View run rambunctious-ox-553 at: https://dbc-3841cce1-a3be.cloud.databricks.com/ml/experiments/1539464224853128/runs/5218727615324702a85fd593c448511b\n",
      "🧪 View experiment at: https://dbc-3841cce1-a3be.cloud.databricks.com/ml/experiments/1539464224853128\n",
      "🏃 View run languid-chimp-531 at: https://dbc-3841cce1-a3be.cloud.databricks.com/ml/experiments/1539464224853128/runs/d4de737c3d304b92b9ba06739b903fcd\n",
      "🧪 View experiment at: https://dbc-3841cce1-a3be.cloud.databricks.com/ml/experiments/1539464224853128\n",
      "🏃 View run melodic-shark-627 at: https://dbc-3841cce1-a3be.cloud.databricks.com/ml/experiments/1539464224853128/runs/ed01912cd0ea42979d27968e920a0284\n",
      "🧪 View experiment at: https://dbc-3841cce1-a3be.cloud.databricks.com/ml/experiments/1539464224853128\n",
      "🏃 View run mysterious-gull-684 at: https://dbc-3841cce1-a3be.cloud.databricks.com/ml/experiments/1539464224853128/runs/82b8e3956e5349c4ad4caafa15196743\n",
      "🧪 View experiment at: https://dbc-3841cce1-a3be.cloud.databricks.com/ml/experiments/1539464224853128\n",
      "🏃 View run efficient-kite-248 at: https://dbc-3841cce1-a3be.cloud.databricks.com/ml/experiments/1539464224853128/runs/61339df564b04429b8e01496ed23b778\n",
      "🧪 View experiment at: https://dbc-3841cce1-a3be.cloud.databricks.com/ml/experiments/1539464224853128\n",
      "🏃 View run caring-doe-133 at: https://dbc-3841cce1-a3be.cloud.databricks.com/ml/experiments/1539464224853128/runs/736a78f4233d40d9910f961d815480ba\n",
      "🧪 View experiment at: https://dbc-3841cce1-a3be.cloud.databricks.com/ml/experiments/1539464224853128\n",
      "🏃 View run righteous-sponge-803 at: https://dbc-3841cce1-a3be.cloud.databricks.com/ml/experiments/1539464224853128/runs/40f4f748964648c2afb67958f762f2a1\n",
      "🧪 View experiment at: https://dbc-3841cce1-a3be.cloud.databricks.com/ml/experiments/1539464224853128\n",
      "🏃 View run big-conch-863 at: https://dbc-3841cce1-a3be.cloud.databricks.com/ml/experiments/1539464224853128/runs/18f588b145df4d9b847bd0bcf403e8fd\n",
      "🧪 View experiment at: https://dbc-3841cce1-a3be.cloud.databricks.com/ml/experiments/1539464224853128\n",
      "🏃 View run loud-ant-41 at: https://dbc-3841cce1-a3be.cloud.databricks.com/ml/experiments/1539464224853128/runs/5a2e9e6236864ac39716997eb2459eff\n",
      "🧪 View experiment at: https://dbc-3841cce1-a3be.cloud.databricks.com/ml/experiments/1539464224853128\n",
      "🏃 View run burly-snail-850 at: https://dbc-3841cce1-a3be.cloud.databricks.com/ml/experiments/1539464224853128/runs/c31f4e2a749448e98c49463ad57ba7f5\n",
      "🧪 View experiment at: https://dbc-3841cce1-a3be.cloud.databricks.com/ml/experiments/1539464224853128\n",
      "🏃 View run exultant-doe-104 at: https://dbc-3841cce1-a3be.cloud.databricks.com/ml/experiments/1539464224853128/runs/6e2094fa69bd43d2909dc59009c3a1a5\n",
      "🧪 View experiment at: https://dbc-3841cce1-a3be.cloud.databricks.com/ml/experiments/1539464224853128\n",
      "🏃 View run aged-foal-925 at: https://dbc-3841cce1-a3be.cloud.databricks.com/ml/experiments/1539464224853128/runs/8e2f15682ef8477b97a67e93587e17de\n",
      "🧪 View experiment at: https://dbc-3841cce1-a3be.cloud.databricks.com/ml/experiments/1539464224853128\n",
      "🏃 View run orderly-turtle-530 at: https://dbc-3841cce1-a3be.cloud.databricks.com/ml/experiments/1539464224853128/runs/01d267ed6a25464cb047d2a6c2abdf4a\n",
      "🧪 View experiment at: https://dbc-3841cce1-a3be.cloud.databricks.com/ml/experiments/1539464224853128\n",
      "🏃 View run exultant-stag-42 at: https://dbc-3841cce1-a3be.cloud.databricks.com/ml/experiments/1539464224853128/runs/cd6dd758e16f4ecba0d68cc98dee366b\n",
      "🧪 View experiment at: https://dbc-3841cce1-a3be.cloud.databricks.com/ml/experiments/1539464224853128\n",
      "🏃 View run dashing-frog-90 at: https://dbc-3841cce1-a3be.cloud.databricks.com/ml/experiments/1539464224853128/runs/7ac0ae6f9a004f31bb73e6573df00d1b\n",
      "🧪 View experiment at: https://dbc-3841cce1-a3be.cloud.databricks.com/ml/experiments/1539464224853128\n",
      "🏃 View run masked-chimp-271 at: https://dbc-3841cce1-a3be.cloud.databricks.com/ml/experiments/1539464224853128/runs/0a8d15115e834b038cf914c130e42728\n",
      "🧪 View experiment at: https://dbc-3841cce1-a3be.cloud.databricks.com/ml/experiments/1539464224853128\n",
      "🏃 View run rogue-rook-925 at: https://dbc-3841cce1-a3be.cloud.databricks.com/ml/experiments/1539464224853128/runs/d26179f44d854b8294cbd8d223097fbc\n",
      "🧪 View experiment at: https://dbc-3841cce1-a3be.cloud.databricks.com/ml/experiments/1539464224853128\n",
      "🏃 View run stylish-worm-600 at: https://dbc-3841cce1-a3be.cloud.databricks.com/ml/experiments/1539464224853128/runs/21149174303b410db52f66d8559e8774\n",
      "🧪 View experiment at: https://dbc-3841cce1-a3be.cloud.databricks.com/ml/experiments/1539464224853128\n",
      "🏃 View run painted-shad-390 at: https://dbc-3841cce1-a3be.cloud.databricks.com/ml/experiments/1539464224853128/runs/f3d8200dd25a4b89bdc418b6cb1bf777\n",
      "🧪 View experiment at: https://dbc-3841cce1-a3be.cloud.databricks.com/ml/experiments/1539464224853128\n",
      "🏃 View run salty-hog-3 at: https://dbc-3841cce1-a3be.cloud.databricks.com/ml/experiments/1539464224853128/runs/dc40d8f5c57044e5824d6b24609a0bda\n",
      "🧪 View experiment at: https://dbc-3841cce1-a3be.cloud.databricks.com/ml/experiments/1539464224853128\n",
      "🏃 View run melodic-kite-726 at: https://dbc-3841cce1-a3be.cloud.databricks.com/ml/experiments/1539464224853128/runs/ef312ffc1830494abd0e55bd59237756\n",
      "🧪 View experiment at: https://dbc-3841cce1-a3be.cloud.databricks.com/ml/experiments/1539464224853128\n",
      "🏃 View run clumsy-kite-229 at: https://dbc-3841cce1-a3be.cloud.databricks.com/ml/experiments/1539464224853128/runs/7f99222e0f43409fb575f4e7a82db31f\n",
      "🧪 View experiment at: https://dbc-3841cce1-a3be.cloud.databricks.com/ml/experiments/1539464224853128\n",
      "🏃 View run victorious-rat-15 at: https://dbc-3841cce1-a3be.cloud.databricks.com/ml/experiments/1539464224853128/runs/f635986b10a647698c21335a9bf767c2\n",
      "🧪 View experiment at: https://dbc-3841cce1-a3be.cloud.databricks.com/ml/experiments/1539464224853128\n",
      "🏃 View run dapper-frog-746 at: https://dbc-3841cce1-a3be.cloud.databricks.com/ml/experiments/1539464224853128/runs/9c02d236bf0d4db48713cbf1e7e15cfe\n",
      "🧪 View experiment at: https://dbc-3841cce1-a3be.cloud.databricks.com/ml/experiments/1539464224853128\n",
      "🏃 View run calm-elk-847 at: https://dbc-3841cce1-a3be.cloud.databricks.com/ml/experiments/1539464224853128/runs/ec1733e6543e49919c3f4bc741035bf7\n",
      "🧪 View experiment at: https://dbc-3841cce1-a3be.cloud.databricks.com/ml/experiments/1539464224853128\n",
      "🏃 View run entertaining-ox-884 at: https://dbc-3841cce1-a3be.cloud.databricks.com/ml/experiments/1539464224853128/runs/0b4f85e606fd4e1189f3cc333cf6c8d8\n",
      "🧪 View experiment at: https://dbc-3841cce1-a3be.cloud.databricks.com/ml/experiments/1539464224853128\n",
      "🏃 View run suave-fish-145 at: https://dbc-3841cce1-a3be.cloud.databricks.com/ml/experiments/1539464224853128/runs/dad7f6c3c70e4ea28f2d4975a33c4f66\n",
      "🧪 View experiment at: https://dbc-3841cce1-a3be.cloud.databricks.com/ml/experiments/1539464224853128\n",
      "🏃 View run powerful-mole-32 at: https://dbc-3841cce1-a3be.cloud.databricks.com/ml/experiments/1539464224853128/runs/980eea6e0a6c40a6981d847ceea42a10\n",
      "🧪 View experiment at: https://dbc-3841cce1-a3be.cloud.databricks.com/ml/experiments/1539464224853128\n",
      "🏃 View run orderly-worm-773 at: https://dbc-3841cce1-a3be.cloud.databricks.com/ml/experiments/1539464224853128/runs/3f0f09306e0c402abcaf72ca359b3216\n",
      "🧪 View experiment at: https://dbc-3841cce1-a3be.cloud.databricks.com/ml/experiments/1539464224853128\n",
      "🏃 View run clean-mare-493 at: https://dbc-3841cce1-a3be.cloud.databricks.com/ml/experiments/1539464224853128/runs/8982ac362b4944d1be22651632b1ce72\n",
      "🧪 View experiment at: https://dbc-3841cce1-a3be.cloud.databricks.com/ml/experiments/1539464224853128\n",
      "🏃 View run puzzled-skink-92 at: https://dbc-3841cce1-a3be.cloud.databricks.com/ml/experiments/1539464224853128/runs/9a3f615abb3a4b4b8a5081c9c0ea59f6\n",
      "🧪 View experiment at: https://dbc-3841cce1-a3be.cloud.databricks.com/ml/experiments/1539464224853128\n",
      "🏃 View run learned-calf-583 at: https://dbc-3841cce1-a3be.cloud.databricks.com/ml/experiments/1539464224853128/runs/66fecbf8b3804021823e5b87d4b6e616\n",
      "🧪 View experiment at: https://dbc-3841cce1-a3be.cloud.databricks.com/ml/experiments/1539464224853128\n",
      "🏃 View run gifted-stork-643 at: https://dbc-3841cce1-a3be.cloud.databricks.com/ml/experiments/1539464224853128/runs/6cee7bba2f3841cdbdfd2b2640c70567\n",
      "🧪 View experiment at: https://dbc-3841cce1-a3be.cloud.databricks.com/ml/experiments/1539464224853128\n",
      "🏃 View run charming-shrike-222 at: https://dbc-3841cce1-a3be.cloud.databricks.com/ml/experiments/1539464224853128/runs/28447be1dbc74a44b32f6b7f53b0f462\n",
      "🧪 View experiment at: https://dbc-3841cce1-a3be.cloud.databricks.com/ml/experiments/1539464224853128\n",
      "🏃 View run secretive-wasp-743 at: https://dbc-3841cce1-a3be.cloud.databricks.com/ml/experiments/1539464224853128/runs/4caaf9eb72d4458889753818c5c0785a\n",
      "🧪 View experiment at: https://dbc-3841cce1-a3be.cloud.databricks.com/ml/experiments/1539464224853128\n",
      "🏃 View run bright-crab-558 at: https://dbc-3841cce1-a3be.cloud.databricks.com/ml/experiments/1539464224853128/runs/631f880b12004cd9a350f19b289393f3\n",
      "🧪 View experiment at: https://dbc-3841cce1-a3be.cloud.databricks.com/ml/experiments/1539464224853128\n",
      "🏃 View run learned-jay-186 at: https://dbc-3841cce1-a3be.cloud.databricks.com/ml/experiments/1539464224853128/runs/8df8cf1c26c34ef2b831f12013e00ba1\n",
      "🧪 View experiment at: https://dbc-3841cce1-a3be.cloud.databricks.com/ml/experiments/1539464224853128\n",
      "🏃 View run judicious-frog-156 at: https://dbc-3841cce1-a3be.cloud.databricks.com/ml/experiments/1539464224853128/runs/d1a06c43f8f74df4bed56d81c2b3cc6d\n",
      "🧪 View experiment at: https://dbc-3841cce1-a3be.cloud.databricks.com/ml/experiments/1539464224853128\n",
      "🏃 View run likeable-quail-133 at: https://dbc-3841cce1-a3be.cloud.databricks.com/ml/experiments/1539464224853128/runs/7fad130b81564b4a97f40c428a4d5f9a\n",
      "🧪 View experiment at: https://dbc-3841cce1-a3be.cloud.databricks.com/ml/experiments/1539464224853128\n",
      "🏃 View run exultant-pig-612 at: https://dbc-3841cce1-a3be.cloud.databricks.com/ml/experiments/1539464224853128/runs/736f2fa745f94e2390a0d9912c9df980\n",
      "🧪 View experiment at: https://dbc-3841cce1-a3be.cloud.databricks.com/ml/experiments/1539464224853128\n",
      "🏃 View run popular-vole-193 at: https://dbc-3841cce1-a3be.cloud.databricks.com/ml/experiments/1539464224853128/runs/24804cee52e34e4a9c0926f0fb5739c9\n",
      "🧪 View experiment at: https://dbc-3841cce1-a3be.cloud.databricks.com/ml/experiments/1539464224853128\n",
      "🏃 View run able-mouse-562 at: https://dbc-3841cce1-a3be.cloud.databricks.com/ml/experiments/1539464224853128/runs/58a628df0d5f434f84ed2e3e2d28e30f\n",
      "🧪 View experiment at: https://dbc-3841cce1-a3be.cloud.databricks.com/ml/experiments/1539464224853128\n",
      "🏃 View run kindly-conch-692 at: https://dbc-3841cce1-a3be.cloud.databricks.com/ml/experiments/1539464224853128/runs/dd802a62e53c4c21a6474fe2835c9d70\n",
      "🧪 View experiment at: https://dbc-3841cce1-a3be.cloud.databricks.com/ml/experiments/1539464224853128\n",
      "🏃 View run crawling-crane-166 at: https://dbc-3841cce1-a3be.cloud.databricks.com/ml/experiments/1539464224853128/runs/5cf9ff5d6c754050ac55b95d6eadaf01\n",
      "🧪 View experiment at: https://dbc-3841cce1-a3be.cloud.databricks.com/ml/experiments/1539464224853128\n",
      "🏃 View run dashing-rook-350 at: https://dbc-3841cce1-a3be.cloud.databricks.com/ml/experiments/1539464224853128/runs/d39738f7f842434cab226c0600b6287c\n",
      "🧪 View experiment at: https://dbc-3841cce1-a3be.cloud.databricks.com/ml/experiments/1539464224853128\n",
      "🏃 View run crawling-snipe-133 at: https://dbc-3841cce1-a3be.cloud.databricks.com/ml/experiments/1539464224853128/runs/a837d63d0e664ed39f577251b8cba958\n",
      "🧪 View experiment at: https://dbc-3841cce1-a3be.cloud.databricks.com/ml/experiments/1539464224853128\n",
      "🏃 View run stylish-stoat-40 at: https://dbc-3841cce1-a3be.cloud.databricks.com/ml/experiments/1539464224853128/runs/6a327bd820ad480ab57b01b9546c5e84\n",
      "🧪 View experiment at: https://dbc-3841cce1-a3be.cloud.databricks.com/ml/experiments/1539464224853128\n",
      "🏃 View run suave-zebra-318 at: https://dbc-3841cce1-a3be.cloud.databricks.com/ml/experiments/1539464224853128/runs/f507e8082c054eb380e197a1c74ee000\n",
      "🧪 View experiment at: https://dbc-3841cce1-a3be.cloud.databricks.com/ml/experiments/1539464224853128\n",
      "🏃 View run likeable-seal-529 at: https://dbc-3841cce1-a3be.cloud.databricks.com/ml/experiments/1539464224853128/runs/919f97d5a3724cb49b109faade79c53a\n",
      "🧪 View experiment at: https://dbc-3841cce1-a3be.cloud.databricks.com/ml/experiments/1539464224853128\n",
      "🏃 View run learned-boar-921 at: https://dbc-3841cce1-a3be.cloud.databricks.com/ml/experiments/1539464224853128/runs/7dd5faae290545d2a4de89352e226a8e\n",
      "🧪 View experiment at: https://dbc-3841cce1-a3be.cloud.databricks.com/ml/experiments/1539464224853128\n",
      "🏃 View run spiffy-ray-421 at: https://dbc-3841cce1-a3be.cloud.databricks.com/ml/experiments/1539464224853128/runs/89178fcbc4b34ad18763b7335fd5d1c0\n",
      "🧪 View experiment at: https://dbc-3841cce1-a3be.cloud.databricks.com/ml/experiments/1539464224853128\n",
      "🏃 View run wistful-zebra-342 at: https://dbc-3841cce1-a3be.cloud.databricks.com/ml/experiments/1539464224853128/runs/91587e9613d54a889c789ced72bd4dd0\n",
      "🧪 View experiment at: https://dbc-3841cce1-a3be.cloud.databricks.com/ml/experiments/1539464224853128\n",
      "🏃 View run indecisive-goose-440 at: https://dbc-3841cce1-a3be.cloud.databricks.com/ml/experiments/1539464224853128/runs/dcc863bd093c4885a5fe1c14cc3f53b8\n",
      "🧪 View experiment at: https://dbc-3841cce1-a3be.cloud.databricks.com/ml/experiments/1539464224853128\n",
      "🏃 View run brawny-duck-797 at: https://dbc-3841cce1-a3be.cloud.databricks.com/ml/experiments/1539464224853128/runs/65074958c71e457abea29dcba13c0f88\n",
      "🧪 View experiment at: https://dbc-3841cce1-a3be.cloud.databricks.com/ml/experiments/1539464224853128\n",
      "🏃 View run mercurial-fox-139 at: https://dbc-3841cce1-a3be.cloud.databricks.com/ml/experiments/1539464224853128/runs/129b8d21911545c6b38acd5676726a5f\n",
      "🧪 View experiment at: https://dbc-3841cce1-a3be.cloud.databricks.com/ml/experiments/1539464224853128\n",
      "🏃 View run debonair-owl-557 at: https://dbc-3841cce1-a3be.cloud.databricks.com/ml/experiments/1539464224853128/runs/c01de926773940d6ae162fdaa0691aea\n",
      "🧪 View experiment at: https://dbc-3841cce1-a3be.cloud.databricks.com/ml/experiments/1539464224853128\n",
      "🏃 View run dazzling-calf-131 at: https://dbc-3841cce1-a3be.cloud.databricks.com/ml/experiments/1539464224853128/runs/b04678c3ec444342806478018f4f6ead\n",
      "🧪 View experiment at: https://dbc-3841cce1-a3be.cloud.databricks.com/ml/experiments/1539464224853128\n",
      "🏃 View run abrasive-shrew-738 at: https://dbc-3841cce1-a3be.cloud.databricks.com/ml/experiments/1539464224853128/runs/6ab57e6059b543eeb0d42e2a43d46836\n",
      "🧪 View experiment at: https://dbc-3841cce1-a3be.cloud.databricks.com/ml/experiments/1539464224853128\n",
      "🏃 View run crawling-rook-819 at: https://dbc-3841cce1-a3be.cloud.databricks.com/ml/experiments/1539464224853128/runs/5fe470b358ed48b3a6c62b3777905601\n",
      "🧪 View experiment at: https://dbc-3841cce1-a3be.cloud.databricks.com/ml/experiments/1539464224853128\n",
      "🏃 View run traveling-auk-624 at: https://dbc-3841cce1-a3be.cloud.databricks.com/ml/experiments/1539464224853128/runs/b32f624e92d842009eadf2310ca15220\n",
      "🧪 View experiment at: https://dbc-3841cce1-a3be.cloud.databricks.com/ml/experiments/1539464224853128\n",
      "🏃 View run exultant-horse-890 at: https://dbc-3841cce1-a3be.cloud.databricks.com/ml/experiments/1539464224853128/runs/3cb2cfa7dd86462bb0ea9e4d41468174\n",
      "🧪 View experiment at: https://dbc-3841cce1-a3be.cloud.databricks.com/ml/experiments/1539464224853128\n",
      "🏃 View run melodic-goose-459 at: https://dbc-3841cce1-a3be.cloud.databricks.com/ml/experiments/1539464224853128/runs/05c03e157b7045d28f8121e2cccafa03\n",
      "🧪 View experiment at: https://dbc-3841cce1-a3be.cloud.databricks.com/ml/experiments/1539464224853128\n",
      "🏃 View run stylish-hound-740 at: https://dbc-3841cce1-a3be.cloud.databricks.com/ml/experiments/1539464224853128/runs/8c2e5e26c88a4d22815e75055f923304\n",
      "🧪 View experiment at: https://dbc-3841cce1-a3be.cloud.databricks.com/ml/experiments/1539464224853128\n",
      "🏃 View run gentle-mouse-565 at: https://dbc-3841cce1-a3be.cloud.databricks.com/ml/experiments/1539464224853128/runs/35bea2e36fcc482a8e9d578172f12073\n",
      "🧪 View experiment at: https://dbc-3841cce1-a3be.cloud.databricks.com/ml/experiments/1539464224853128\n",
      "🏃 View run smiling-ray-112 at: https://dbc-3841cce1-a3be.cloud.databricks.com/ml/experiments/1539464224853128/runs/cdd2ff51fcce4fa5925b93f17ef9a21a\n",
      "🧪 View experiment at: https://dbc-3841cce1-a3be.cloud.databricks.com/ml/experiments/1539464224853128\n",
      "🏃 View run judicious-sloth-257 at: https://dbc-3841cce1-a3be.cloud.databricks.com/ml/experiments/1539464224853128/runs/acd784a4344d401c981547fb8739b41d\n",
      "🧪 View experiment at: https://dbc-3841cce1-a3be.cloud.databricks.com/ml/experiments/1539464224853128\n",
      "🏃 View run spiffy-fawn-257 at: https://dbc-3841cce1-a3be.cloud.databricks.com/ml/experiments/1539464224853128/runs/8d3f0d176bbc41e2929f806e027c6c9f\n",
      "🧪 View experiment at: https://dbc-3841cce1-a3be.cloud.databricks.com/ml/experiments/1539464224853128\n",
      "🏃 View run rare-mole-48 at: https://dbc-3841cce1-a3be.cloud.databricks.com/ml/experiments/1539464224853128/runs/8d9ac0dd8f4d4257a832901edb9b7ca3\n",
      "🧪 View experiment at: https://dbc-3841cce1-a3be.cloud.databricks.com/ml/experiments/1539464224853128\n",
      "🏃 View run victorious-midge-837 at: https://dbc-3841cce1-a3be.cloud.databricks.com/ml/experiments/1539464224853128/runs/e15ac25b2e624df4af0d98cb02938178\n",
      "🧪 View experiment at: https://dbc-3841cce1-a3be.cloud.databricks.com/ml/experiments/1539464224853128\n",
      "🏃 View run sincere-duck-850 at: https://dbc-3841cce1-a3be.cloud.databricks.com/ml/experiments/1539464224853128/runs/ca5c6544d01e4ba19e38917f56146934\n",
      "🧪 View experiment at: https://dbc-3841cce1-a3be.cloud.databricks.com/ml/experiments/1539464224853128\n",
      "🏃 View run auspicious-squid-247 at: https://dbc-3841cce1-a3be.cloud.databricks.com/ml/experiments/1539464224853128/runs/05b89b62dde34cc29e09588cdd004d34\n",
      "🧪 View experiment at: https://dbc-3841cce1-a3be.cloud.databricks.com/ml/experiments/1539464224853128\n",
      "🏃 View run skittish-dolphin-82 at: https://dbc-3841cce1-a3be.cloud.databricks.com/ml/experiments/1539464224853128/runs/90c90c30e80b4408931676985da52aeb\n",
      "🧪 View experiment at: https://dbc-3841cce1-a3be.cloud.databricks.com/ml/experiments/1539464224853128\n",
      "🏃 View run awesome-sheep-365 at: https://dbc-3841cce1-a3be.cloud.databricks.com/ml/experiments/1539464224853128/runs/c9f1f18b569844a396ba41bb1a88f67d\n",
      "🧪 View experiment at: https://dbc-3841cce1-a3be.cloud.databricks.com/ml/experiments/1539464224853128\n",
      "🏃 View run nebulous-wolf-224 at: https://dbc-3841cce1-a3be.cloud.databricks.com/ml/experiments/1539464224853128/runs/fefcd3768bf64656805d7ac4ad0bb607\n",
      "🧪 View experiment at: https://dbc-3841cce1-a3be.cloud.databricks.com/ml/experiments/1539464224853128\n",
      "🏃 View run capricious-gnat-766 at: https://dbc-3841cce1-a3be.cloud.databricks.com/ml/experiments/1539464224853128/runs/b80be8dd141f4d11bf2d71fa092a660c\n",
      "🧪 View experiment at: https://dbc-3841cce1-a3be.cloud.databricks.com/ml/experiments/1539464224853128\n",
      "🏃 View run resilient-stag-604 at: https://dbc-3841cce1-a3be.cloud.databricks.com/ml/experiments/1539464224853128/runs/aa73e2d0cdf94123b27eb7a9c5ea84b5\n",
      "🧪 View experiment at: https://dbc-3841cce1-a3be.cloud.databricks.com/ml/experiments/1539464224853128\n",
      "🏃 View run sassy-carp-884 at: https://dbc-3841cce1-a3be.cloud.databricks.com/ml/experiments/1539464224853128/runs/44cbd55df02647dcb5728d149f0bddfe\n",
      "🧪 View experiment at: https://dbc-3841cce1-a3be.cloud.databricks.com/ml/experiments/1539464224853128\n",
      "🏃 View run thundering-asp-77 at: https://dbc-3841cce1-a3be.cloud.databricks.com/ml/experiments/1539464224853128/runs/bb11659ddb32470a824e96f51a94bc38\n",
      "🧪 View experiment at: https://dbc-3841cce1-a3be.cloud.databricks.com/ml/experiments/1539464224853128\n",
      "🏃 View run trusting-lynx-200 at: https://dbc-3841cce1-a3be.cloud.databricks.com/ml/experiments/1539464224853128/runs/77c8d9c406e14aa6abc0cd2c15a0ad0a\n",
      "🧪 View experiment at: https://dbc-3841cce1-a3be.cloud.databricks.com/ml/experiments/1539464224853128\n",
      "🏃 View run marvelous-midge-118 at: https://dbc-3841cce1-a3be.cloud.databricks.com/ml/experiments/1539464224853128/runs/aee742ba17ba43f791571f1ab08eb46c\n",
      "🧪 View experiment at: https://dbc-3841cce1-a3be.cloud.databricks.com/ml/experiments/1539464224853128\n",
      "🏃 View run gaudy-hen-72 at: https://dbc-3841cce1-a3be.cloud.databricks.com/ml/experiments/1539464224853128/runs/de327ecc8e2e49368dd49a1f8cf85282\n",
      "🧪 View experiment at: https://dbc-3841cce1-a3be.cloud.databricks.com/ml/experiments/1539464224853128\n",
      "🏃 View run valuable-sheep-815 at: https://dbc-3841cce1-a3be.cloud.databricks.com/ml/experiments/1539464224853128/runs/a003cdfeaa334a56be570179df3b9075\n",
      "🧪 View experiment at: https://dbc-3841cce1-a3be.cloud.databricks.com/ml/experiments/1539464224853128\n",
      "🏃 View run worried-fowl-11 at: https://dbc-3841cce1-a3be.cloud.databricks.com/ml/experiments/1539464224853128/runs/97fb569ffc3c476bb2b3c8a9506b3a12\n",
      "🧪 View experiment at: https://dbc-3841cce1-a3be.cloud.databricks.com/ml/experiments/1539464224853128\n",
      "🏃 View run rare-eel-189 at: https://dbc-3841cce1-a3be.cloud.databricks.com/ml/experiments/1539464224853128/runs/2a3bde3aa47d4e148aec24fe5e732b36\n",
      "🧪 View experiment at: https://dbc-3841cce1-a3be.cloud.databricks.com/ml/experiments/1539464224853128\n",
      "🏃 View run dazzling-fish-888 at: https://dbc-3841cce1-a3be.cloud.databricks.com/ml/experiments/1539464224853128/runs/e41d9b9ae3a94ec8ac17fdb8167c2150\n",
      "🧪 View experiment at: https://dbc-3841cce1-a3be.cloud.databricks.com/ml/experiments/1539464224853128\n",
      "🏃 View run luminous-sponge-283 at: https://dbc-3841cce1-a3be.cloud.databricks.com/ml/experiments/1539464224853128/runs/bc7001c391cf4725bc09b5b50f6402cc\n",
      "🧪 View experiment at: https://dbc-3841cce1-a3be.cloud.databricks.com/ml/experiments/1539464224853128\n",
      "🏃 View run upbeat-goat-712 at: https://dbc-3841cce1-a3be.cloud.databricks.com/ml/experiments/1539464224853128/runs/46167fa23b71436696b12fc7e9a86b6d\n",
      "🧪 View experiment at: https://dbc-3841cce1-a3be.cloud.databricks.com/ml/experiments/1539464224853128\n",
      "🏃 View run fortunate-ram-372 at: https://dbc-3841cce1-a3be.cloud.databricks.com/ml/experiments/1539464224853128/runs/cce09b33dadf4b849bd09fff0dcbd5dc\n",
      "🧪 View experiment at: https://dbc-3841cce1-a3be.cloud.databricks.com/ml/experiments/1539464224853128\n",
      "🏃 View run youthful-snipe-326 at: https://dbc-3841cce1-a3be.cloud.databricks.com/ml/experiments/1539464224853128/runs/82bf54d19587476583fd52b900069534\n",
      "🧪 View experiment at: https://dbc-3841cce1-a3be.cloud.databricks.com/ml/experiments/1539464224853128\n",
      "🏃 View run serious-moth-616 at: https://dbc-3841cce1-a3be.cloud.databricks.com/ml/experiments/1539464224853128/runs/4a73c193eabe4590a488a60d58647e06\n",
      "🧪 View experiment at: https://dbc-3841cce1-a3be.cloud.databricks.com/ml/experiments/1539464224853128\n",
      "🏃 View run mercurial-finch-86 at: https://dbc-3841cce1-a3be.cloud.databricks.com/ml/experiments/1539464224853128/runs/e4cac9ce10ab41d097d954f2c76a9078\n",
      "🧪 View experiment at: https://dbc-3841cce1-a3be.cloud.databricks.com/ml/experiments/1539464224853128\n",
      "🏃 View run painted-ram-675 at: https://dbc-3841cce1-a3be.cloud.databricks.com/ml/experiments/1539464224853128/runs/68a5434df3d04ce28646b22fbe507378\n",
      "🧪 View experiment at: https://dbc-3841cce1-a3be.cloud.databricks.com/ml/experiments/1539464224853128\n",
      "🏃 View run serious-steed-967 at: https://dbc-3841cce1-a3be.cloud.databricks.com/ml/experiments/1539464224853128/runs/97b07efe66874f41a2543f31313d44e1\n",
      "🧪 View experiment at: https://dbc-3841cce1-a3be.cloud.databricks.com/ml/experiments/1539464224853128\n",
      "🏃 View run ambitious-shark-182 at: https://dbc-3841cce1-a3be.cloud.databricks.com/ml/experiments/1539464224853128/runs/b8a83afcf1f74036a9e108e396187d2d\n",
      "🧪 View experiment at: https://dbc-3841cce1-a3be.cloud.databricks.com/ml/experiments/1539464224853128\n",
      "🏃 View run youthful-lamb-435 at: https://dbc-3841cce1-a3be.cloud.databricks.com/ml/experiments/1539464224853128/runs/25f16cc1515c4f21b04b1cc9b32260d0\n",
      "🧪 View experiment at: https://dbc-3841cce1-a3be.cloud.databricks.com/ml/experiments/1539464224853128\n",
      "🏃 View run worried-ape-30 at: https://dbc-3841cce1-a3be.cloud.databricks.com/ml/experiments/1539464224853128/runs/a7b973c4dc9d4d31a72660d3681ca27b\n",
      "🧪 View experiment at: https://dbc-3841cce1-a3be.cloud.databricks.com/ml/experiments/1539464224853128\n",
      "🏃 View run amusing-cod-92 at: https://dbc-3841cce1-a3be.cloud.databricks.com/ml/experiments/1539464224853128/runs/219b1b5389d4493683dccdbf7f26f2b8\n",
      "🧪 View experiment at: https://dbc-3841cce1-a3be.cloud.databricks.com/ml/experiments/1539464224853128\n",
      "🏃 View run charming-skunk-447 at: https://dbc-3841cce1-a3be.cloud.databricks.com/ml/experiments/1539464224853128/runs/152397e936e6413dbfd22f04914adc9f\n",
      "🧪 View experiment at: https://dbc-3841cce1-a3be.cloud.databricks.com/ml/experiments/1539464224853128\n",
      "🏃 View run classy-carp-752 at: https://dbc-3841cce1-a3be.cloud.databricks.com/ml/experiments/1539464224853128/runs/1d9a7c67b618451cadfbead27ae38437\n",
      "🧪 View experiment at: https://dbc-3841cce1-a3be.cloud.databricks.com/ml/experiments/1539464224853128\n",
      "🏃 View run shivering-robin-797 at: https://dbc-3841cce1-a3be.cloud.databricks.com/ml/experiments/1539464224853128/runs/686613ba266b4cf1bbc5c08c7325d3ab\n",
      "🧪 View experiment at: https://dbc-3841cce1-a3be.cloud.databricks.com/ml/experiments/1539464224853128\n",
      "🏃 View run orderly-stoat-213 at: https://dbc-3841cce1-a3be.cloud.databricks.com/ml/experiments/1539464224853128/runs/aa5cc41fcbd0409489d75cf8c0bb5764\n",
      "🧪 View experiment at: https://dbc-3841cce1-a3be.cloud.databricks.com/ml/experiments/1539464224853128\n",
      "🏃 View run stately-shrimp-651 at: https://dbc-3841cce1-a3be.cloud.databricks.com/ml/experiments/1539464224853128/runs/020f342e79f84c75831c7e76cb102938\n",
      "🧪 View experiment at: https://dbc-3841cce1-a3be.cloud.databricks.com/ml/experiments/1539464224853128\n",
      "🏃 View run nosy-kit-219 at: https://dbc-3841cce1-a3be.cloud.databricks.com/ml/experiments/1539464224853128/runs/1e30a0d8edab4aa690d257fb7f90568e\n",
      "🧪 View experiment at: https://dbc-3841cce1-a3be.cloud.databricks.com/ml/experiments/1539464224853128\n",
      "🏃 View run clean-ox-526 at: https://dbc-3841cce1-a3be.cloud.databricks.com/ml/experiments/1539464224853128/runs/35698d43f56b4f1fa0c686c4a905df24\n",
      "🧪 View experiment at: https://dbc-3841cce1-a3be.cloud.databricks.com/ml/experiments/1539464224853128\n",
      "🏃 View run wise-mule-416 at: https://dbc-3841cce1-a3be.cloud.databricks.com/ml/experiments/1539464224853128/runs/329a98b8b4b74cc086d559de5ed38983\n",
      "🧪 View experiment at: https://dbc-3841cce1-a3be.cloud.databricks.com/ml/experiments/1539464224853128\n",
      "🏃 View run melodic-crab-567 at: https://dbc-3841cce1-a3be.cloud.databricks.com/ml/experiments/1539464224853128/runs/17a323c773e74abc8da7d662daf1053d\n",
      "🧪 View experiment at: https://dbc-3841cce1-a3be.cloud.databricks.com/ml/experiments/1539464224853128\n",
      "🏃 View run skittish-mole-135 at: https://dbc-3841cce1-a3be.cloud.databricks.com/ml/experiments/1539464224853128/runs/a201239453b44bbebcae8abacfd09f76\n",
      "🧪 View experiment at: https://dbc-3841cce1-a3be.cloud.databricks.com/ml/experiments/1539464224853128\n",
      "🏃 View run orderly-ram-565 at: https://dbc-3841cce1-a3be.cloud.databricks.com/ml/experiments/1539464224853128/runs/0612f31819c747ac8752f79c48741f9c\n",
      "🧪 View experiment at: https://dbc-3841cce1-a3be.cloud.databricks.com/ml/experiments/1539464224853128\n",
      "🏃 View run stately-boar-712 at: https://dbc-3841cce1-a3be.cloud.databricks.com/ml/experiments/1539464224853128/runs/a45847d928e74f0e989af7543f83862e\n",
      "🧪 View experiment at: https://dbc-3841cce1-a3be.cloud.databricks.com/ml/experiments/1539464224853128\n",
      "🏃 View run caring-bear-804 at: https://dbc-3841cce1-a3be.cloud.databricks.com/ml/experiments/1539464224853128/runs/1980d69807ce4c17870f15c489cf6c98\n",
      "🧪 View experiment at: https://dbc-3841cce1-a3be.cloud.databricks.com/ml/experiments/1539464224853128\n",
      "🏃 View run sedate-cat-595 at: https://dbc-3841cce1-a3be.cloud.databricks.com/ml/experiments/1539464224853128/runs/bfd511259fd04671b433de460bbed30c\n",
      "🧪 View experiment at: https://dbc-3841cce1-a3be.cloud.databricks.com/ml/experiments/1539464224853128\n",
      "🏃 View run incongruous-fox-919 at: https://dbc-3841cce1-a3be.cloud.databricks.com/ml/experiments/1539464224853128/runs/0407fc3a64084c308b30c2482a032317\n",
      "🧪 View experiment at: https://dbc-3841cce1-a3be.cloud.databricks.com/ml/experiments/1539464224853128\n",
      "🏃 View run loud-steed-181 at: https://dbc-3841cce1-a3be.cloud.databricks.com/ml/experiments/1539464224853128/runs/bbff7ba5011a404380c1ce41adc7cf92\n",
      "🧪 View experiment at: https://dbc-3841cce1-a3be.cloud.databricks.com/ml/experiments/1539464224853128\n",
      "🏃 View run gentle-trout-823 at: https://dbc-3841cce1-a3be.cloud.databricks.com/ml/experiments/1539464224853128/runs/337835393616431bb061c3ee1bd07125\n",
      "🧪 View experiment at: https://dbc-3841cce1-a3be.cloud.databricks.com/ml/experiments/1539464224853128\n",
      "🏃 View run sedate-moose-125 at: https://dbc-3841cce1-a3be.cloud.databricks.com/ml/experiments/1539464224853128/runs/1f5cb1a009b545ea9ac083281eec763d\n",
      "🧪 View experiment at: https://dbc-3841cce1-a3be.cloud.databricks.com/ml/experiments/1539464224853128\n",
      "🏃 View run abundant-finch-732 at: https://dbc-3841cce1-a3be.cloud.databricks.com/ml/experiments/1539464224853128/runs/0fac47c97d794b22973d2baee526d3da\n",
      "🧪 View experiment at: https://dbc-3841cce1-a3be.cloud.databricks.com/ml/experiments/1539464224853128\n",
      "🏃 View run capable-crane-219 at: https://dbc-3841cce1-a3be.cloud.databricks.com/ml/experiments/1539464224853128/runs/53bd0730825541ceb9555aaa2b5f03cb\n",
      "🧪 View experiment at: https://dbc-3841cce1-a3be.cloud.databricks.com/ml/experiments/1539464224853128\n",
      "🏃 View run luminous-wolf-607 at: https://dbc-3841cce1-a3be.cloud.databricks.com/ml/experiments/1539464224853128/runs/aa03e1192b644b7a8d6bd9b32c83fc18\n",
      "🧪 View experiment at: https://dbc-3841cce1-a3be.cloud.databricks.com/ml/experiments/1539464224853128\n",
      "🏃 View run gregarious-loon-770 at: https://dbc-3841cce1-a3be.cloud.databricks.com/ml/experiments/1539464224853128/runs/d6d7ea8a327647848698741c02f2a57c\n",
      "🧪 View experiment at: https://dbc-3841cce1-a3be.cloud.databricks.com/ml/experiments/1539464224853128\n",
      "🏃 View run agreeable-fowl-844 at: https://dbc-3841cce1-a3be.cloud.databricks.com/ml/experiments/1539464224853128/runs/629c4348cd6e49e0b6d90c24eadf7dc2\n",
      "🧪 View experiment at: https://dbc-3841cce1-a3be.cloud.databricks.com/ml/experiments/1539464224853128\n",
      "🏃 View run youthful-conch-596 at: https://dbc-3841cce1-a3be.cloud.databricks.com/ml/experiments/1539464224853128/runs/f5cfc243cf2641c1aced86c4692a9abb\n",
      "🧪 View experiment at: https://dbc-3841cce1-a3be.cloud.databricks.com/ml/experiments/1539464224853128\n",
      "🏃 View run vaunted-finch-861 at: https://dbc-3841cce1-a3be.cloud.databricks.com/ml/experiments/1539464224853128/runs/68d1485f8eda497093e06ba7b4ceca10\n",
      "🧪 View experiment at: https://dbc-3841cce1-a3be.cloud.databricks.com/ml/experiments/1539464224853128\n",
      "🏃 View run painted-fly-770 at: https://dbc-3841cce1-a3be.cloud.databricks.com/ml/experiments/1539464224853128/runs/d5e6d02a84a64621a5dabff43548325c\n",
      "🧪 View experiment at: https://dbc-3841cce1-a3be.cloud.databricks.com/ml/experiments/1539464224853128\n",
      "🏃 View run persistent-loon-616 at: https://dbc-3841cce1-a3be.cloud.databricks.com/ml/experiments/1539464224853128/runs/14123378af574acfb584b86842cc63ed\n",
      "🧪 View experiment at: https://dbc-3841cce1-a3be.cloud.databricks.com/ml/experiments/1539464224853128\n",
      "🏃 View run judicious-horse-325 at: https://dbc-3841cce1-a3be.cloud.databricks.com/ml/experiments/1539464224853128/runs/157f8e6727d74519aeca0b88924cf0b7\n",
      "🧪 View experiment at: https://dbc-3841cce1-a3be.cloud.databricks.com/ml/experiments/1539464224853128\n",
      "🏃 View run gregarious-flea-648 at: https://dbc-3841cce1-a3be.cloud.databricks.com/ml/experiments/1539464224853128/runs/14d611cf9cb1415d8f05500000919acf\n",
      "🧪 View experiment at: https://dbc-3841cce1-a3be.cloud.databricks.com/ml/experiments/1539464224853128\n",
      "🏃 View run thundering-colt-803 at: https://dbc-3841cce1-a3be.cloud.databricks.com/ml/experiments/1539464224853128/runs/38994b57e9164f9bb6af8beecaa744ae\n",
      "🧪 View experiment at: https://dbc-3841cce1-a3be.cloud.databricks.com/ml/experiments/1539464224853128\n",
      "🏃 View run shivering-cod-455 at: https://dbc-3841cce1-a3be.cloud.databricks.com/ml/experiments/1539464224853128/runs/a2e69787fd8e42a9bbdde86751f27984\n",
      "🧪 View experiment at: https://dbc-3841cce1-a3be.cloud.databricks.com/ml/experiments/1539464224853128\n",
      "🏃 View run omniscient-stoat-899 at: https://dbc-3841cce1-a3be.cloud.databricks.com/ml/experiments/1539464224853128/runs/4f9a01dfb458419d9504d697bb18a1ba\n",
      "🧪 View experiment at: https://dbc-3841cce1-a3be.cloud.databricks.com/ml/experiments/1539464224853128\n",
      "🏃 View run dapper-snail-884 at: https://dbc-3841cce1-a3be.cloud.databricks.com/ml/experiments/1539464224853128/runs/ee3fe03aa0934f8185b856bc1f635596\n",
      "🧪 View experiment at: https://dbc-3841cce1-a3be.cloud.databricks.com/ml/experiments/1539464224853128\n",
      "🏃 View run delicate-frog-812 at: https://dbc-3841cce1-a3be.cloud.databricks.com/ml/experiments/1539464224853128/runs/827fe14efb784eee932439517e1eb554\n",
      "🧪 View experiment at: https://dbc-3841cce1-a3be.cloud.databricks.com/ml/experiments/1539464224853128\n",
      "🏃 View run masked-shrimp-262 at: https://dbc-3841cce1-a3be.cloud.databricks.com/ml/experiments/1539464224853128/runs/09ad0b48f74f4b6bbf9a4bfc7c0f3b2a\n",
      "🧪 View experiment at: https://dbc-3841cce1-a3be.cloud.databricks.com/ml/experiments/1539464224853128\n",
      "🏃 View run delightful-steed-561 at: https://dbc-3841cce1-a3be.cloud.databricks.com/ml/experiments/1539464224853128/runs/4af3dfa463a1454aaa8d7689c680381c\n",
      "🧪 View experiment at: https://dbc-3841cce1-a3be.cloud.databricks.com/ml/experiments/1539464224853128\n",
      "🏃 View run handsome-crow-989 at: https://dbc-3841cce1-a3be.cloud.databricks.com/ml/experiments/1539464224853128/runs/e46724723dc84b56bb38edf2c46aecdc\n",
      "🧪 View experiment at: https://dbc-3841cce1-a3be.cloud.databricks.com/ml/experiments/1539464224853128\n",
      "🏃 View run judicious-wolf-809 at: https://dbc-3841cce1-a3be.cloud.databricks.com/ml/experiments/1539464224853128/runs/c6143a694c4844e79dcb924774067fb5\n",
      "🧪 View experiment at: https://dbc-3841cce1-a3be.cloud.databricks.com/ml/experiments/1539464224853128\n",
      "🏃 View run dashing-lamb-499 at: https://dbc-3841cce1-a3be.cloud.databricks.com/ml/experiments/1539464224853128/runs/a0730150d26d483da874a9c871b354d6\n",
      "🧪 View experiment at: https://dbc-3841cce1-a3be.cloud.databricks.com/ml/experiments/1539464224853128\n",
      "🏃 View run tasteful-horse-107 at: https://dbc-3841cce1-a3be.cloud.databricks.com/ml/experiments/1539464224853128/runs/1d2e31db322a4f6d9f0ea570a179d8f1\n",
      "🧪 View experiment at: https://dbc-3841cce1-a3be.cloud.databricks.com/ml/experiments/1539464224853128\n",
      "🏃 View run delicate-trout-912 at: https://dbc-3841cce1-a3be.cloud.databricks.com/ml/experiments/1539464224853128/runs/67bf58766910413f8ab274bfbc0afdff\n",
      "🧪 View experiment at: https://dbc-3841cce1-a3be.cloud.databricks.com/ml/experiments/1539464224853128\n",
      "🏃 View run indecisive-pig-91 at: https://dbc-3841cce1-a3be.cloud.databricks.com/ml/experiments/1539464224853128/runs/0e74c453175d46e789a4390200266493\n",
      "🧪 View experiment at: https://dbc-3841cce1-a3be.cloud.databricks.com/ml/experiments/1539464224853128\n",
      "🏃 View run inquisitive-ape-334 at: https://dbc-3841cce1-a3be.cloud.databricks.com/ml/experiments/1539464224853128/runs/e6a6ac8c662c4a28a79f8df0dbdbe167\n",
      "🧪 View experiment at: https://dbc-3841cce1-a3be.cloud.databricks.com/ml/experiments/1539464224853128\n",
      "🏃 View run marvelous-shoat-410 at: https://dbc-3841cce1-a3be.cloud.databricks.com/ml/experiments/1539464224853128/runs/0a3db5fdea404327b7f54bc937fb51ca\n",
      "🧪 View experiment at: https://dbc-3841cce1-a3be.cloud.databricks.com/ml/experiments/1539464224853128\n",
      "🏃 View run upset-seal-44 at: https://dbc-3841cce1-a3be.cloud.databricks.com/ml/experiments/1539464224853128/runs/0e9855fac79e447e916fd097829d1353\n",
      "🧪 View experiment at: https://dbc-3841cce1-a3be.cloud.databricks.com/ml/experiments/1539464224853128\n",
      "🏃 View run bemused-robin-985 at: https://dbc-3841cce1-a3be.cloud.databricks.com/ml/experiments/1539464224853128/runs/9156019aba924ca99fc0ade576fe8003\n",
      "🧪 View experiment at: https://dbc-3841cce1-a3be.cloud.databricks.com/ml/experiments/1539464224853128\n",
      "🏃 View run bald-dolphin-76 at: https://dbc-3841cce1-a3be.cloud.databricks.com/ml/experiments/1539464224853128/runs/9f438b8a63a74075aa02bce482e4e81d\n",
      "🧪 View experiment at: https://dbc-3841cce1-a3be.cloud.databricks.com/ml/experiments/1539464224853128\n",
      "🏃 View run useful-wren-240 at: https://dbc-3841cce1-a3be.cloud.databricks.com/ml/experiments/1539464224853128/runs/9f26dbb3a564447688edd189792fdbcf\n",
      "🧪 View experiment at: https://dbc-3841cce1-a3be.cloud.databricks.com/ml/experiments/1539464224853128\n",
      "🏃 View run unleashed-shark-800 at: https://dbc-3841cce1-a3be.cloud.databricks.com/ml/experiments/1539464224853128/runs/07d1368dd20347aeb8637f3f234d55b9\n",
      "🧪 View experiment at: https://dbc-3841cce1-a3be.cloud.databricks.com/ml/experiments/1539464224853128\n",
      "🏃 View run dapper-whale-171 at: https://dbc-3841cce1-a3be.cloud.databricks.com/ml/experiments/1539464224853128/runs/2e0030b3fba74c38a02ea886a9f72afb\n",
      "🧪 View experiment at: https://dbc-3841cce1-a3be.cloud.databricks.com/ml/experiments/1539464224853128\n",
      "🏃 View run respected-ape-389 at: https://dbc-3841cce1-a3be.cloud.databricks.com/ml/experiments/1539464224853128/runs/1f02af19b039496c935cea995e56fcfd\n",
      "🧪 View experiment at: https://dbc-3841cce1-a3be.cloud.databricks.com/ml/experiments/1539464224853128\n",
      "🏃 View run stylish-perch-955 at: https://dbc-3841cce1-a3be.cloud.databricks.com/ml/experiments/1539464224853128/runs/90085e6163e541fcafe6efa0ac56d956\n",
      "🧪 View experiment at: https://dbc-3841cce1-a3be.cloud.databricks.com/ml/experiments/1539464224853128\n",
      "🏃 View run bald-mule-980 at: https://dbc-3841cce1-a3be.cloud.databricks.com/ml/experiments/1539464224853128/runs/eb0b55c904454f54be7421d67f1b0e96\n",
      "🧪 View experiment at: https://dbc-3841cce1-a3be.cloud.databricks.com/ml/experiments/1539464224853128\n",
      "🏃 View run skillful-mare-828 at: https://dbc-3841cce1-a3be.cloud.databricks.com/ml/experiments/1539464224853128/runs/6b16f5e9873b487ba2fae057381f40c1\n",
      "🧪 View experiment at: https://dbc-3841cce1-a3be.cloud.databricks.com/ml/experiments/1539464224853128\n",
      "🏃 View run delicate-bat-107 at: https://dbc-3841cce1-a3be.cloud.databricks.com/ml/experiments/1539464224853128/runs/f3cc29dcbee94a7f96fe4145443c4df3\n",
      "🧪 View experiment at: https://dbc-3841cce1-a3be.cloud.databricks.com/ml/experiments/1539464224853128\n",
      "🏃 View run inquisitive-worm-954 at: https://dbc-3841cce1-a3be.cloud.databricks.com/ml/experiments/1539464224853128/runs/0616d2d7b8394720a18786c5b74ca161\n",
      "🧪 View experiment at: https://dbc-3841cce1-a3be.cloud.databricks.com/ml/experiments/1539464224853128\n",
      "🏃 View run grandiose-grub-161 at: https://dbc-3841cce1-a3be.cloud.databricks.com/ml/experiments/1539464224853128/runs/15a12ebe23894197be54923a55755a7a\n",
      "🧪 View experiment at: https://dbc-3841cce1-a3be.cloud.databricks.com/ml/experiments/1539464224853128\n",
      "🏃 View run bright-stork-863 at: https://dbc-3841cce1-a3be.cloud.databricks.com/ml/experiments/1539464224853128/runs/d0ac5cbd11e74c80a189a7eb4f9826f5\n",
      "🧪 View experiment at: https://dbc-3841cce1-a3be.cloud.databricks.com/ml/experiments/1539464224853128\n",
      "🏃 View run delicate-mouse-51 at: https://dbc-3841cce1-a3be.cloud.databricks.com/ml/experiments/1539464224853128/runs/4043b9aa1a9341dc9711d56327d0bd9b\n",
      "🧪 View experiment at: https://dbc-3841cce1-a3be.cloud.databricks.com/ml/experiments/1539464224853128\n",
      "🏃 View run silent-zebra-615 at: https://dbc-3841cce1-a3be.cloud.databricks.com/ml/experiments/1539464224853128/runs/98c8fbb774494a0b8e04d42b72d59e54\n",
      "🧪 View experiment at: https://dbc-3841cce1-a3be.cloud.databricks.com/ml/experiments/1539464224853128\n",
      "🏃 View run ambitious-vole-374 at: https://dbc-3841cce1-a3be.cloud.databricks.com/ml/experiments/1539464224853128/runs/a4f642521cea46839095c7b83fa41909\n",
      "🧪 View experiment at: https://dbc-3841cce1-a3be.cloud.databricks.com/ml/experiments/1539464224853128\n",
      "🏃 View run nimble-doe-292 at: https://dbc-3841cce1-a3be.cloud.databricks.com/ml/experiments/1539464224853128/runs/a3a609345bf942509515e64796bdd2ed\n",
      "🧪 View experiment at: https://dbc-3841cce1-a3be.cloud.databricks.com/ml/experiments/1539464224853128\n",
      "🏃 View run blushing-ox-455 at: https://dbc-3841cce1-a3be.cloud.databricks.com/ml/experiments/1539464224853128/runs/b32670f6dc37436fa5e668ae14490183\n",
      "🧪 View experiment at: https://dbc-3841cce1-a3be.cloud.databricks.com/ml/experiments/1539464224853128\n",
      "🏃 View run honorable-slug-9 at: https://dbc-3841cce1-a3be.cloud.databricks.com/ml/experiments/1539464224853128/runs/91a5e8a135c14fefbe934c611da0de31\n",
      "🧪 View experiment at: https://dbc-3841cce1-a3be.cloud.databricks.com/ml/experiments/1539464224853128\n",
      "🏃 View run invincible-zebra-430 at: https://dbc-3841cce1-a3be.cloud.databricks.com/ml/experiments/1539464224853128/runs/3f53705aa34840e3aa11b9371f8f3a25\n",
      "🧪 View experiment at: https://dbc-3841cce1-a3be.cloud.databricks.com/ml/experiments/1539464224853128\n",
      "🏃 View run luminous-seal-479 at: https://dbc-3841cce1-a3be.cloud.databricks.com/ml/experiments/1539464224853128/runs/f234e639217c4829a1d973f4beab338b\n",
      "🧪 View experiment at: https://dbc-3841cce1-a3be.cloud.databricks.com/ml/experiments/1539464224853128\n",
      "🏃 View run beautiful-pug-748 at: https://dbc-3841cce1-a3be.cloud.databricks.com/ml/experiments/1539464224853128/runs/8af279f2203749aaa61da848c27c4099\n",
      "🧪 View experiment at: https://dbc-3841cce1-a3be.cloud.databricks.com/ml/experiments/1539464224853128\n",
      "🏃 View run spiffy-skunk-287 at: https://dbc-3841cce1-a3be.cloud.databricks.com/ml/experiments/1539464224853128/runs/3fd390f9af5f476fb708009c1a02742f\n",
      "🧪 View experiment at: https://dbc-3841cce1-a3be.cloud.databricks.com/ml/experiments/1539464224853128\n",
      "🏃 View run luxuriant-bird-906 at: https://dbc-3841cce1-a3be.cloud.databricks.com/ml/experiments/1539464224853128/runs/29ed1242e40242a4898baff4fc43d4fd\n",
      "🧪 View experiment at: https://dbc-3841cce1-a3be.cloud.databricks.com/ml/experiments/1539464224853128\n",
      "🏃 View run bald-kit-93 at: https://dbc-3841cce1-a3be.cloud.databricks.com/ml/experiments/1539464224853128/runs/7b273c6aa1414d9b9a5656e27adf4963\n",
      "🧪 View experiment at: https://dbc-3841cce1-a3be.cloud.databricks.com/ml/experiments/1539464224853128\n",
      "🏃 View run luxuriant-shrike-349 at: https://dbc-3841cce1-a3be.cloud.databricks.com/ml/experiments/1539464224853128/runs/6f9d946b5c484993a0ec0dac1dfd556a\n",
      "🧪 View experiment at: https://dbc-3841cce1-a3be.cloud.databricks.com/ml/experiments/1539464224853128\n",
      "🏃 View run angry-shrimp-424 at: https://dbc-3841cce1-a3be.cloud.databricks.com/ml/experiments/1539464224853128/runs/d15558f2ea7a4eb893ef2438444b45fa\n",
      "🧪 View experiment at: https://dbc-3841cce1-a3be.cloud.databricks.com/ml/experiments/1539464224853128\n",
      "🏃 View run clumsy-snipe-87 at: https://dbc-3841cce1-a3be.cloud.databricks.com/ml/experiments/1539464224853128/runs/d841de2283de48f4b3aaccf1371aecdc\n",
      "🧪 View experiment at: https://dbc-3841cce1-a3be.cloud.databricks.com/ml/experiments/1539464224853128\n",
      "🏃 View run selective-deer-803 at: https://dbc-3841cce1-a3be.cloud.databricks.com/ml/experiments/1539464224853128/runs/d287cc7458494736aa8e984bae92bc8c\n",
      "🧪 View experiment at: https://dbc-3841cce1-a3be.cloud.databricks.com/ml/experiments/1539464224853128\n",
      "🏃 View run sassy-dolphin-688 at: https://dbc-3841cce1-a3be.cloud.databricks.com/ml/experiments/1539464224853128/runs/80c269a6c2ee4855a84f9c161597cfb0\n",
      "🧪 View experiment at: https://dbc-3841cce1-a3be.cloud.databricks.com/ml/experiments/1539464224853128\n",
      "🏃 View run whimsical-asp-131 at: https://dbc-3841cce1-a3be.cloud.databricks.com/ml/experiments/1539464224853128/runs/2f78e028cccb42c1825970315f26fd75\n",
      "🧪 View experiment at: https://dbc-3841cce1-a3be.cloud.databricks.com/ml/experiments/1539464224853128\n",
      "🏃 View run persistent-roo-898 at: https://dbc-3841cce1-a3be.cloud.databricks.com/ml/experiments/1539464224853128/runs/af343692783e4aed83b2706a2603a098\n",
      "🧪 View experiment at: https://dbc-3841cce1-a3be.cloud.databricks.com/ml/experiments/1539464224853128\n",
      "🏃 View run skittish-steed-565 at: https://dbc-3841cce1-a3be.cloud.databricks.com/ml/experiments/1539464224853128/runs/be5f972651474bcebe450270152beedd\n",
      "🧪 View experiment at: https://dbc-3841cce1-a3be.cloud.databricks.com/ml/experiments/1539464224853128\n",
      "🏃 View run masked-croc-744 at: https://dbc-3841cce1-a3be.cloud.databricks.com/ml/experiments/1539464224853128/runs/7078bc11920049bbb694d7947812d150\n",
      "🧪 View experiment at: https://dbc-3841cce1-a3be.cloud.databricks.com/ml/experiments/1539464224853128\n",
      "🏃 View run capable-wren-128 at: https://dbc-3841cce1-a3be.cloud.databricks.com/ml/experiments/1539464224853128/runs/de8bbb9b9173439c87d5c300c67bbd22\n",
      "🧪 View experiment at: https://dbc-3841cce1-a3be.cloud.databricks.com/ml/experiments/1539464224853128\n",
      "🏃 View run selective-mule-743 at: https://dbc-3841cce1-a3be.cloud.databricks.com/ml/experiments/1539464224853128/runs/b2f96b1e289342fd938a921e2b5a67c3\n",
      "🧪 View experiment at: https://dbc-3841cce1-a3be.cloud.databricks.com/ml/experiments/1539464224853128\n",
      "🏃 View run angry-pug-219 at: https://dbc-3841cce1-a3be.cloud.databricks.com/ml/experiments/1539464224853128/runs/289a489dce4b4a86ad5897d18aa494e5\n",
      "🧪 View experiment at: https://dbc-3841cce1-a3be.cloud.databricks.com/ml/experiments/1539464224853128\n",
      "🏃 View run zealous-squirrel-617 at: https://dbc-3841cce1-a3be.cloud.databricks.com/ml/experiments/1539464224853128/runs/c0624c43acdf470a90ed5aa6186a0b8b\n",
      "🧪 View experiment at: https://dbc-3841cce1-a3be.cloud.databricks.com/ml/experiments/1539464224853128\n",
      "🏃 View run ambitious-croc-195 at: https://dbc-3841cce1-a3be.cloud.databricks.com/ml/experiments/1539464224853128/runs/9c45890fd298412a9f1ceabbcd305aa4\n",
      "🧪 View experiment at: https://dbc-3841cce1-a3be.cloud.databricks.com/ml/experiments/1539464224853128\n",
      "🏃 View run luxuriant-fly-979 at: https://dbc-3841cce1-a3be.cloud.databricks.com/ml/experiments/1539464224853128/runs/4d4ca82fd2794c98be4062f20bbac0d8\n",
      "🧪 View experiment at: https://dbc-3841cce1-a3be.cloud.databricks.com/ml/experiments/1539464224853128\n",
      "🏃 View run adaptable-grub-726 at: https://dbc-3841cce1-a3be.cloud.databricks.com/ml/experiments/1539464224853128/runs/41839aa557074dee8e70b72602824cd4\n",
      "🧪 View experiment at: https://dbc-3841cce1-a3be.cloud.databricks.com/ml/experiments/1539464224853128\n",
      "🏃 View run righteous-duck-195 at: https://dbc-3841cce1-a3be.cloud.databricks.com/ml/experiments/1539464224853128/runs/311294411e8a4dd9ba764cbdbe5b2ac6\n",
      "🧪 View experiment at: https://dbc-3841cce1-a3be.cloud.databricks.com/ml/experiments/1539464224853128\n",
      "🏃 View run illustrious-owl-97 at: https://dbc-3841cce1-a3be.cloud.databricks.com/ml/experiments/1539464224853128/runs/54280dae172346b6a18b70866abde60b\n",
      "🧪 View experiment at: https://dbc-3841cce1-a3be.cloud.databricks.com/ml/experiments/1539464224853128\n",
      "🏃 View run monumental-sloth-580 at: https://dbc-3841cce1-a3be.cloud.databricks.com/ml/experiments/1539464224853128/runs/8214f43dda1247e9909c951886b7f8d4\n",
      "🧪 View experiment at: https://dbc-3841cce1-a3be.cloud.databricks.com/ml/experiments/1539464224853128\n",
      "🏃 View run colorful-panda-664 at: https://dbc-3841cce1-a3be.cloud.databricks.com/ml/experiments/1539464224853128/runs/4afdef1b9d2f4def9467d05a71eb1c61\n",
      "🧪 View experiment at: https://dbc-3841cce1-a3be.cloud.databricks.com/ml/experiments/1539464224853128\n",
      "🏃 View run learned-moth-373 at: https://dbc-3841cce1-a3be.cloud.databricks.com/ml/experiments/1539464224853128/runs/d84455a3a0e840a3b3a43ce755531654\n",
      "🧪 View experiment at: https://dbc-3841cce1-a3be.cloud.databricks.com/ml/experiments/1539464224853128\n",
      "🏃 View run enthused-kite-95 at: https://dbc-3841cce1-a3be.cloud.databricks.com/ml/experiments/1539464224853128/runs/b11c7b89eea340ccb417b6d266f64811\n",
      "🧪 View experiment at: https://dbc-3841cce1-a3be.cloud.databricks.com/ml/experiments/1539464224853128\n",
      "🏃 View run enthused-shrimp-295 at: https://dbc-3841cce1-a3be.cloud.databricks.com/ml/experiments/1539464224853128/runs/2fd33b9bf0494c728f59af88e5d0aa22\n",
      "🧪 View experiment at: https://dbc-3841cce1-a3be.cloud.databricks.com/ml/experiments/1539464224853128\n",
      "🏃 View run suave-shrike-691 at: https://dbc-3841cce1-a3be.cloud.databricks.com/ml/experiments/1539464224853128/runs/08b4b6998d634d8c8334748ef05b23cb\n",
      "🧪 View experiment at: https://dbc-3841cce1-a3be.cloud.databricks.com/ml/experiments/1539464224853128\n",
      "🏃 View run judicious-turtle-717 at: https://dbc-3841cce1-a3be.cloud.databricks.com/ml/experiments/1539464224853128/runs/8e2b93228ada4966a2210e245feadaef\n",
      "🧪 View experiment at: https://dbc-3841cce1-a3be.cloud.databricks.com/ml/experiments/1539464224853128\n",
      "🏃 View run honorable-kit-16 at: https://dbc-3841cce1-a3be.cloud.databricks.com/ml/experiments/1539464224853128/runs/624278efde5f47afbd44bce38da09276\n",
      "🧪 View experiment at: https://dbc-3841cce1-a3be.cloud.databricks.com/ml/experiments/1539464224853128\n",
      "🏃 View run sassy-mole-964 at: https://dbc-3841cce1-a3be.cloud.databricks.com/ml/experiments/1539464224853128/runs/e10d7fc477384da09a2113bbb880ddd5\n",
      "🧪 View experiment at: https://dbc-3841cce1-a3be.cloud.databricks.com/ml/experiments/1539464224853128\n",
      "🏃 View run stylish-horse-144 at: https://dbc-3841cce1-a3be.cloud.databricks.com/ml/experiments/1539464224853128/runs/52dfb0561e6b4caab5f01332108094c4\n",
      "🧪 View experiment at: https://dbc-3841cce1-a3be.cloud.databricks.com/ml/experiments/1539464224853128\n",
      "🏃 View run welcoming-horse-339 at: https://dbc-3841cce1-a3be.cloud.databricks.com/ml/experiments/1539464224853128/runs/c76f311397764f208949c1ba954ba1d6\n",
      "🧪 View experiment at: https://dbc-3841cce1-a3be.cloud.databricks.com/ml/experiments/1539464224853128\n",
      "🏃 View run monumental-asp-300 at: https://dbc-3841cce1-a3be.cloud.databricks.com/ml/experiments/1539464224853128/runs/aa708c12b3bb4c87a86119d789cf64fe\n",
      "🧪 View experiment at: https://dbc-3841cce1-a3be.cloud.databricks.com/ml/experiments/1539464224853128\n",
      "🏃 View run upbeat-ray-740 at: https://dbc-3841cce1-a3be.cloud.databricks.com/ml/experiments/1539464224853128/runs/c9906829cd4e4004a9fc2f3eb1a0eab1\n",
      "🧪 View experiment at: https://dbc-3841cce1-a3be.cloud.databricks.com/ml/experiments/1539464224853128\n",
      "🏃 View run fearless-dolphin-424 at: https://dbc-3841cce1-a3be.cloud.databricks.com/ml/experiments/1539464224853128/runs/bcc9f9d452a94788b3d5bae73121e913\n",
      "🧪 View experiment at: https://dbc-3841cce1-a3be.cloud.databricks.com/ml/experiments/1539464224853128\n",
      "🏃 View run big-robin-1 at: https://dbc-3841cce1-a3be.cloud.databricks.com/ml/experiments/1539464224853128/runs/8a9758dbf12a4742abe01521051e3e60\n",
      "🧪 View experiment at: https://dbc-3841cce1-a3be.cloud.databricks.com/ml/experiments/1539464224853128\n",
      "🏃 View run peaceful-cat-244 at: https://dbc-3841cce1-a3be.cloud.databricks.com/ml/experiments/1539464224853128/runs/eeff3761b0514cd4ba47f87921d7334e\n",
      "🧪 View experiment at: https://dbc-3841cce1-a3be.cloud.databricks.com/ml/experiments/1539464224853128\n",
      "🏃 View run thoughtful-kit-581 at: https://dbc-3841cce1-a3be.cloud.databricks.com/ml/experiments/1539464224853128/runs/a3243b1776354a2390b447b950f9e510\n",
      "🧪 View experiment at: https://dbc-3841cce1-a3be.cloud.databricks.com/ml/experiments/1539464224853128\n",
      "🏃 View run redolent-shrimp-760 at: https://dbc-3841cce1-a3be.cloud.databricks.com/ml/experiments/1539464224853128/runs/9e60860459c44b71918c20efce2062c1\n",
      "🧪 View experiment at: https://dbc-3841cce1-a3be.cloud.databricks.com/ml/experiments/1539464224853128\n",
      "🏃 View run adaptable-lark-801 at: https://dbc-3841cce1-a3be.cloud.databricks.com/ml/experiments/1539464224853128/runs/2a8eae69f7124f17b2c01d33aad3b1d6\n",
      "🧪 View experiment at: https://dbc-3841cce1-a3be.cloud.databricks.com/ml/experiments/1539464224853128\n",
      "🏃 View run overjoyed-grub-744 at: https://dbc-3841cce1-a3be.cloud.databricks.com/ml/experiments/1539464224853128/runs/7890181cbd3c4e93a2a8e7e55b957abf\n",
      "🧪 View experiment at: https://dbc-3841cce1-a3be.cloud.databricks.com/ml/experiments/1539464224853128\n",
      "🏃 View run big-roo-60 at: https://dbc-3841cce1-a3be.cloud.databricks.com/ml/experiments/1539464224853128/runs/285061da126146a3ab69d8f63805315e\n",
      "🧪 View experiment at: https://dbc-3841cce1-a3be.cloud.databricks.com/ml/experiments/1539464224853128\n",
      "🏃 View run overjoyed-duck-458 at: https://dbc-3841cce1-a3be.cloud.databricks.com/ml/experiments/1539464224853128/runs/e76427be56874d2d9736c76027be090e\n",
      "🧪 View experiment at: https://dbc-3841cce1-a3be.cloud.databricks.com/ml/experiments/1539464224853128\n",
      "🏃 View run sneaky-bear-178 at: https://dbc-3841cce1-a3be.cloud.databricks.com/ml/experiments/1539464224853128/runs/d308f50992c74af5b9acdd21c174116c\n",
      "🧪 View experiment at: https://dbc-3841cce1-a3be.cloud.databricks.com/ml/experiments/1539464224853128\n",
      "🏃 View run exultant-shrike-188 at: https://dbc-3841cce1-a3be.cloud.databricks.com/ml/experiments/1539464224853128/runs/d4b0201c4cb54c84ae18414435a970a3\n",
      "🧪 View experiment at: https://dbc-3841cce1-a3be.cloud.databricks.com/ml/experiments/1539464224853128\n",
      "🏃 View run trusting-fawn-391 at: https://dbc-3841cce1-a3be.cloud.databricks.com/ml/experiments/1539464224853128/runs/8beeafbe54da4959870c1fa2b88e7279\n",
      "🧪 View experiment at: https://dbc-3841cce1-a3be.cloud.databricks.com/ml/experiments/1539464224853128\n",
      "🏃 View run auspicious-rat-962 at: https://dbc-3841cce1-a3be.cloud.databricks.com/ml/experiments/1539464224853128/runs/a02c4b42632a4af9bb356900e9484cca\n",
      "🧪 View experiment at: https://dbc-3841cce1-a3be.cloud.databricks.com/ml/experiments/1539464224853128\n",
      "🏃 View run clumsy-dolphin-564 at: https://dbc-3841cce1-a3be.cloud.databricks.com/ml/experiments/1539464224853128/runs/41195a4ceb604a4988eedcd1f749097a\n",
      "🧪 View experiment at: https://dbc-3841cce1-a3be.cloud.databricks.com/ml/experiments/1539464224853128\n",
      "🏃 View run judicious-ram-87 at: https://dbc-3841cce1-a3be.cloud.databricks.com/ml/experiments/1539464224853128/runs/f24617e37fd7431aac53b8f4542ea853\n",
      "🧪 View experiment at: https://dbc-3841cce1-a3be.cloud.databricks.com/ml/experiments/1539464224853128\n",
      "🏃 View run sophisticated-elk-84 at: https://dbc-3841cce1-a3be.cloud.databricks.com/ml/experiments/1539464224853128/runs/657b07ca8817417093388a42bfc9e5a6\n",
      "🧪 View experiment at: https://dbc-3841cce1-a3be.cloud.databricks.com/ml/experiments/1539464224853128\n",
      "🏃 View run powerful-worm-932 at: https://dbc-3841cce1-a3be.cloud.databricks.com/ml/experiments/1539464224853128/runs/56fb6c9c4dbe41208c95376ff13bd640\n",
      "🧪 View experiment at: https://dbc-3841cce1-a3be.cloud.databricks.com/ml/experiments/1539464224853128\n",
      "🏃 View run zealous-shrew-0 at: https://dbc-3841cce1-a3be.cloud.databricks.com/ml/experiments/1539464224853128/runs/3ed48c1666004d03be68577694d8ca25\n",
      "🧪 View experiment at: https://dbc-3841cce1-a3be.cloud.databricks.com/ml/experiments/1539464224853128\n",
      "🏃 View run likeable-toad-7 at: https://dbc-3841cce1-a3be.cloud.databricks.com/ml/experiments/1539464224853128/runs/ed432d4596dc4f3cb8de6263db39f499\n",
      "🧪 View experiment at: https://dbc-3841cce1-a3be.cloud.databricks.com/ml/experiments/1539464224853128\n",
      "🏃 View run glamorous-croc-554 at: https://dbc-3841cce1-a3be.cloud.databricks.com/ml/experiments/1539464224853128/runs/9090dd8649d24a21adde92463ac63a3d\n",
      "🧪 View experiment at: https://dbc-3841cce1-a3be.cloud.databricks.com/ml/experiments/1539464224853128\n",
      "🏃 View run marvelous-ray-910 at: https://dbc-3841cce1-a3be.cloud.databricks.com/ml/experiments/1539464224853128/runs/f346a9c94da1471487b32fe62da23981\n",
      "🧪 View experiment at: https://dbc-3841cce1-a3be.cloud.databricks.com/ml/experiments/1539464224853128\n",
      "🏃 View run aged-steed-403 at: https://dbc-3841cce1-a3be.cloud.databricks.com/ml/experiments/1539464224853128/runs/d9a6cd7bf3a04724b4bfcad3eb3b8e63\n",
      "🧪 View experiment at: https://dbc-3841cce1-a3be.cloud.databricks.com/ml/experiments/1539464224853128\n",
      "🏃 View run selective-stork-639 at: https://dbc-3841cce1-a3be.cloud.databricks.com/ml/experiments/1539464224853128/runs/1e87a92d4a72404199e0fe08a6fb483d\n",
      "🧪 View experiment at: https://dbc-3841cce1-a3be.cloud.databricks.com/ml/experiments/1539464224853128\n",
      "🏃 View run languid-ant-60 at: https://dbc-3841cce1-a3be.cloud.databricks.com/ml/experiments/1539464224853128/runs/8f02de7f499049aab87f05a610da5143\n",
      "🧪 View experiment at: https://dbc-3841cce1-a3be.cloud.databricks.com/ml/experiments/1539464224853128\n",
      "🏃 View run serious-shrew-514 at: https://dbc-3841cce1-a3be.cloud.databricks.com/ml/experiments/1539464224853128/runs/35e6913fda4649dd84a9b47fe6f0c92e\n",
      "🧪 View experiment at: https://dbc-3841cce1-a3be.cloud.databricks.com/ml/experiments/1539464224853128\n",
      "🏃 View run traveling-elk-350 at: https://dbc-3841cce1-a3be.cloud.databricks.com/ml/experiments/1539464224853128/runs/970fb9130362474fa369e0418a5b8707\n",
      "🧪 View experiment at: https://dbc-3841cce1-a3be.cloud.databricks.com/ml/experiments/1539464224853128\n",
      "🏃 View run stately-kite-177 at: https://dbc-3841cce1-a3be.cloud.databricks.com/ml/experiments/1539464224853128/runs/53e83ba9d1364603b09fc7fbc7556bd3\n",
      "🧪 View experiment at: https://dbc-3841cce1-a3be.cloud.databricks.com/ml/experiments/1539464224853128\n",
      "🏃 View run nervous-worm-376 at: https://dbc-3841cce1-a3be.cloud.databricks.com/ml/experiments/1539464224853128/runs/0ed053be3cd44df3bb12c6da62ec4e8b\n",
      "🧪 View experiment at: https://dbc-3841cce1-a3be.cloud.databricks.com/ml/experiments/1539464224853128\n",
      "🏃 View run bold-shoat-78 at: https://dbc-3841cce1-a3be.cloud.databricks.com/ml/experiments/1539464224853128/runs/72d53114d4b941b586531341e833712d\n",
      "🧪 View experiment at: https://dbc-3841cce1-a3be.cloud.databricks.com/ml/experiments/1539464224853128\n",
      "🏃 View run casual-gnu-277 at: https://dbc-3841cce1-a3be.cloud.databricks.com/ml/experiments/1539464224853128/runs/a227fb26d27d407e80cee2216917c5f8\n",
      "🧪 View experiment at: https://dbc-3841cce1-a3be.cloud.databricks.com/ml/experiments/1539464224853128\n",
      "🏃 View run adorable-bass-624 at: https://dbc-3841cce1-a3be.cloud.databricks.com/ml/experiments/1539464224853128/runs/f0bc57871a2045f99875310d3dfcf4d3\n",
      "🧪 View experiment at: https://dbc-3841cce1-a3be.cloud.databricks.com/ml/experiments/1539464224853128\n",
      "🏃 View run chill-snipe-352 at: https://dbc-3841cce1-a3be.cloud.databricks.com/ml/experiments/1539464224853128/runs/f2a6128a190f47e48c835bd9a0b8406c\n",
      "🧪 View experiment at: https://dbc-3841cce1-a3be.cloud.databricks.com/ml/experiments/1539464224853128\n",
      "🏃 View run wise-owl-879 at: https://dbc-3841cce1-a3be.cloud.databricks.com/ml/experiments/1539464224853128/runs/469cd54a336745c9bb5775585cdf0e0c\n",
      "🧪 View experiment at: https://dbc-3841cce1-a3be.cloud.databricks.com/ml/experiments/1539464224853128\n",
      "🏃 View run fearless-bug-782 at: https://dbc-3841cce1-a3be.cloud.databricks.com/ml/experiments/1539464224853128/runs/3b84c1c0ca9b4c9eba492d9959e7bf19\n",
      "🧪 View experiment at: https://dbc-3841cce1-a3be.cloud.databricks.com/ml/experiments/1539464224853128\n",
      "🏃 View run upset-crane-291 at: https://dbc-3841cce1-a3be.cloud.databricks.com/ml/experiments/1539464224853128/runs/70ac6bfbf8d3485b80fdc2cf8502c44c\n",
      "🧪 View experiment at: https://dbc-3841cce1-a3be.cloud.databricks.com/ml/experiments/1539464224853128\n",
      "🏃 View run adaptable-zebra-496 at: https://dbc-3841cce1-a3be.cloud.databricks.com/ml/experiments/1539464224853128/runs/875f92cbc63041678cf7fe928b534458\n",
      "🧪 View experiment at: https://dbc-3841cce1-a3be.cloud.databricks.com/ml/experiments/1539464224853128\n",
      "🏃 View run auspicious-snake-396 at: https://dbc-3841cce1-a3be.cloud.databricks.com/ml/experiments/1539464224853128/runs/74a41c3e435e49f8b3d849daa1ba9b88\n",
      "🧪 View experiment at: https://dbc-3841cce1-a3be.cloud.databricks.com/ml/experiments/1539464224853128\n",
      "🏃 View run aged-rat-148 at: https://dbc-3841cce1-a3be.cloud.databricks.com/ml/experiments/1539464224853128/runs/9b836f495b294a8e9d50090130f7b886\n",
      "🧪 View experiment at: https://dbc-3841cce1-a3be.cloud.databricks.com/ml/experiments/1539464224853128\n",
      "🏃 View run exultant-shoat-240 at: https://dbc-3841cce1-a3be.cloud.databricks.com/ml/experiments/1539464224853128/runs/bfd8313fcb354ab5aea77f375fcfd579\n",
      "🧪 View experiment at: https://dbc-3841cce1-a3be.cloud.databricks.com/ml/experiments/1539464224853128\n",
      "🏃 View run industrious-worm-220 at: https://dbc-3841cce1-a3be.cloud.databricks.com/ml/experiments/1539464224853128/runs/809acfbd6797492bb1ffce5b14eb1a08\n",
      "🧪 View experiment at: https://dbc-3841cce1-a3be.cloud.databricks.com/ml/experiments/1539464224853128\n",
      "🏃 View run grandiose-newt-982 at: https://dbc-3841cce1-a3be.cloud.databricks.com/ml/experiments/1539464224853128/runs/d3a5fdb4b2ac48babd9d5abf8e22a2e1\n",
      "🧪 View experiment at: https://dbc-3841cce1-a3be.cloud.databricks.com/ml/experiments/1539464224853128\n",
      "🏃 View run melodic-slug-821 at: https://dbc-3841cce1-a3be.cloud.databricks.com/ml/experiments/1539464224853128/runs/f656254e78994fb3a76ba4307c3eac4f\n",
      "🧪 View experiment at: https://dbc-3841cce1-a3be.cloud.databricks.com/ml/experiments/1539464224853128\n",
      "🏃 View run enchanting-bug-364 at: https://dbc-3841cce1-a3be.cloud.databricks.com/ml/experiments/1539464224853128/runs/9657329d57f84382a13423ff1f291c0a\n",
      "🧪 View experiment at: https://dbc-3841cce1-a3be.cloud.databricks.com/ml/experiments/1539464224853128\n",
      "🏃 View run enthused-pug-262 at: https://dbc-3841cce1-a3be.cloud.databricks.com/ml/experiments/1539464224853128/runs/676e19577b9e4260a1c6ba1885fcf7f6\n",
      "🧪 View experiment at: https://dbc-3841cce1-a3be.cloud.databricks.com/ml/experiments/1539464224853128\n",
      "🏃 View run efficient-toad-680 at: https://dbc-3841cce1-a3be.cloud.databricks.com/ml/experiments/1539464224853128/runs/a6e9a3dfcc6f4397a93948fc4c8b51d1\n",
      "🧪 View experiment at: https://dbc-3841cce1-a3be.cloud.databricks.com/ml/experiments/1539464224853128\n",
      "🏃 View run awesome-conch-398 at: https://dbc-3841cce1-a3be.cloud.databricks.com/ml/experiments/1539464224853128/runs/e87560732e7242ba92ec0cbaa06ce1d8\n",
      "🧪 View experiment at: https://dbc-3841cce1-a3be.cloud.databricks.com/ml/experiments/1539464224853128\n",
      "🏃 View run intrigued-wren-557 at: https://dbc-3841cce1-a3be.cloud.databricks.com/ml/experiments/1539464224853128/runs/f87cb821295c4815b790bacfa69f66a8\n",
      "🧪 View experiment at: https://dbc-3841cce1-a3be.cloud.databricks.com/ml/experiments/1539464224853128\n",
      "🏃 View run funny-finch-90 at: https://dbc-3841cce1-a3be.cloud.databricks.com/ml/experiments/1539464224853128/runs/071adbc2332f4415ab69293ba4d57b2b\n",
      "🧪 View experiment at: https://dbc-3841cce1-a3be.cloud.databricks.com/ml/experiments/1539464224853128\n",
      "🏃 View run fearless-rook-850 at: https://dbc-3841cce1-a3be.cloud.databricks.com/ml/experiments/1539464224853128/runs/1bb160b2ac1948a88642ae6acdc10356\n",
      "🧪 View experiment at: https://dbc-3841cce1-a3be.cloud.databricks.com/ml/experiments/1539464224853128\n",
      "🏃 View run ambitious-horse-201 at: https://dbc-3841cce1-a3be.cloud.databricks.com/ml/experiments/1539464224853128/runs/332b793ca8e84d6999d446c8a8fb0d2f\n",
      "🧪 View experiment at: https://dbc-3841cce1-a3be.cloud.databricks.com/ml/experiments/1539464224853128\n",
      "🏃 View run calm-finch-342 at: https://dbc-3841cce1-a3be.cloud.databricks.com/ml/experiments/1539464224853128/runs/edcfd65b363c4e84ae9430e0c9c3f569\n",
      "🧪 View experiment at: https://dbc-3841cce1-a3be.cloud.databricks.com/ml/experiments/1539464224853128\n",
      "🏃 View run luxuriant-kite-312 at: https://dbc-3841cce1-a3be.cloud.databricks.com/ml/experiments/1539464224853128/runs/4bad8e1ea2644bc89409d5be1113f82b\n",
      "🧪 View experiment at: https://dbc-3841cce1-a3be.cloud.databricks.com/ml/experiments/1539464224853128\n",
      "🏃 View run auspicious-bee-592 at: https://dbc-3841cce1-a3be.cloud.databricks.com/ml/experiments/1539464224853128/runs/c39a1bfe9f3c4d7f94315685e3b2768f\n",
      "🧪 View experiment at: https://dbc-3841cce1-a3be.cloud.databricks.com/ml/experiments/1539464224853128\n",
      "🏃 View run overjoyed-goose-549 at: https://dbc-3841cce1-a3be.cloud.databricks.com/ml/experiments/1539464224853128/runs/352c8680a1934481bcb072195a935373\n",
      "🧪 View experiment at: https://dbc-3841cce1-a3be.cloud.databricks.com/ml/experiments/1539464224853128\n",
      "🏃 View run welcoming-moth-969 at: https://dbc-3841cce1-a3be.cloud.databricks.com/ml/experiments/1539464224853128/runs/3bda921fbf5545f9ab15b943175e516c\n",
      "🧪 View experiment at: https://dbc-3841cce1-a3be.cloud.databricks.com/ml/experiments/1539464224853128\n",
      "🏃 View run dazzling-stag-14 at: https://dbc-3841cce1-a3be.cloud.databricks.com/ml/experiments/1539464224853128/runs/6af341933e3440cba66ac08d20a8c0b4\n",
      "🧪 View experiment at: https://dbc-3841cce1-a3be.cloud.databricks.com/ml/experiments/1539464224853128\n",
      "🏃 View run unique-sloth-200 at: https://dbc-3841cce1-a3be.cloud.databricks.com/ml/experiments/1539464224853128/runs/538324d195da49098b84c24b6ddaf2b1\n",
      "🧪 View experiment at: https://dbc-3841cce1-a3be.cloud.databricks.com/ml/experiments/1539464224853128\n",
      "🏃 View run placid-cub-325 at: https://dbc-3841cce1-a3be.cloud.databricks.com/ml/experiments/1539464224853128/runs/6acced03017c415499e6623b55a065f6\n",
      "🧪 View experiment at: https://dbc-3841cce1-a3be.cloud.databricks.com/ml/experiments/1539464224853128\n",
      "🏃 View run bittersweet-cod-929 at: https://dbc-3841cce1-a3be.cloud.databricks.com/ml/experiments/1539464224853128/runs/3f0216576af54d32bb156f869ee98a60\n",
      "🧪 View experiment at: https://dbc-3841cce1-a3be.cloud.databricks.com/ml/experiments/1539464224853128\n",
      "🏃 View run zealous-mare-301 at: https://dbc-3841cce1-a3be.cloud.databricks.com/ml/experiments/1539464224853128/runs/d206a3a3fc664edabd55af0bef32def6\n",
      "🧪 View experiment at: https://dbc-3841cce1-a3be.cloud.databricks.com/ml/experiments/1539464224853128\n",
      "🏃 View run sincere-cat-208 at: https://dbc-3841cce1-a3be.cloud.databricks.com/ml/experiments/1539464224853128/runs/fc819aeec8cb489f8a06aedbf847a95c\n",
      "🧪 View experiment at: https://dbc-3841cce1-a3be.cloud.databricks.com/ml/experiments/1539464224853128\n",
      "🏃 View run legendary-slug-143 at: https://dbc-3841cce1-a3be.cloud.databricks.com/ml/experiments/1539464224853128/runs/234942de0ab04f15bf28710b12537f41\n",
      "🧪 View experiment at: https://dbc-3841cce1-a3be.cloud.databricks.com/ml/experiments/1539464224853128\n",
      "🏃 View run sneaky-mule-665 at: https://dbc-3841cce1-a3be.cloud.databricks.com/ml/experiments/1539464224853128/runs/90cd755073ad418a957483e44d82e008\n",
      "🧪 View experiment at: https://dbc-3841cce1-a3be.cloud.databricks.com/ml/experiments/1539464224853128\n",
      "🏃 View run gaudy-finch-188 at: https://dbc-3841cce1-a3be.cloud.databricks.com/ml/experiments/1539464224853128/runs/79edb9afecf34cbdb9c05e632aff8cd6\n",
      "🧪 View experiment at: https://dbc-3841cce1-a3be.cloud.databricks.com/ml/experiments/1539464224853128\n",
      "🏃 View run amazing-owl-965 at: https://dbc-3841cce1-a3be.cloud.databricks.com/ml/experiments/1539464224853128/runs/32505052ccaf40fa9cdb44bc3784dda5\n",
      "🧪 View experiment at: https://dbc-3841cce1-a3be.cloud.databricks.com/ml/experiments/1539464224853128\n",
      "🏃 View run classy-cod-107 at: https://dbc-3841cce1-a3be.cloud.databricks.com/ml/experiments/1539464224853128/runs/c58175f5ec524a90a885a38f74899f56\n",
      "🧪 View experiment at: https://dbc-3841cce1-a3be.cloud.databricks.com/ml/experiments/1539464224853128\n",
      "🏃 View run monumental-mink-536 at: https://dbc-3841cce1-a3be.cloud.databricks.com/ml/experiments/1539464224853128/runs/d7a2208979b44d8eb7d99f8386238261\n",
      "🧪 View experiment at: https://dbc-3841cce1-a3be.cloud.databricks.com/ml/experiments/1539464224853128\n",
      "🏃 View run gentle-cub-495 at: https://dbc-3841cce1-a3be.cloud.databricks.com/ml/experiments/1539464224853128/runs/82aa0322c9d14614a72083dbeaa1b205\n",
      "🧪 View experiment at: https://dbc-3841cce1-a3be.cloud.databricks.com/ml/experiments/1539464224853128\n",
      "🏃 View run rare-mole-321 at: https://dbc-3841cce1-a3be.cloud.databricks.com/ml/experiments/1539464224853128/runs/b403f760bb564f3f9634590617e14428\n",
      "🧪 View experiment at: https://dbc-3841cce1-a3be.cloud.databricks.com/ml/experiments/1539464224853128\n",
      "🏃 View run judicious-snake-847 at: https://dbc-3841cce1-a3be.cloud.databricks.com/ml/experiments/1539464224853128/runs/653da6640e55478592cd4214ddf7853a\n",
      "🧪 View experiment at: https://dbc-3841cce1-a3be.cloud.databricks.com/ml/experiments/1539464224853128\n",
      "🏃 View run illustrious-loon-41 at: https://dbc-3841cce1-a3be.cloud.databricks.com/ml/experiments/1539464224853128/runs/e1479652b99f4f9ab0b489a6dc6c803d\n",
      "🧪 View experiment at: https://dbc-3841cce1-a3be.cloud.databricks.com/ml/experiments/1539464224853128\n",
      "🏃 View run nosy-auk-686 at: https://dbc-3841cce1-a3be.cloud.databricks.com/ml/experiments/1539464224853128/runs/ab51d343020f4285b0e76d00e889bb56\n",
      "🧪 View experiment at: https://dbc-3841cce1-a3be.cloud.databricks.com/ml/experiments/1539464224853128\n"
     ]
    },
    {
     "data": {
      "text/plain": [
       "Downloading artifacts:   0%|          | 0/7 [00:00<?, ?it/s]"
      ],
      "application/vnd.jupyter.widget-view+json": {
       "version_major": 2,
       "version_minor": 0,
       "model_id": "f006627162e342acbad89c51b2a6436f"
      }
     },
     "metadata": {},
     "output_type": "display_data"
    },
    {
     "data": {
      "text/plain": [
       "Uploading artifacts:   0%|          | 0/7 [00:00<?, ?it/s]"
      ],
      "application/vnd.jupyter.widget-view+json": {
       "version_major": 2,
       "version_minor": 0,
       "model_id": "e5ebf95c6d984b2f87ca160dfae702b2"
      }
     },
     "metadata": {},
     "output_type": "display_data"
    },
    {
     "name": "stdout",
     "output_type": "stream",
     "text": [
      "🏃 View run xgb-02 at: https://dbc-3841cce1-a3be.cloud.databricks.com/ml/experiments/1539464224853128/runs/d72a53fe0a31467084ebeaceb1edc48e\n",
      "🧪 View experiment at: https://dbc-3841cce1-a3be.cloud.databricks.com/ml/experiments/1539464224853128\n"
     ]
    }
   ],
   "execution_count": 61
  },
  {
   "metadata": {},
   "cell_type": "code",
   "source": "",
   "id": "b99716eff05af8",
   "outputs": [],
   "execution_count": null
  },
  {
   "metadata": {},
   "cell_type": "code",
   "source": [
    "run_name='rfc-05'\n",
    "artefact_path = 'artefact_path'\n",
    "optimised_study_rfc = proj_utils_model.run_hyperparam_tuning_rfc(X_train, y_train, X_val, y_val, pproc_pipe, mlflow_experiment_id, run_name, artefact_path, proj_configs.OPTUNA_TRIAL_COUNT)"
   ],
   "id": "58fd387356b54f49",
   "outputs": [],
   "execution_count": null
  },
  {
   "metadata": {},
   "cell_type": "code",
   "source": "",
   "id": "575da2c882629d2c",
   "outputs": [],
   "execution_count": null
  },
  {
   "metadata": {
    "ExecuteTime": {
     "end_time": "2025-06-24T04:27:38.624771Z",
     "start_time": "2025-06-24T04:27:38.511689Z"
    }
   },
   "cell_type": "code",
   "source": [
    "model_uri = mlflow.get_artifact_uri(artefact_path)\n",
    "model_uri"
   ],
   "id": "f9601a04226dce96",
   "outputs": [
    {
     "data": {
      "text/plain": [
       "'dbfs:/databricks/mlflow-tracking/1539464224853128/422cd3fff065487580dc5fa8bb710ab7/artifacts/artefact_path'"
      ]
     },
     "execution_count": 67,
     "metadata": {},
     "output_type": "execute_result"
    }
   ],
   "execution_count": 67
  },
  {
   "metadata": {
    "ExecuteTime": {
     "end_time": "2025-06-24T04:29:01.703975Z",
     "start_time": "2025-06-24T04:29:00.590317Z"
    }
   },
   "cell_type": "code",
   "source": [
    "loaded_model = mlflow.sklearn.load_model(\n",
    "    model_uri=\"dbfs:/databricks/mlflow-tracking/1539464224853128/d72a53fe0a31467084ebeaceb1edc48e/artifacts/artefact_path\"\n",
    ")"
   ],
   "id": "2b1ef5dd7c0def75",
   "outputs": [
    {
     "data": {
      "text/plain": [
       "Downloading artifacts:   0%|          | 0/7 [00:00<?, ?it/s]"
      ],
      "application/vnd.jupyter.widget-view+json": {
       "version_major": 2,
       "version_minor": 0,
       "model_id": "a4e5cf1093f44817bf581d5a5f84b644"
      }
     },
     "metadata": {},
     "output_type": "display_data"
    }
   ],
   "execution_count": 68
  },
  {
   "metadata": {
    "ExecuteTime": {
     "end_time": "2025-06-24T04:29:26.505045Z",
     "start_time": "2025-06-24T04:29:26.431034Z"
    }
   },
   "cell_type": "code",
   "source": "loaded_model",
   "id": "c2dfeac181ec5d64",
   "outputs": [
    {
     "data": {
      "text/plain": [
       "XGBRegressor(base_score=None, booster=None, callbacks=None,\n",
       "             colsample_bylevel=None, colsample_bynode=None,\n",
       "             colsample_bytree=0.7222694529343134, device=None,\n",
       "             early_stopping_rounds=None, enable_categorical=False,\n",
       "             eval_metric=None, feature_types=None, gamma=None, grow_policy=None,\n",
       "             importance_type=None, interaction_constraints=None,\n",
       "             learning_rate=0.0878038851801299, max_bin=None,\n",
       "             max_cat_threshold=None, max_cat_to_onehot=None,\n",
       "             max_delta_step=None, max_depth=4, max_leaves=None,\n",
       "             min_child_weight=None, missing=nan, monotone_constraints=None,\n",
       "             multi_strategy=None, n_estimators=100, n_jobs=None,\n",
       "             num_parallel_tree=None, random_state=None, ...)"
      ],
      "text/html": [
       "<style>#sk-container-id-1 {color: black;background-color: white;}#sk-container-id-1 pre{padding: 0;}#sk-container-id-1 div.sk-toggleable {background-color: white;}#sk-container-id-1 label.sk-toggleable__label {cursor: pointer;display: block;width: 100%;margin-bottom: 0;padding: 0.3em;box-sizing: border-box;text-align: center;}#sk-container-id-1 label.sk-toggleable__label-arrow:before {content: \"▸\";float: left;margin-right: 0.25em;color: #696969;}#sk-container-id-1 label.sk-toggleable__label-arrow:hover:before {color: black;}#sk-container-id-1 div.sk-estimator:hover label.sk-toggleable__label-arrow:before {color: black;}#sk-container-id-1 div.sk-toggleable__content {max-height: 0;max-width: 0;overflow: hidden;text-align: left;background-color: #f0f8ff;}#sk-container-id-1 div.sk-toggleable__content pre {margin: 0.2em;color: black;border-radius: 0.25em;background-color: #f0f8ff;}#sk-container-id-1 input.sk-toggleable__control:checked~div.sk-toggleable__content {max-height: 200px;max-width: 100%;overflow: auto;}#sk-container-id-1 input.sk-toggleable__control:checked~label.sk-toggleable__label-arrow:before {content: \"▾\";}#sk-container-id-1 div.sk-estimator input.sk-toggleable__control:checked~label.sk-toggleable__label {background-color: #d4ebff;}#sk-container-id-1 div.sk-label input.sk-toggleable__control:checked~label.sk-toggleable__label {background-color: #d4ebff;}#sk-container-id-1 input.sk-hidden--visually {border: 0;clip: rect(1px 1px 1px 1px);clip: rect(1px, 1px, 1px, 1px);height: 1px;margin: -1px;overflow: hidden;padding: 0;position: absolute;width: 1px;}#sk-container-id-1 div.sk-estimator {font-family: monospace;background-color: #f0f8ff;border: 1px dotted black;border-radius: 0.25em;box-sizing: border-box;margin-bottom: 0.5em;}#sk-container-id-1 div.sk-estimator:hover {background-color: #d4ebff;}#sk-container-id-1 div.sk-parallel-item::after {content: \"\";width: 100%;border-bottom: 1px solid gray;flex-grow: 1;}#sk-container-id-1 div.sk-label:hover label.sk-toggleable__label {background-color: #d4ebff;}#sk-container-id-1 div.sk-serial::before {content: \"\";position: absolute;border-left: 1px solid gray;box-sizing: border-box;top: 0;bottom: 0;left: 50%;z-index: 0;}#sk-container-id-1 div.sk-serial {display: flex;flex-direction: column;align-items: center;background-color: white;padding-right: 0.2em;padding-left: 0.2em;position: relative;}#sk-container-id-1 div.sk-item {position: relative;z-index: 1;}#sk-container-id-1 div.sk-parallel {display: flex;align-items: stretch;justify-content: center;background-color: white;position: relative;}#sk-container-id-1 div.sk-item::before, #sk-container-id-1 div.sk-parallel-item::before {content: \"\";position: absolute;border-left: 1px solid gray;box-sizing: border-box;top: 0;bottom: 0;left: 50%;z-index: -1;}#sk-container-id-1 div.sk-parallel-item {display: flex;flex-direction: column;z-index: 1;position: relative;background-color: white;}#sk-container-id-1 div.sk-parallel-item:first-child::after {align-self: flex-end;width: 50%;}#sk-container-id-1 div.sk-parallel-item:last-child::after {align-self: flex-start;width: 50%;}#sk-container-id-1 div.sk-parallel-item:only-child::after {width: 0;}#sk-container-id-1 div.sk-dashed-wrapped {border: 1px dashed gray;margin: 0 0.4em 0.5em 0.4em;box-sizing: border-box;padding-bottom: 0.4em;background-color: white;}#sk-container-id-1 div.sk-label label {font-family: monospace;font-weight: bold;display: inline-block;line-height: 1.2em;}#sk-container-id-1 div.sk-label-container {text-align: center;}#sk-container-id-1 div.sk-container {/* jupyter's `normalize.less` sets `[hidden] { display: none; }` but bootstrap.min.css set `[hidden] { display: none !important; }` so we also need the `!important` here to be able to override the default hidden behavior on the sphinx rendered scikit-learn.org. See: https://github.com/scikit-learn/scikit-learn/issues/21755 */display: inline-block !important;position: relative;}#sk-container-id-1 div.sk-text-repr-fallback {display: none;}</style><div id=\"sk-container-id-1\" class=\"sk-top-container\"><div class=\"sk-text-repr-fallback\"><pre>XGBRegressor(base_score=None, booster=None, callbacks=None,\n",
       "             colsample_bylevel=None, colsample_bynode=None,\n",
       "             colsample_bytree=0.7222694529343134, device=None,\n",
       "             early_stopping_rounds=None, enable_categorical=False,\n",
       "             eval_metric=None, feature_types=None, gamma=None, grow_policy=None,\n",
       "             importance_type=None, interaction_constraints=None,\n",
       "             learning_rate=0.0878038851801299, max_bin=None,\n",
       "             max_cat_threshold=None, max_cat_to_onehot=None,\n",
       "             max_delta_step=None, max_depth=4, max_leaves=None,\n",
       "             min_child_weight=None, missing=nan, monotone_constraints=None,\n",
       "             multi_strategy=None, n_estimators=100, n_jobs=None,\n",
       "             num_parallel_tree=None, random_state=None, ...)</pre><b>In a Jupyter environment, please rerun this cell to show the HTML representation or trust the notebook. <br />On GitHub, the HTML representation is unable to render, please try loading this page with nbviewer.org.</b></div><div class=\"sk-container\" hidden><div class=\"sk-item\"><div class=\"sk-estimator sk-toggleable\"><input class=\"sk-toggleable__control sk-hidden--visually\" id=\"sk-estimator-id-1\" type=\"checkbox\" checked><label for=\"sk-estimator-id-1\" class=\"sk-toggleable__label sk-toggleable__label-arrow\">XGBRegressor</label><div class=\"sk-toggleable__content\"><pre>XGBRegressor(base_score=None, booster=None, callbacks=None,\n",
       "             colsample_bylevel=None, colsample_bynode=None,\n",
       "             colsample_bytree=0.7222694529343134, device=None,\n",
       "             early_stopping_rounds=None, enable_categorical=False,\n",
       "             eval_metric=None, feature_types=None, gamma=None, grow_policy=None,\n",
       "             importance_type=None, interaction_constraints=None,\n",
       "             learning_rate=0.0878038851801299, max_bin=None,\n",
       "             max_cat_threshold=None, max_cat_to_onehot=None,\n",
       "             max_delta_step=None, max_depth=4, max_leaves=None,\n",
       "             min_child_weight=None, missing=nan, monotone_constraints=None,\n",
       "             multi_strategy=None, n_estimators=100, n_jobs=None,\n",
       "             num_parallel_tree=None, random_state=None, ...)</pre></div></div></div></div></div>"
      ]
     },
     "execution_count": 69,
     "metadata": {},
     "output_type": "execute_result"
    }
   ],
   "execution_count": 69
  },
  {
   "metadata": {
    "ExecuteTime": {
     "end_time": "2025-06-24T07:20:00.855137Z",
     "start_time": "2025-06-24T07:20:00.721862Z"
    }
   },
   "cell_type": "code",
   "source": "df_raw_test = proj_utils_data_loader.load_data(proj_configs.TEST_FILE)",
   "id": "f9813d5c1c2f894f",
   "outputs": [],
   "execution_count": 93
  },
  {
   "metadata": {
    "ExecuteTime": {
     "end_time": "2025-06-24T07:20:02.692428Z",
     "start_time": "2025-06-24T07:20:02.613264Z"
    }
   },
   "cell_type": "code",
   "source": "df_test = proj_utils_data_loader.refactor_col_names(df_raw_test)",
   "id": "def8103b96c87508",
   "outputs": [],
   "execution_count": 94
  },
  {
   "metadata": {
    "ExecuteTime": {
     "end_time": "2025-06-24T07:20:03.717801Z",
     "start_time": "2025-06-24T07:20:03.648747Z"
    }
   },
   "cell_type": "code",
   "source": "df_test.sample(3)",
   "id": "a8565fbd09eb96f6",
   "outputs": [
    {
     "data": {
      "text/plain": [
       "        Id  MSSubClass MSZoning  LotFrontage  LotArea Street Alley LotShape  \\\n",
       "183   1644          60       FV          NaN     8470   Pave   NaN      Reg   \n",
       "1013  2474          50       RM         60.0    10320   Pave  Grvl      Reg   \n",
       "315   1776          20       RL         67.0    13070   Pave   NaN      Reg   \n",
       "\n",
       "     LandContour Utilities  ... ScreenPorch PoolArea PoolQC Fence MiscFeature  \\\n",
       "183          Lvl    AllPub  ...           0        0    NaN   NaN         NaN   \n",
       "1013         Lvl    AllPub  ...          84        0    NaN   NaN         NaN   \n",
       "315          Lvl    AllPub  ...         255        0    NaN   NaN         NaN   \n",
       "\n",
       "     MiscVal MoSold  YrSold  SaleType  SaleCondition  \n",
       "183        0     10    2009        WD         Normal  \n",
       "1013       0      9    2007       COD        Abnorml  \n",
       "315        0     10    2009        WD         Normal  \n",
       "\n",
       "[3 rows x 80 columns]"
      ],
      "text/html": [
       "<div>\n",
       "<style scoped>\n",
       "    .dataframe tbody tr th:only-of-type {\n",
       "        vertical-align: middle;\n",
       "    }\n",
       "\n",
       "    .dataframe tbody tr th {\n",
       "        vertical-align: top;\n",
       "    }\n",
       "\n",
       "    .dataframe thead th {\n",
       "        text-align: right;\n",
       "    }\n",
       "</style>\n",
       "<table border=\"1\" class=\"dataframe\">\n",
       "  <thead>\n",
       "    <tr style=\"text-align: right;\">\n",
       "      <th></th>\n",
       "      <th>Id</th>\n",
       "      <th>MSSubClass</th>\n",
       "      <th>MSZoning</th>\n",
       "      <th>LotFrontage</th>\n",
       "      <th>LotArea</th>\n",
       "      <th>Street</th>\n",
       "      <th>Alley</th>\n",
       "      <th>LotShape</th>\n",
       "      <th>LandContour</th>\n",
       "      <th>Utilities</th>\n",
       "      <th>...</th>\n",
       "      <th>ScreenPorch</th>\n",
       "      <th>PoolArea</th>\n",
       "      <th>PoolQC</th>\n",
       "      <th>Fence</th>\n",
       "      <th>MiscFeature</th>\n",
       "      <th>MiscVal</th>\n",
       "      <th>MoSold</th>\n",
       "      <th>YrSold</th>\n",
       "      <th>SaleType</th>\n",
       "      <th>SaleCondition</th>\n",
       "    </tr>\n",
       "  </thead>\n",
       "  <tbody>\n",
       "    <tr>\n",
       "      <th>183</th>\n",
       "      <td>1644</td>\n",
       "      <td>60</td>\n",
       "      <td>FV</td>\n",
       "      <td>NaN</td>\n",
       "      <td>8470</td>\n",
       "      <td>Pave</td>\n",
       "      <td>NaN</td>\n",
       "      <td>Reg</td>\n",
       "      <td>Lvl</td>\n",
       "      <td>AllPub</td>\n",
       "      <td>...</td>\n",
       "      <td>0</td>\n",
       "      <td>0</td>\n",
       "      <td>NaN</td>\n",
       "      <td>NaN</td>\n",
       "      <td>NaN</td>\n",
       "      <td>0</td>\n",
       "      <td>10</td>\n",
       "      <td>2009</td>\n",
       "      <td>WD</td>\n",
       "      <td>Normal</td>\n",
       "    </tr>\n",
       "    <tr>\n",
       "      <th>1013</th>\n",
       "      <td>2474</td>\n",
       "      <td>50</td>\n",
       "      <td>RM</td>\n",
       "      <td>60.0</td>\n",
       "      <td>10320</td>\n",
       "      <td>Pave</td>\n",
       "      <td>Grvl</td>\n",
       "      <td>Reg</td>\n",
       "      <td>Lvl</td>\n",
       "      <td>AllPub</td>\n",
       "      <td>...</td>\n",
       "      <td>84</td>\n",
       "      <td>0</td>\n",
       "      <td>NaN</td>\n",
       "      <td>NaN</td>\n",
       "      <td>NaN</td>\n",
       "      <td>0</td>\n",
       "      <td>9</td>\n",
       "      <td>2007</td>\n",
       "      <td>COD</td>\n",
       "      <td>Abnorml</td>\n",
       "    </tr>\n",
       "    <tr>\n",
       "      <th>315</th>\n",
       "      <td>1776</td>\n",
       "      <td>20</td>\n",
       "      <td>RL</td>\n",
       "      <td>67.0</td>\n",
       "      <td>13070</td>\n",
       "      <td>Pave</td>\n",
       "      <td>NaN</td>\n",
       "      <td>Reg</td>\n",
       "      <td>Lvl</td>\n",
       "      <td>AllPub</td>\n",
       "      <td>...</td>\n",
       "      <td>255</td>\n",
       "      <td>0</td>\n",
       "      <td>NaN</td>\n",
       "      <td>NaN</td>\n",
       "      <td>NaN</td>\n",
       "      <td>0</td>\n",
       "      <td>10</td>\n",
       "      <td>2009</td>\n",
       "      <td>WD</td>\n",
       "      <td>Normal</td>\n",
       "    </tr>\n",
       "  </tbody>\n",
       "</table>\n",
       "<p>3 rows × 80 columns</p>\n",
       "</div>"
      ]
     },
     "execution_count": 95,
     "metadata": {},
     "output_type": "execute_result"
    }
   ],
   "execution_count": 95
  },
  {
   "metadata": {
    "ExecuteTime": {
     "end_time": "2025-06-24T07:20:06.019928Z",
     "start_time": "2025-06-24T07:20:05.959878Z"
    }
   },
   "cell_type": "code",
   "source": "df_test.drop(insignificant_cols, axis=1, inplace=True)",
   "id": "f1c98123876eafa2",
   "outputs": [],
   "execution_count": 96
  },
  {
   "metadata": {
    "ExecuteTime": {
     "end_time": "2025-06-24T07:20:07.676257Z",
     "start_time": "2025-06-24T07:20:07.590404Z"
    }
   },
   "cell_type": "code",
   "source": [
    "data_test_transformed = pproc_pipe.transform(df_test)\n",
    "type(data_test_transformed)"
   ],
   "id": "238e2c79243696a1",
   "outputs": [
    {
     "data": {
      "text/plain": [
       "numpy.ndarray"
      ]
     },
     "execution_count": 97,
     "metadata": {},
     "output_type": "execute_result"
    }
   ],
   "execution_count": 97
  },
  {
   "metadata": {
    "ExecuteTime": {
     "end_time": "2025-06-24T07:20:09.048185Z",
     "start_time": "2025-06-24T07:20:08.988404Z"
    }
   },
   "cell_type": "code",
   "source": [
    "# Check for both NaN and None\n",
    "has_nulls_or_nans = pd.isna(df_test_transformed).any()\n",
    "print(f\"Contains null or NaN values: {has_nulls_or_nans}\")"
   ],
   "id": "3ee508e6c4787cd7",
   "outputs": [
    {
     "name": "stdout",
     "output_type": "stream",
     "text": [
      "Contains null or NaN values: False\n"
     ]
    }
   ],
   "execution_count": 98
  },
  {
   "metadata": {
    "ExecuteTime": {
     "end_time": "2025-06-24T07:20:12.254073Z",
     "start_time": "2025-06-24T07:20:12.191966Z"
    }
   },
   "cell_type": "code",
   "source": [
    "df_raw_train = df_raw.copy()\n",
    "df_raw_train.drop(ignorables_cols, axis=1, inplace=True)"
   ],
   "id": "9ed7501cd4edf825",
   "outputs": [],
   "execution_count": 99
  },
  {
   "metadata": {
    "ExecuteTime": {
     "end_time": "2025-06-24T07:20:18.166049Z",
     "start_time": "2025-06-24T07:20:18.079629Z"
    }
   },
   "cell_type": "code",
   "source": [
    "data_train_transformed = pproc_pipe.transform(df_raw_train)\n",
    "type(data_train_transformed)"
   ],
   "id": "7f592343c68b691f",
   "outputs": [
    {
     "data": {
      "text/plain": [
       "numpy.ndarray"
      ]
     },
     "execution_count": 100,
     "metadata": {},
     "output_type": "execute_result"
    }
   ],
   "execution_count": 100
  },
  {
   "metadata": {
    "ExecuteTime": {
     "end_time": "2025-06-24T07:20:19.511766Z",
     "start_time": "2025-06-24T07:20:19.444985Z"
    }
   },
   "cell_type": "code",
   "source": [
    "# Check for both NaN and None\n",
    "has_nulls_or_nans = pd.isna(df_train_transformed).any()\n",
    "print(f\"Contains null or NaN values: {has_nulls_or_nans}\")"
   ],
   "id": "af40d43c07e572d7",
   "outputs": [
    {
     "name": "stdout",
     "output_type": "stream",
     "text": [
      "Contains null or NaN values: False\n"
     ]
    }
   ],
   "execution_count": 101
  },
  {
   "metadata": {
    "ExecuteTime": {
     "end_time": "2025-06-24T07:20:22.330971Z",
     "start_time": "2025-06-24T07:20:22.268304Z"
    }
   },
   "cell_type": "code",
   "source": [
    "data_target = df_raw[target_col].to_numpy()\n",
    "type(data_target)"
   ],
   "id": "1ec822cb82024ada",
   "outputs": [
    {
     "data": {
      "text/plain": [
       "numpy.ndarray"
      ]
     },
     "execution_count": 102,
     "metadata": {},
     "output_type": "execute_result"
    }
   ],
   "execution_count": 102
  },
  {
   "metadata": {
    "ExecuteTime": {
     "end_time": "2025-06-24T07:20:45.723305Z",
     "start_time": "2025-06-24T07:20:45.570732Z"
    }
   },
   "cell_type": "code",
   "source": "loaded_model.fit(data_train_transformed, data_target)",
   "id": "be9247fae05618e6",
   "outputs": [
    {
     "data": {
      "text/plain": [
       "XGBRegressor(base_score=None, booster=None, callbacks=None,\n",
       "             colsample_bylevel=None, colsample_bynode=None,\n",
       "             colsample_bytree=0.7222694529343134, device=None,\n",
       "             early_stopping_rounds=None, enable_categorical=False,\n",
       "             eval_metric=None, feature_types=None, gamma=None, grow_policy=None,\n",
       "             importance_type=None, interaction_constraints=None,\n",
       "             learning_rate=0.0878038851801299, max_bin=None,\n",
       "             max_cat_threshold=None, max_cat_to_onehot=None,\n",
       "             max_delta_step=None, max_depth=4, max_leaves=None,\n",
       "             min_child_weight=None, missing=nan, monotone_constraints=None,\n",
       "             multi_strategy=None, n_estimators=100, n_jobs=None,\n",
       "             num_parallel_tree=None, random_state=None, ...)"
      ],
      "text/html": [
       "<style>#sk-container-id-2 {color: black;background-color: white;}#sk-container-id-2 pre{padding: 0;}#sk-container-id-2 div.sk-toggleable {background-color: white;}#sk-container-id-2 label.sk-toggleable__label {cursor: pointer;display: block;width: 100%;margin-bottom: 0;padding: 0.3em;box-sizing: border-box;text-align: center;}#sk-container-id-2 label.sk-toggleable__label-arrow:before {content: \"▸\";float: left;margin-right: 0.25em;color: #696969;}#sk-container-id-2 label.sk-toggleable__label-arrow:hover:before {color: black;}#sk-container-id-2 div.sk-estimator:hover label.sk-toggleable__label-arrow:before {color: black;}#sk-container-id-2 div.sk-toggleable__content {max-height: 0;max-width: 0;overflow: hidden;text-align: left;background-color: #f0f8ff;}#sk-container-id-2 div.sk-toggleable__content pre {margin: 0.2em;color: black;border-radius: 0.25em;background-color: #f0f8ff;}#sk-container-id-2 input.sk-toggleable__control:checked~div.sk-toggleable__content {max-height: 200px;max-width: 100%;overflow: auto;}#sk-container-id-2 input.sk-toggleable__control:checked~label.sk-toggleable__label-arrow:before {content: \"▾\";}#sk-container-id-2 div.sk-estimator input.sk-toggleable__control:checked~label.sk-toggleable__label {background-color: #d4ebff;}#sk-container-id-2 div.sk-label input.sk-toggleable__control:checked~label.sk-toggleable__label {background-color: #d4ebff;}#sk-container-id-2 input.sk-hidden--visually {border: 0;clip: rect(1px 1px 1px 1px);clip: rect(1px, 1px, 1px, 1px);height: 1px;margin: -1px;overflow: hidden;padding: 0;position: absolute;width: 1px;}#sk-container-id-2 div.sk-estimator {font-family: monospace;background-color: #f0f8ff;border: 1px dotted black;border-radius: 0.25em;box-sizing: border-box;margin-bottom: 0.5em;}#sk-container-id-2 div.sk-estimator:hover {background-color: #d4ebff;}#sk-container-id-2 div.sk-parallel-item::after {content: \"\";width: 100%;border-bottom: 1px solid gray;flex-grow: 1;}#sk-container-id-2 div.sk-label:hover label.sk-toggleable__label {background-color: #d4ebff;}#sk-container-id-2 div.sk-serial::before {content: \"\";position: absolute;border-left: 1px solid gray;box-sizing: border-box;top: 0;bottom: 0;left: 50%;z-index: 0;}#sk-container-id-2 div.sk-serial {display: flex;flex-direction: column;align-items: center;background-color: white;padding-right: 0.2em;padding-left: 0.2em;position: relative;}#sk-container-id-2 div.sk-item {position: relative;z-index: 1;}#sk-container-id-2 div.sk-parallel {display: flex;align-items: stretch;justify-content: center;background-color: white;position: relative;}#sk-container-id-2 div.sk-item::before, #sk-container-id-2 div.sk-parallel-item::before {content: \"\";position: absolute;border-left: 1px solid gray;box-sizing: border-box;top: 0;bottom: 0;left: 50%;z-index: -1;}#sk-container-id-2 div.sk-parallel-item {display: flex;flex-direction: column;z-index: 1;position: relative;background-color: white;}#sk-container-id-2 div.sk-parallel-item:first-child::after {align-self: flex-end;width: 50%;}#sk-container-id-2 div.sk-parallel-item:last-child::after {align-self: flex-start;width: 50%;}#sk-container-id-2 div.sk-parallel-item:only-child::after {width: 0;}#sk-container-id-2 div.sk-dashed-wrapped {border: 1px dashed gray;margin: 0 0.4em 0.5em 0.4em;box-sizing: border-box;padding-bottom: 0.4em;background-color: white;}#sk-container-id-2 div.sk-label label {font-family: monospace;font-weight: bold;display: inline-block;line-height: 1.2em;}#sk-container-id-2 div.sk-label-container {text-align: center;}#sk-container-id-2 div.sk-container {/* jupyter's `normalize.less` sets `[hidden] { display: none; }` but bootstrap.min.css set `[hidden] { display: none !important; }` so we also need the `!important` here to be able to override the default hidden behavior on the sphinx rendered scikit-learn.org. See: https://github.com/scikit-learn/scikit-learn/issues/21755 */display: inline-block !important;position: relative;}#sk-container-id-2 div.sk-text-repr-fallback {display: none;}</style><div id=\"sk-container-id-2\" class=\"sk-top-container\"><div class=\"sk-text-repr-fallback\"><pre>XGBRegressor(base_score=None, booster=None, callbacks=None,\n",
       "             colsample_bylevel=None, colsample_bynode=None,\n",
       "             colsample_bytree=0.7222694529343134, device=None,\n",
       "             early_stopping_rounds=None, enable_categorical=False,\n",
       "             eval_metric=None, feature_types=None, gamma=None, grow_policy=None,\n",
       "             importance_type=None, interaction_constraints=None,\n",
       "             learning_rate=0.0878038851801299, max_bin=None,\n",
       "             max_cat_threshold=None, max_cat_to_onehot=None,\n",
       "             max_delta_step=None, max_depth=4, max_leaves=None,\n",
       "             min_child_weight=None, missing=nan, monotone_constraints=None,\n",
       "             multi_strategy=None, n_estimators=100, n_jobs=None,\n",
       "             num_parallel_tree=None, random_state=None, ...)</pre><b>In a Jupyter environment, please rerun this cell to show the HTML representation or trust the notebook. <br />On GitHub, the HTML representation is unable to render, please try loading this page with nbviewer.org.</b></div><div class=\"sk-container\" hidden><div class=\"sk-item\"><div class=\"sk-estimator sk-toggleable\"><input class=\"sk-toggleable__control sk-hidden--visually\" id=\"sk-estimator-id-2\" type=\"checkbox\" checked><label for=\"sk-estimator-id-2\" class=\"sk-toggleable__label sk-toggleable__label-arrow\">XGBRegressor</label><div class=\"sk-toggleable__content\"><pre>XGBRegressor(base_score=None, booster=None, callbacks=None,\n",
       "             colsample_bylevel=None, colsample_bynode=None,\n",
       "             colsample_bytree=0.7222694529343134, device=None,\n",
       "             early_stopping_rounds=None, enable_categorical=False,\n",
       "             eval_metric=None, feature_types=None, gamma=None, grow_policy=None,\n",
       "             importance_type=None, interaction_constraints=None,\n",
       "             learning_rate=0.0878038851801299, max_bin=None,\n",
       "             max_cat_threshold=None, max_cat_to_onehot=None,\n",
       "             max_delta_step=None, max_depth=4, max_leaves=None,\n",
       "             min_child_weight=None, missing=nan, monotone_constraints=None,\n",
       "             multi_strategy=None, n_estimators=100, n_jobs=None,\n",
       "             num_parallel_tree=None, random_state=None, ...)</pre></div></div></div></div></div>"
      ]
     },
     "execution_count": 103,
     "metadata": {},
     "output_type": "execute_result"
    }
   ],
   "execution_count": 103
  },
  {
   "metadata": {
    "ExecuteTime": {
     "end_time": "2025-06-24T07:22:25.982550Z",
     "start_time": "2025-06-24T07:22:25.917529Z"
    }
   },
   "cell_type": "code",
   "source": [
    "train_preds = loaded_model.predict(data_train_transformed)\n",
    "train_actuals = data_target"
   ],
   "id": "8e369c283caeff2d",
   "outputs": [],
   "execution_count": 104
  },
  {
   "metadata": {
    "ExecuteTime": {
     "end_time": "2025-06-24T07:23:17.377434Z",
     "start_time": "2025-06-24T07:23:17.315314Z"
    }
   },
   "cell_type": "code",
   "source": [
    "# Evaluate the model\n",
    "train_mse = mean_squared_error(train_actuals, train_preds).round(5)\n",
    "train_r2 = r2_score(train_actuals, train_preds).round(5)\n",
    "\n",
    "print(\"=== Model Performance ===\")\n",
    "print(f\"Train MSE: {proj_utils_plots.beautify(train_mse)}, Train R2: {proj_utils_plots.beautify(train_r2)}\")"
   ],
   "id": "b8c7ae9eaa5ce6d",
   "outputs": [
    {
     "name": "stdout",
     "output_type": "stream",
     "text": [
      "=== Model Performance ===\n",
      "Train MSE: \u001B[1m\u001B[35m164260119.07401\u001B[0m, Train R2: \u001B[1m\u001B[35m0.97396\u001B[0m\n"
     ]
    }
   ],
   "execution_count": 105
  },
  {
   "metadata": {
    "ExecuteTime": {
     "end_time": "2025-06-24T07:24:03.759603Z",
     "start_time": "2025-06-24T07:24:03.694634Z"
    }
   },
   "cell_type": "code",
   "source": "test_preds = loaded_model.predict(data_test_transformed)",
   "id": "3b9b0432f7f6176b",
   "outputs": [],
   "execution_count": 106
  },
  {
   "metadata": {
    "ExecuteTime": {
     "end_time": "2025-06-24T07:27:01.806763Z",
     "start_time": "2025-06-24T07:27:01.737332Z"
    }
   },
   "cell_type": "code",
   "source": "test_preds",
   "id": "359858a87b51c212",
   "outputs": [
    {
     "data": {
      "text/plain": [
       "array([128688.59, 158134.3 , 188172.39, ..., 159990.36, 123831.67,\n",
       "       228091.72], dtype=float32)"
      ]
     },
     "execution_count": 107,
     "metadata": {},
     "output_type": "execute_result"
    }
   ],
   "execution_count": 107
  },
  {
   "metadata": {
    "ExecuteTime": {
     "end_time": "2025-06-24T07:27:20.690791Z",
     "start_time": "2025-06-24T07:27:20.622821Z"
    }
   },
   "cell_type": "code",
   "source": [
    "my_submission = pd.DataFrame({'Id': df_raw_test.Id, 'SalePrice': test_preds})\n",
    "# you could use any filename. We choose submission here\n",
    "my_submission.to_csv('submission.csv', index=False)"
   ],
   "id": "ace23632daf3e027",
   "outputs": [],
   "execution_count": 108
  },
  {
   "metadata": {},
   "cell_type": "code",
   "outputs": [],
   "execution_count": null,
   "source": "",
   "id": "19b99d11f56ec07f"
  },
  {
   "metadata": {},
   "cell_type": "code",
   "outputs": [],
   "execution_count": null,
   "source": "",
   "id": "31dd1df29e5ced5"
  },
  {
   "metadata": {},
   "cell_type": "code",
   "outputs": [],
   "execution_count": null,
   "source": "",
   "id": "482be93cb73a5911"
  },
  {
   "metadata": {
    "ExecuteTime": {
     "end_time": "2025-06-24T01:56:41.913102Z",
     "start_time": "2025-06-24T01:56:41.853061Z"
    }
   },
   "cell_type": "code",
   "source": [
    "# this is a Trial object, not the underlying ML object.\n",
    "best_performing_trial = optimised_study_xgb.best_trial\n",
    "print(f'Best trial was at number {proj_utils_plots.beautify(str(best_performing_trial.number), 1)} with params as:\\n {proj_utils_plots.beautify(str(best_performing_trial.params), 2)}')\n",
    "print(f'Best score value is: {proj_utils_plots.beautify(str(best_performing_trial.value))}')"
   ],
   "id": "4a77b77c006c759a",
   "outputs": [
    {
     "name": "stdout",
     "output_type": "stream",
     "text": [
      "Best trial was at number \u001B[1m\u001B[32m78\u001B[0m with params as:\n",
      " \u001B[1m\u001B[33m{'max_depth': 4, 'learning_rate': 0.0878038851801299, 'n_estimators': 100, 'colsample_bytree': 0.7222694529343134}\u001B[0m\n",
      "Best score value is: \u001B[1m\u001B[35m718689215.9145412\u001B[0m\n"
     ]
    }
   ],
   "execution_count": 63
  },
  {
   "metadata": {
    "ExecuteTime": {
     "end_time": "2025-06-24T01:56:51.672199Z",
     "start_time": "2025-06-24T01:56:51.600981Z"
    }
   },
   "cell_type": "code",
   "source": "best_performing_trial",
   "id": "31d846d4b65b7a22",
   "outputs": [
    {
     "data": {
      "text/plain": [
       "FrozenTrial(number=78, state=1, values=[718689215.9145412], datetime_start=datetime.datetime(2025, 6, 24, 11, 45, 40, 724198), datetime_complete=datetime.datetime(2025, 6, 24, 11, 45, 41, 455691), params={'max_depth': 4, 'learning_rate': 0.0878038851801299, 'n_estimators': 100, 'colsample_bytree': 0.7222694529343134}, user_attrs={}, system_attrs={}, intermediate_values={}, distributions={'max_depth': IntDistribution(high=10, log=False, low=2, step=1), 'learning_rate': FloatDistribution(high=2.0, log=False, low=0.001, step=None), 'n_estimators': IntDistribution(high=100, log=False, low=10, step=1), 'colsample_bytree': FloatDistribution(high=0.9, log=False, low=0.3, step=None)}, trial_id=78, value=None)"
      ]
     },
     "execution_count": 64,
     "metadata": {},
     "output_type": "execute_result"
    }
   ],
   "execution_count": 64
  },
  {
   "metadata": {
    "ExecuteTime": {
     "end_time": "2025-06-24T01:57:16.115678Z",
     "start_time": "2025-06-24T01:57:15.896671Z"
    }
   },
   "cell_type": "code",
   "source": [
    "study_full_metrics = optimised_study_xgb.trials_dataframe()\n",
    "# save the metrics to a file\n",
    "proj_utils_model.save_hyperparams(f'full_metrics_{proj_utils.get_current_timestamp()}.csv', proj_configs.PATH_OUT_MODELS, study_full_metrics)\n",
    "\n",
    "# peek at the full metrics dataframe\n",
    "study_full_metrics"
   ],
   "id": "657b2c2f510cd79a",
   "outputs": [
    {
     "data": {
      "text/plain": [
       "     number         value             datetime_start  \\\n",
       "0         0  2.114580e+09 2025-06-24 11:44:34.623699   \n",
       "1         1  5.150427e+09 2025-06-24 11:44:35.175605   \n",
       "2         2  2.234300e+09 2025-06-24 11:44:35.834979   \n",
       "3         3  7.608075e+08 2025-06-24 11:44:36.375264   \n",
       "4         4  9.911228e+08 2025-06-24 11:44:37.197988   \n",
       "..      ...           ...                        ...   \n",
       "495     495  1.009582e+10 2025-06-24 11:51:21.764486   \n",
       "496     496  4.248828e+09 2025-06-24 11:51:22.792973   \n",
       "497     497  1.301865e+09 2025-06-24 11:51:23.782860   \n",
       "498     498  1.393551e+09 2025-06-24 11:51:24.777549   \n",
       "499     499  7.665139e+08 2025-06-24 11:51:25.699953   \n",
       "\n",
       "             datetime_complete               duration  \\\n",
       "0   2025-06-24 11:44:35.147639 0 days 00:00:00.523940   \n",
       "1   2025-06-24 11:44:35.802485 0 days 00:00:00.626880   \n",
       "2   2025-06-24 11:44:36.343605 0 days 00:00:00.508626   \n",
       "3   2025-06-24 11:44:37.171074 0 days 00:00:00.795810   \n",
       "4   2025-06-24 11:44:37.731492 0 days 00:00:00.533504   \n",
       "..                         ...                    ...   \n",
       "495 2025-06-24 11:51:22.746142 0 days 00:00:00.981656   \n",
       "496 2025-06-24 11:51:23.750303 0 days 00:00:00.957330   \n",
       "497 2025-06-24 11:51:24.739089 0 days 00:00:00.956229   \n",
       "498 2025-06-24 11:51:25.645048 0 days 00:00:00.867499   \n",
       "499 2025-06-24 11:51:26.391680 0 days 00:00:00.691727   \n",
       "\n",
       "     params_colsample_bytree  params_learning_rate  params_max_depth  \\\n",
       "0                   0.444354              1.218524                 3   \n",
       "1                   0.624697              1.718416                 4   \n",
       "2                   0.781228              1.467763                 2   \n",
       "3                   0.432617              0.114713                 4   \n",
       "4                   0.805935              0.632877                 5   \n",
       "..                       ...                   ...               ...   \n",
       "495                 0.349800              1.838277                 7   \n",
       "496                 0.738819              1.674369                 6   \n",
       "497                 0.756032              0.865891                 7   \n",
       "498                 0.510848              0.733276                 9   \n",
       "499                 0.490777              0.095631                 3   \n",
       "\n",
       "     params_n_estimators     state  \n",
       "0                     22  COMPLETE  \n",
       "1                     70  COMPLETE  \n",
       "2                     45  COMPLETE  \n",
       "3                     88  COMPLETE  \n",
       "4                     16  COMPLETE  \n",
       "..                   ...       ...  \n",
       "495                   88  COMPLETE  \n",
       "496                   74  COMPLETE  \n",
       "497                   75  COMPLETE  \n",
       "498                   54  COMPLETE  \n",
       "499                   99  COMPLETE  \n",
       "\n",
       "[500 rows x 10 columns]"
      ],
      "text/html": [
       "<div>\n",
       "<style scoped>\n",
       "    .dataframe tbody tr th:only-of-type {\n",
       "        vertical-align: middle;\n",
       "    }\n",
       "\n",
       "    .dataframe tbody tr th {\n",
       "        vertical-align: top;\n",
       "    }\n",
       "\n",
       "    .dataframe thead th {\n",
       "        text-align: right;\n",
       "    }\n",
       "</style>\n",
       "<table border=\"1\" class=\"dataframe\">\n",
       "  <thead>\n",
       "    <tr style=\"text-align: right;\">\n",
       "      <th></th>\n",
       "      <th>number</th>\n",
       "      <th>value</th>\n",
       "      <th>datetime_start</th>\n",
       "      <th>datetime_complete</th>\n",
       "      <th>duration</th>\n",
       "      <th>params_colsample_bytree</th>\n",
       "      <th>params_learning_rate</th>\n",
       "      <th>params_max_depth</th>\n",
       "      <th>params_n_estimators</th>\n",
       "      <th>state</th>\n",
       "    </tr>\n",
       "  </thead>\n",
       "  <tbody>\n",
       "    <tr>\n",
       "      <th>0</th>\n",
       "      <td>0</td>\n",
       "      <td>2.114580e+09</td>\n",
       "      <td>2025-06-24 11:44:34.623699</td>\n",
       "      <td>2025-06-24 11:44:35.147639</td>\n",
       "      <td>0 days 00:00:00.523940</td>\n",
       "      <td>0.444354</td>\n",
       "      <td>1.218524</td>\n",
       "      <td>3</td>\n",
       "      <td>22</td>\n",
       "      <td>COMPLETE</td>\n",
       "    </tr>\n",
       "    <tr>\n",
       "      <th>1</th>\n",
       "      <td>1</td>\n",
       "      <td>5.150427e+09</td>\n",
       "      <td>2025-06-24 11:44:35.175605</td>\n",
       "      <td>2025-06-24 11:44:35.802485</td>\n",
       "      <td>0 days 00:00:00.626880</td>\n",
       "      <td>0.624697</td>\n",
       "      <td>1.718416</td>\n",
       "      <td>4</td>\n",
       "      <td>70</td>\n",
       "      <td>COMPLETE</td>\n",
       "    </tr>\n",
       "    <tr>\n",
       "      <th>2</th>\n",
       "      <td>2</td>\n",
       "      <td>2.234300e+09</td>\n",
       "      <td>2025-06-24 11:44:35.834979</td>\n",
       "      <td>2025-06-24 11:44:36.343605</td>\n",
       "      <td>0 days 00:00:00.508626</td>\n",
       "      <td>0.781228</td>\n",
       "      <td>1.467763</td>\n",
       "      <td>2</td>\n",
       "      <td>45</td>\n",
       "      <td>COMPLETE</td>\n",
       "    </tr>\n",
       "    <tr>\n",
       "      <th>3</th>\n",
       "      <td>3</td>\n",
       "      <td>7.608075e+08</td>\n",
       "      <td>2025-06-24 11:44:36.375264</td>\n",
       "      <td>2025-06-24 11:44:37.171074</td>\n",
       "      <td>0 days 00:00:00.795810</td>\n",
       "      <td>0.432617</td>\n",
       "      <td>0.114713</td>\n",
       "      <td>4</td>\n",
       "      <td>88</td>\n",
       "      <td>COMPLETE</td>\n",
       "    </tr>\n",
       "    <tr>\n",
       "      <th>4</th>\n",
       "      <td>4</td>\n",
       "      <td>9.911228e+08</td>\n",
       "      <td>2025-06-24 11:44:37.197988</td>\n",
       "      <td>2025-06-24 11:44:37.731492</td>\n",
       "      <td>0 days 00:00:00.533504</td>\n",
       "      <td>0.805935</td>\n",
       "      <td>0.632877</td>\n",
       "      <td>5</td>\n",
       "      <td>16</td>\n",
       "      <td>COMPLETE</td>\n",
       "    </tr>\n",
       "    <tr>\n",
       "      <th>...</th>\n",
       "      <td>...</td>\n",
       "      <td>...</td>\n",
       "      <td>...</td>\n",
       "      <td>...</td>\n",
       "      <td>...</td>\n",
       "      <td>...</td>\n",
       "      <td>...</td>\n",
       "      <td>...</td>\n",
       "      <td>...</td>\n",
       "      <td>...</td>\n",
       "    </tr>\n",
       "    <tr>\n",
       "      <th>495</th>\n",
       "      <td>495</td>\n",
       "      <td>1.009582e+10</td>\n",
       "      <td>2025-06-24 11:51:21.764486</td>\n",
       "      <td>2025-06-24 11:51:22.746142</td>\n",
       "      <td>0 days 00:00:00.981656</td>\n",
       "      <td>0.349800</td>\n",
       "      <td>1.838277</td>\n",
       "      <td>7</td>\n",
       "      <td>88</td>\n",
       "      <td>COMPLETE</td>\n",
       "    </tr>\n",
       "    <tr>\n",
       "      <th>496</th>\n",
       "      <td>496</td>\n",
       "      <td>4.248828e+09</td>\n",
       "      <td>2025-06-24 11:51:22.792973</td>\n",
       "      <td>2025-06-24 11:51:23.750303</td>\n",
       "      <td>0 days 00:00:00.957330</td>\n",
       "      <td>0.738819</td>\n",
       "      <td>1.674369</td>\n",
       "      <td>6</td>\n",
       "      <td>74</td>\n",
       "      <td>COMPLETE</td>\n",
       "    </tr>\n",
       "    <tr>\n",
       "      <th>497</th>\n",
       "      <td>497</td>\n",
       "      <td>1.301865e+09</td>\n",
       "      <td>2025-06-24 11:51:23.782860</td>\n",
       "      <td>2025-06-24 11:51:24.739089</td>\n",
       "      <td>0 days 00:00:00.956229</td>\n",
       "      <td>0.756032</td>\n",
       "      <td>0.865891</td>\n",
       "      <td>7</td>\n",
       "      <td>75</td>\n",
       "      <td>COMPLETE</td>\n",
       "    </tr>\n",
       "    <tr>\n",
       "      <th>498</th>\n",
       "      <td>498</td>\n",
       "      <td>1.393551e+09</td>\n",
       "      <td>2025-06-24 11:51:24.777549</td>\n",
       "      <td>2025-06-24 11:51:25.645048</td>\n",
       "      <td>0 days 00:00:00.867499</td>\n",
       "      <td>0.510848</td>\n",
       "      <td>0.733276</td>\n",
       "      <td>9</td>\n",
       "      <td>54</td>\n",
       "      <td>COMPLETE</td>\n",
       "    </tr>\n",
       "    <tr>\n",
       "      <th>499</th>\n",
       "      <td>499</td>\n",
       "      <td>7.665139e+08</td>\n",
       "      <td>2025-06-24 11:51:25.699953</td>\n",
       "      <td>2025-06-24 11:51:26.391680</td>\n",
       "      <td>0 days 00:00:00.691727</td>\n",
       "      <td>0.490777</td>\n",
       "      <td>0.095631</td>\n",
       "      <td>3</td>\n",
       "      <td>99</td>\n",
       "      <td>COMPLETE</td>\n",
       "    </tr>\n",
       "  </tbody>\n",
       "</table>\n",
       "<p>500 rows × 10 columns</p>\n",
       "</div>"
      ]
     },
     "execution_count": 65,
     "metadata": {},
     "output_type": "execute_result"
    }
   ],
   "execution_count": 65
  },
  {
   "metadata": {},
   "cell_type": "code",
   "source": [
    "# fetch number of trial runs per model type\n",
    "num_lr_trials = study_full_metrics[study_full_metrics['params_model'] == 'lr'].shape[0]\n",
    "num_lasso_trials = study_full_metrics[study_full_metrics['params_model'] == 'lasso'].shape[0]\n",
    "num_ridge_trials = study_full_metrics[study_full_metrics['params_model'] == 'ridge'].shape[0]\n",
    "num_elasticnet_trials = study_full_metrics[study_full_metrics['params_model'] == 'elasticnet'].shape[0]\n",
    "\n",
    "print(f'Total trials = {proj_utils_plots.beautify(str(num_lr_trials + num_lasso_trials + num_ridge_trials + num_elasticnet_trials), 1)}\\n-- LR trials = {proj_utils_plots.beautify(str(num_lr_trials), 1)}\\n-- Lasso trials = {proj_utils_plots.beautify(str(num_lasso_trials), 1)}\\n-- Ridge trials = {proj_utils_plots.beautify(str(num_ridge_trials), 1)}\\n-- ElasticNet trials = {proj_utils_plots.beautify(str(num_elasticnet_trials), 1)}')"
   ],
   "id": "2c629463bc37a59b",
   "outputs": [],
   "execution_count": null
  },
  {
   "metadata": {},
   "cell_type": "code",
   "source": [
    "# retrieve all performance values for each model type studied\n",
    "grp_by_model_type_val = study_full_metrics.groupby('params_model')['value'].apply(list)\n",
    "# retrieve the best performing model (use nsmallest if Optuna objective was to minimise,\n",
    "grp_by_model_type_best_val = study_full_metrics.groupby('params_model')['value'].nsmallest(1)\n",
    "# display the stats\n",
    "grp_by_model_type_best_val"
   ],
   "id": "455d563c4610f4d5",
   "outputs": [],
   "execution_count": null
  },
  {
   "metadata": {},
   "cell_type": "code",
   "source": [
    " # grouping Optuna metrics by model type and using idxmax (or idmin) method to find a row with the best model performance (value) for each group\n",
    "study_best_model_group = study_full_metrics.loc[study_full_metrics.groupby('params_model')['value'].idxmin()]"
   ],
   "id": "30208428b7d90d20",
   "outputs": [],
   "execution_count": null
  },
  {
   "metadata": {},
   "cell_type": "code",
   "source": "study_best_model_group",
   "id": "d2f168858eabbdf2",
   "outputs": [],
   "execution_count": null
  },
  {
   "metadata": {},
   "cell_type": "code",
   "source": [
    "# retrieve the trial number of the best model for each model type - the Optuna metrics dataframe index and trial number are the same.\n",
    "best_lr_trial = study_best_model_group[study_best_model_group['params_model'] == 'lr']['number'].values[0]\n",
    "best_lasso_trial = study_best_model_group[study_best_model_group['params_model'] == 'lasso']['number'].values[0]\n",
    "best_ridge_trial = study_best_model_group[study_best_model_group['params_model'] == 'ridge']['number'].values[0]\n",
    "best_elasticnet_trial = study_best_model_group[study_best_model_group['params_model'] == 'elasticnet']['number'].values[0]\n",
    "\n",
    "final_pipe_best_lr = models[best_lr_trial]\n",
    "best_model_lr = final_pipe_best_lr.named_steps['regressor']\n",
    "final_pipe_best_lasso = models[best_lasso_trial]\n",
    "best_model_lasso = final_pipe_best_lasso.named_steps['regressor']\n",
    "final_pipe_best_ridge = models[best_ridge_trial]\n",
    "best_model_ridge = final_pipe_best_ridge.named_steps['regressor']\n",
    "final_pipe_best_elasticnet = models[best_elasticnet_trial]\n",
    "best_model_elasticnet = final_pipe_best_elasticnet.named_steps['regressor']\n",
    "\n",
    "# retrieve the best model object (amongst all model types evaluated)\n",
    "final_pipe_best = models[best_performing_trial.number]\n",
    "best_model = final_pipe_best.named_steps['regressor']"
   ],
   "id": "6233d4364e331135",
   "outputs": [],
   "execution_count": null
  },
  {
   "metadata": {},
   "cell_type": "code",
   "source": "final_pipe_best",
   "id": "f7a2a5cb76f9512d",
   "outputs": [],
   "execution_count": null
  },
  {
   "metadata": {},
   "cell_type": "code",
   "source": "final_pipe_best.fit(X_train, y_train)",
   "id": "a7fc4a11b6e8b14e",
   "outputs": [],
   "execution_count": null
  },
  {
   "metadata": {},
   "cell_type": "code",
   "source": "cols_final_inputs, cols_final_output_features = proj_utils_feat_engg.get_final_features(final_pipe_best, X_train)",
   "id": "38d1696dc80f1fdb",
   "outputs": [],
   "execution_count": null
  },
  {
   "metadata": {},
   "cell_type": "code",
   "source": [
    "proj_utils_model.save_features(f'pproc_final_input_cols_{len(cols_final_inputs)}_{proj_utils.get_current_timestamp()}.csv', proj_configs.PATH_OUT_FEATURES, pd.DataFrame(cols_final_inputs))\n",
    "proj_utils_model.save_features(f'pproc_final_output_features_{len(cols_final_output_features)}_{proj_utils.get_current_timestamp()}.csv', proj_configs.PATH_OUT_FEATURES, pd.DataFrame(cols_final_output_features))"
   ],
   "id": "a22159b4cc78d7af",
   "outputs": [],
   "execution_count": null
  },
  {
   "metadata": {},
   "cell_type": "code",
   "source": "proj_utils_model.save_model(f'final_pipe_{proj_utils.get_current_timestamp()}.pkl', proj_configs.PATH_OUT_MODELS, final_pipe_best)",
   "id": "65b972ae40e6a624",
   "outputs": [],
   "execution_count": null
  },
  {
   "metadata": {},
   "cell_type": "code",
   "source": [
    "y_train_preds = final_pipe_best.predict(X_train)\n",
    "y_val_preds = final_pipe_best.predict(X_val)"
   ],
   "id": "bff38c8eaa4fe415",
   "outputs": [],
   "execution_count": null
  },
  {
   "metadata": {},
   "cell_type": "code",
   "source": [
    "# Evaluate the model\n",
    "train_mse = mean_squared_error(y_train, y_train_preds).round(5)\n",
    "val_mse = mean_squared_error(y_val, y_val_preds).round(5)\n",
    "train_r2 = r2_score(y_train, y_train_preds).round(5)\n",
    "val_r2 = r2_score(y_val, y_val_preds).round(5)\n",
    "\n",
    "print(\"=== Model Performance ===\")\n",
    "print(f\"Train MSE: {proj_utils_plots.beautify(train_mse)}, Train R2: {proj_utils_plots.beautify(train_r2)}\")\n",
    "print(f\"Validation MSE: {proj_utils_plots.beautify(val_mse)}, Validation R2: {proj_utils_plots.beautify(val_r2)}\")"
   ],
   "id": "36fce385b777a442",
   "outputs": [],
   "execution_count": null
  },
  {
   "metadata": {},
   "cell_type": "code",
   "source": [
    "string_to_log = f'=== Model Performance === \\n Train MSE: {train_mse}, Train R2: {train_r2} \\n Validation MSE: {val_mse}, Validation R2: {val_r2}'\n",
    "proj_utils.save_file('metrics', 'validation_metrics.txt', proj_configs.PATH_OUT_MODELS, string_to_log)"
   ],
   "id": "bcc70e6544b2a605",
   "outputs": [],
   "execution_count": null
  },
  {
   "metadata": {},
   "cell_type": "code",
   "source": "",
   "id": "d05ca7a227112434",
   "outputs": [],
   "execution_count": null
  }
 ],
 "metadata": {
  "kernelspec": {
   "display_name": "Python [conda env:base] *",
   "language": "python",
   "name": "conda-base-py"
  },
  "language_info": {
   "codemirror_mode": {
    "name": "ipython",
    "version": 2
   },
   "file_extension": ".py",
   "mimetype": "text/x-python",
   "name": "python",
   "nbconvert_exporter": "python",
   "pygments_lexer": "ipython2",
   "version": "2.7.6"
  }
 },
 "nbformat": 4,
 "nbformat_minor": 5
}
